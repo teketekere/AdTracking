{
 "cells": [
  {
   "cell_type": "code",
   "execution_count": 8,
   "metadata": {},
   "outputs": [
    {
     "name": "stdout",
     "output_type": "stream",
     "text": [
      "\n",
      "Next set of params..... {'max_depth': 8, 'num_leaves': 28, 'min_child_samples': 119, 'scale_pos_weight': 201.40285712270011, 'subsample': 0.77991812136599059, 'colsample_bytree': 0.88281765709565452, 'metric': 'auc', 'nthread': 8, 'boosting_type': 'dart', 'objective': 'binary', 'learning_rate': 1.12, 'max_bin': 255, 'min_child_weight': 0, 'min_split_gain': 0, 'subsample_freq': 1, 'reg_alpha': 0.62864436181538841, 'reg_lambda': 0.77085854880544802}\n"
     ]
    },
    {
     "name": "stderr",
     "output_type": "stream",
     "text": [
      "C:\\Users\\ahega\\Anaconda3\\lib\\site-packages\\lightgbm\\basic.py:1036: UserWarning: Using categorical_feature in Dataset.\n",
      "  warnings.warn('Using categorical_feature in Dataset.')\n",
      "C:\\Users\\ahega\\Anaconda3\\lib\\site-packages\\lightgbm\\basic.py:681: UserWarning: categorical_feature in param dict is overrided.\n",
      "  warnings.warn('categorical_feature in param dict is overrided.')\n"
     ]
    },
    {
     "name": "stdout",
     "output_type": "stream",
     "text": [
      "\n",
      "AUROC..... 0.989519526808 .....iter..... 3\n",
      "\n",
      "Next set of params..... {'max_depth': 3, 'num_leaves': 10, 'min_child_samples': 83, 'scale_pos_weight': 185.81306376547295, 'subsample': 0.79573970970753982, 'colsample_bytree': 0.70727232837983955, 'metric': 'auc', 'nthread': 8, 'boosting_type': 'dart', 'objective': 'binary', 'learning_rate': 1.12, 'max_bin': 255, 'min_child_weight': 0, 'min_split_gain': 0, 'subsample_freq': 1, 'reg_alpha': 0.70992536287395613, 'reg_lambda': 0.81930075409285907}\n",
      "\n",
      "AUROC..... 0.990513027297 .....iter..... 7\n",
      "\n",
      "Next set of params..... {'max_depth': 10, 'num_leaves': 9, 'min_child_samples': 58, 'scale_pos_weight': 54.414555694498738, 'subsample': 0.83608314417457208, 'colsample_bytree': 0.7589092872002634, 'metric': 'auc', 'nthread': 8, 'boosting_type': 'dart', 'objective': 'binary', 'learning_rate': 1.12, 'max_bin': 255, 'min_child_weight': 0, 'min_split_gain': 0, 'subsample_freq': 1, 'reg_alpha': 0.38390499109520204, 'reg_lambda': 0.66401952439468936}\n",
      "\n",
      "AUROC..... 0.992292976508 .....iter..... 16\n",
      "\n",
      "Next set of params..... {'max_depth': 3, 'num_leaves': 9, 'min_child_samples': 74, 'scale_pos_weight': 175.54573031485421, 'subsample': 0.86803877835061893, 'colsample_bytree': 0.66814144386132335, 'metric': 'auc', 'nthread': 8, 'boosting_type': 'dart', 'objective': 'binary', 'learning_rate': 1.12, 'max_bin': 255, 'min_child_weight': 0, 'min_split_gain': 0, 'subsample_freq': 1, 'reg_alpha': 0.34525917743118767, 'reg_lambda': 0.039428743049702571}\n",
      "\n",
      "AUROC..... 0.996600610194 .....iter..... 19\n",
      "\n",
      "Next set of params..... {'max_depth': 4, 'num_leaves': 9, 'min_child_samples': 107, 'scale_pos_weight': 105.05254108940325, 'subsample': 0.65542686855010435, 'colsample_bytree': 0.88170406101300802, 'metric': 'auc', 'nthread': 8, 'boosting_type': 'dart', 'objective': 'binary', 'learning_rate': 1.12, 'max_bin': 255, 'min_child_weight': 0, 'min_split_gain': 0, 'subsample_freq': 1, 'reg_alpha': 0.37762968405489006, 'reg_lambda': 0.91485033396390292}\n",
      "\n",
      "AUROC..... 0.992150302182 .....iter..... 4\n",
      "\n",
      "Next set of params..... {'max_depth': 7, 'num_leaves': 14, 'min_child_samples': 191, 'scale_pos_weight': 134.07824429056129, 'subsample': 0.69419809957933631, 'colsample_bytree': 0.78976783853200672, 'metric': 'auc', 'nthread': 8, 'boosting_type': 'dart', 'objective': 'binary', 'learning_rate': 1.12, 'max_bin': 255, 'min_child_weight': 0, 'min_split_gain': 0, 'subsample_freq': 1, 'reg_alpha': 0.49133816888060733, 'reg_lambda': 0.85921862180786368}\n",
      "\n",
      "AUROC..... 0.960243886101 .....iter..... 6\n",
      "\n",
      "Next set of params..... {'max_depth': 5, 'num_leaves': 14, 'min_child_samples': 178, 'scale_pos_weight': 128.05015283146315, 'subsample': 0.64984339251102619, 'colsample_bytree': 0.67291970043430371, 'metric': 'auc', 'nthread': 8, 'boosting_type': 'dart', 'objective': 'binary', 'learning_rate': 1.12, 'max_bin': 255, 'min_child_weight': 0, 'min_split_gain': 0, 'subsample_freq': 1, 'reg_alpha': 0.16557088960426961, 'reg_lambda': 0.30035788580323525}\n",
      "\n",
      "AUROC..... 0.995224759911 .....iter..... 9\n",
      "\n",
      "Next set of params..... {'max_depth': 7, 'num_leaves': 27, 'min_child_samples': 75, 'scale_pos_weight': 245.88467538153878, 'subsample': 0.87449954007647368, 'colsample_bytree': 0.66148545774525658, 'metric': 'auc', 'nthread': 8, 'boosting_type': 'dart', 'objective': 'binary', 'learning_rate': 1.12, 'max_bin': 255, 'min_child_weight': 0, 'min_split_gain': 0, 'subsample_freq': 1, 'reg_alpha': 0.44743473750451657, 'reg_lambda': 0.87631219827586027}\n",
      "\n",
      "AUROC..... 0.994813701259 .....iter..... 14\n",
      "\n",
      "Next set of params..... {'max_depth': 9, 'num_leaves': 13, 'min_child_samples': 67, 'scale_pos_weight': 345.72543799569814, 'subsample': 0.73687932825868463, 'colsample_bytree': 0.61676734804039057, 'metric': 'auc', 'nthread': 8, 'boosting_type': 'dart', 'objective': 'binary', 'learning_rate': 1.12, 'max_bin': 255, 'min_child_weight': 0, 'min_split_gain': 0, 'subsample_freq': 1, 'reg_alpha': 0.058236733094874663, 'reg_lambda': 0.28985450322120926}\n",
      "\n",
      "AUROC..... 0.994804566622 .....iter..... 3\n",
      "\n",
      "Next set of params..... {'max_depth': 6, 'num_leaves': 22, 'min_child_samples': 61, 'scale_pos_weight': 159.58378622105042, 'subsample': 0.85985257443117535, 'colsample_bytree': 0.78954919565783932, 'metric': 'auc', 'nthread': 8, 'boosting_type': 'dart', 'objective': 'binary', 'learning_rate': 1.12, 'max_bin': 255, 'min_child_weight': 0, 'min_split_gain': 0, 'subsample_freq': 1, 'reg_alpha': 0.503843517708636, 'reg_lambda': 0.22893788743260396}\n",
      "\n",
      "AUROC..... 0.990527816709 .....iter..... 12\n",
      "\n",
      "Next set of params..... {'max_depth': 3, 'num_leaves': 30, 'min_child_samples': 50, 'scale_pos_weight': 190.69471248161611, 'subsample': 0.59999999999999998, 'colsample_bytree': 0.59999999999999998, 'metric': 'auc', 'nthread': 8, 'boosting_type': 'dart', 'objective': 'binary', 'learning_rate': 1.12, 'max_bin': 255, 'min_child_weight': 0, 'min_split_gain': 0, 'subsample_freq': 1, 'reg_alpha': 0.0, 'reg_lambda': 0.0}\n"
     ]
    },
    {
     "name": "stderr",
     "output_type": "stream",
     "text": [
      "C:\\Users\\ahega\\Anaconda3\\lib\\site-packages\\lightgbm\\basic.py:1036: UserWarning: Using categorical_feature in Dataset.\n",
      "  warnings.warn('Using categorical_feature in Dataset.')\n",
      "C:\\Users\\ahega\\Anaconda3\\lib\\site-packages\\lightgbm\\basic.py:681: UserWarning: categorical_feature in param dict is overrided.\n",
      "  warnings.warn('categorical_feature in param dict is overrided.')\n"
     ]
    },
    {
     "name": "stdout",
     "output_type": "stream",
     "text": [
      "\n",
      "AUROC..... 0.98887227255 .....iter..... 3\n",
      "\n",
      "Next set of params..... {'max_depth': 10, 'num_leaves': 6, 'min_child_samples': 200, 'scale_pos_weight': 1.0, 'subsample': 0.90000000000000002, 'colsample_bytree': 0.59999999999999998, 'metric': 'auc', 'nthread': 8, 'boosting_type': 'dart', 'objective': 'binary', 'learning_rate': 1.12, 'max_bin': 255, 'min_child_weight': 0, 'min_split_gain': 0, 'subsample_freq': 1, 'reg_alpha': 1.0, 'reg_lambda': 1.0}\n"
     ]
    },
    {
     "name": "stderr",
     "output_type": "stream",
     "text": [
      "C:\\Users\\ahega\\Anaconda3\\lib\\site-packages\\lightgbm\\basic.py:1036: UserWarning: Using categorical_feature in Dataset.\n",
      "  warnings.warn('Using categorical_feature in Dataset.')\n",
      "C:\\Users\\ahega\\Anaconda3\\lib\\site-packages\\lightgbm\\basic.py:681: UserWarning: categorical_feature in param dict is overrided.\n",
      "  warnings.warn('categorical_feature in param dict is overrided.')\n"
     ]
    },
    {
     "name": "stdout",
     "output_type": "stream",
     "text": [
      "\n",
      "AUROC..... 0.972348149714 .....iter..... 25\n",
      "\n",
      "Next set of params..... {'max_depth': 9, 'num_leaves': 30, 'min_child_samples': 152, 'scale_pos_weight': 364.59751619489901, 'subsample': 0.90000000000000002, 'colsample_bytree': 0.59999999999999998, 'metric': 'auc', 'nthread': 8, 'boosting_type': 'dart', 'objective': 'binary', 'learning_rate': 1.12, 'max_bin': 255, 'min_child_weight': 0, 'min_split_gain': 0, 'subsample_freq': 1, 'reg_alpha': 0.0, 'reg_lambda': 0.0}\n"
     ]
    },
    {
     "name": "stderr",
     "output_type": "stream",
     "text": [
      "C:\\Users\\ahega\\Anaconda3\\lib\\site-packages\\lightgbm\\basic.py:1036: UserWarning: Using categorical_feature in Dataset.\n",
      "  warnings.warn('Using categorical_feature in Dataset.')\n",
      "C:\\Users\\ahega\\Anaconda3\\lib\\site-packages\\lightgbm\\basic.py:681: UserWarning: categorical_feature in param dict is overrided.\n",
      "  warnings.warn('categorical_feature in param dict is overrided.')\n"
     ]
    },
    {
     "name": "stdout",
     "output_type": "stream",
     "text": [
      "\n",
      "AUROC..... 0.990551305775 .....iter..... 3\n",
      "\n",
      "Next set of params..... {'max_depth': 3, 'num_leaves': 6, 'min_child_samples': 116, 'scale_pos_weight': 1.0, 'subsample': 0.59999999999999998, 'colsample_bytree': 0.90000000000000002, 'metric': 'auc', 'nthread': 8, 'boosting_type': 'dart', 'objective': 'binary', 'learning_rate': 1.12, 'max_bin': 255, 'min_child_weight': 0, 'min_split_gain': 0, 'subsample_freq': 1, 'reg_alpha': 1.0, 'reg_lambda': 0.0}\n"
     ]
    },
    {
     "name": "stderr",
     "output_type": "stream",
     "text": [
      "C:\\Users\\ahega\\Anaconda3\\lib\\site-packages\\lightgbm\\basic.py:1036: UserWarning: Using categorical_feature in Dataset.\n",
      "  warnings.warn('Using categorical_feature in Dataset.')\n",
      "C:\\Users\\ahega\\Anaconda3\\lib\\site-packages\\lightgbm\\basic.py:681: UserWarning: categorical_feature in param dict is overrided.\n",
      "  warnings.warn('categorical_feature in param dict is overrided.')\n"
     ]
    },
    {
     "name": "stdout",
     "output_type": "stream",
     "text": [
      "\n",
      "AUROC..... 0.5 .....iter..... 0\n",
      "\n",
      "Next set of params..... {'max_depth': 3, 'num_leaves': 30, 'min_child_samples': 50, 'scale_pos_weight': 400.0, 'subsample': 0.61076302768383695, 'colsample_bytree': 0.90000000000000002, 'metric': 'auc', 'nthread': 8, 'boosting_type': 'dart', 'objective': 'binary', 'learning_rate': 1.12, 'max_bin': 255, 'min_child_weight': 0, 'min_split_gain': 0, 'subsample_freq': 1, 'reg_alpha': 0.0, 'reg_lambda': 1.0}\n"
     ]
    },
    {
     "name": "stderr",
     "output_type": "stream",
     "text": [
      "C:\\Users\\ahega\\Anaconda3\\lib\\site-packages\\lightgbm\\basic.py:1036: UserWarning: Using categorical_feature in Dataset.\n",
      "  warnings.warn('Using categorical_feature in Dataset.')\n",
      "C:\\Users\\ahega\\Anaconda3\\lib\\site-packages\\lightgbm\\basic.py:681: UserWarning: categorical_feature in param dict is overrided.\n",
      "  warnings.warn('categorical_feature in param dict is overrided.')\n"
     ]
    },
    {
     "name": "stdout",
     "output_type": "stream",
     "text": [
      "\n",
      "AUROC..... 0.995799372059 .....iter..... 3\n",
      "\n",
      "Next set of params..... {'max_depth': 3, 'num_leaves': 30, 'min_child_samples': 50, 'scale_pos_weight': 400.0, 'subsample': 0.68447870511579056, 'colsample_bytree': 0.90000000000000002, 'metric': 'auc', 'nthread': 8, 'boosting_type': 'dart', 'objective': 'binary', 'learning_rate': 1.12, 'max_bin': 255, 'min_child_weight': 0, 'min_split_gain': 0, 'subsample_freq': 1, 'reg_alpha': 0.24844196222314746, 'reg_lambda': 1.0}\n"
     ]
    },
    {
     "name": "stderr",
     "output_type": "stream",
     "text": [
      "C:\\Users\\ahega\\Anaconda3\\lib\\site-packages\\lightgbm\\basic.py:1036: UserWarning: Using categorical_feature in Dataset.\n",
      "  warnings.warn('Using categorical_feature in Dataset.')\n",
      "C:\\Users\\ahega\\Anaconda3\\lib\\site-packages\\lightgbm\\basic.py:681: UserWarning: categorical_feature in param dict is overrided.\n",
      "  warnings.warn('categorical_feature in param dict is overrided.')\n"
     ]
    },
    {
     "name": "stdout",
     "output_type": "stream",
     "text": [
      "\n",
      "AUROC..... 0.993553556375 .....iter..... 3\n",
      "\n",
      "Next set of params..... {'max_depth': 3, 'num_leaves': 20, 'min_child_samples': 50, 'scale_pos_weight': 315.49606376924805, 'subsample': 0.59999999999999998, 'colsample_bytree': 0.90000000000000002, 'metric': 'auc', 'nthread': 8, 'boosting_type': 'dart', 'objective': 'binary', 'learning_rate': 1.12, 'max_bin': 255, 'min_child_weight': 0, 'min_split_gain': 0, 'subsample_freq': 1, 'reg_alpha': 0.25932518530604864, 'reg_lambda': 0.0}\n"
     ]
    },
    {
     "name": "stderr",
     "output_type": "stream",
     "text": [
      "C:\\Users\\ahega\\Anaconda3\\lib\\site-packages\\lightgbm\\basic.py:1036: UserWarning: Using categorical_feature in Dataset.\n",
      "  warnings.warn('Using categorical_feature in Dataset.')\n",
      "C:\\Users\\ahega\\Anaconda3\\lib\\site-packages\\lightgbm\\basic.py:681: UserWarning: categorical_feature in param dict is overrided.\n",
      "  warnings.warn('categorical_feature in param dict is overrided.')\n"
     ]
    },
    {
     "name": "stdout",
     "output_type": "stream",
     "text": [
      "\n",
      "AUROC..... 0.961925094239 .....iter..... 12\n",
      "\n",
      "Next set of params..... {'max_depth': 10, 'num_leaves': 6, 'min_child_samples': 50, 'scale_pos_weight': 1.0, 'subsample': 0.66353364978540874, 'colsample_bytree': 0.90000000000000002, 'metric': 'auc', 'nthread': 8, 'boosting_type': 'dart', 'objective': 'binary', 'learning_rate': 1.12, 'max_bin': 255, 'min_child_weight': 0, 'min_split_gain': 0, 'subsample_freq': 1, 'reg_alpha': 0.0, 'reg_lambda': 1.0}\n"
     ]
    },
    {
     "name": "stderr",
     "output_type": "stream",
     "text": [
      "C:\\Users\\ahega\\Anaconda3\\lib\\site-packages\\lightgbm\\basic.py:1036: UserWarning: Using categorical_feature in Dataset.\n",
      "  warnings.warn('Using categorical_feature in Dataset.')\n",
      "C:\\Users\\ahega\\Anaconda3\\lib\\site-packages\\lightgbm\\basic.py:681: UserWarning: categorical_feature in param dict is overrided.\n",
      "  warnings.warn('categorical_feature in param dict is overrided.')\n"
     ]
    },
    {
     "name": "stdout",
     "output_type": "stream",
     "text": [
      "\n",
      "AUROC..... 0.5 .....iter..... 0\n",
      "\n",
      "Next set of params..... {'max_depth': 3, 'num_leaves': 6, 'min_child_samples': 89, 'scale_pos_weight': 68.416488697441835, 'subsample': 0.90000000000000002, 'colsample_bytree': 0.59999999999999998, 'metric': 'auc', 'nthread': 8, 'boosting_type': 'dart', 'objective': 'binary', 'learning_rate': 1.12, 'max_bin': 255, 'min_child_weight': 0, 'min_split_gain': 0, 'subsample_freq': 1, 'reg_alpha': 1.0, 'reg_lambda': 0.0}\n"
     ]
    },
    {
     "name": "stderr",
     "output_type": "stream",
     "text": [
      "C:\\Users\\ahega\\Anaconda3\\lib\\site-packages\\lightgbm\\basic.py:1036: UserWarning: Using categorical_feature in Dataset.\n",
      "  warnings.warn('Using categorical_feature in Dataset.')\n",
      "C:\\Users\\ahega\\Anaconda3\\lib\\site-packages\\lightgbm\\basic.py:681: UserWarning: categorical_feature in param dict is overrided.\n",
      "  warnings.warn('categorical_feature in param dict is overrided.')\n"
     ]
    },
    {
     "name": "stdout",
     "output_type": "stream",
     "text": [
      "\n",
      "AUROC..... 0.995524897975 .....iter..... 71\n",
      "\n",
      "Next set of params..... {'max_depth': 3, 'num_leaves': 9, 'min_child_samples': 70, 'scale_pos_weight': 124.14732571976205, 'subsample': 0.59999999999999998, 'colsample_bytree': 0.73213101092233146, 'metric': 'auc', 'nthread': 8, 'boosting_type': 'dart', 'objective': 'binary', 'learning_rate': 1.12, 'max_bin': 255, 'min_child_weight': 0, 'min_split_gain': 0, 'subsample_freq': 1, 'reg_alpha': 0.79590136060366024, 'reg_lambda': 0.40560208575816165}\n"
     ]
    },
    {
     "name": "stderr",
     "output_type": "stream",
     "text": [
      "C:\\Users\\ahega\\Anaconda3\\lib\\site-packages\\lightgbm\\basic.py:1036: UserWarning: Using categorical_feature in Dataset.\n",
      "  warnings.warn('Using categorical_feature in Dataset.')\n",
      "C:\\Users\\ahega\\Anaconda3\\lib\\site-packages\\lightgbm\\basic.py:681: UserWarning: categorical_feature in param dict is overrided.\n",
      "  warnings.warn('categorical_feature in param dict is overrided.')\n"
     ]
    },
    {
     "name": "stdout",
     "output_type": "stream",
     "text": [
      "\n",
      "AUROC..... 0.984674689488 .....iter..... 5\n",
      "\n",
      "Next set of params..... {'max_depth': 10, 'num_leaves': 23, 'min_child_samples': 188, 'scale_pos_weight': 290.28574633794102, 'subsample': 0.85368411473290173, 'colsample_bytree': 0.59999999999999998, 'metric': 'auc', 'nthread': 8, 'boosting_type': 'dart', 'objective': 'binary', 'learning_rate': 1.12, 'max_bin': 255, 'min_child_weight': 0, 'min_split_gain': 0, 'subsample_freq': 1, 'reg_alpha': 0.96038419701065503, 'reg_lambda': 0.4828591069688184}\n"
     ]
    },
    {
     "name": "stderr",
     "output_type": "stream",
     "text": [
      "C:\\Users\\ahega\\Anaconda3\\lib\\site-packages\\lightgbm\\basic.py:1036: UserWarning: Using categorical_feature in Dataset.\n",
      "  warnings.warn('Using categorical_feature in Dataset.')\n",
      "C:\\Users\\ahega\\Anaconda3\\lib\\site-packages\\lightgbm\\basic.py:681: UserWarning: categorical_feature in param dict is overrided.\n",
      "  warnings.warn('categorical_feature in param dict is overrided.')\n"
     ]
    },
    {
     "name": "stdout",
     "output_type": "stream",
     "text": [
      "\n",
      "AUROC..... 0.990797940966 .....iter..... 5\n",
      "\n",
      "Next set of params..... {'max_depth': 3, 'num_leaves': 17, 'min_child_samples': 199, 'scale_pos_weight': 169.38884640616621, 'subsample': 0.75023638397479353, 'colsample_bytree': 0.66959517037686245, 'metric': 'auc', 'nthread': 8, 'boosting_type': 'dart', 'objective': 'binary', 'learning_rate': 1.12, 'max_bin': 255, 'min_child_weight': 0, 'min_split_gain': 0, 'subsample_freq': 1, 'reg_alpha': 0.0078904132020251438, 'reg_lambda': 0.69905162732846515}\n"
     ]
    },
    {
     "name": "stderr",
     "output_type": "stream",
     "text": [
      "C:\\Users\\ahega\\Anaconda3\\lib\\site-packages\\lightgbm\\basic.py:1036: UserWarning: Using categorical_feature in Dataset.\n",
      "  warnings.warn('Using categorical_feature in Dataset.')\n",
      "C:\\Users\\ahega\\Anaconda3\\lib\\site-packages\\lightgbm\\basic.py:681: UserWarning: categorical_feature in param dict is overrided.\n",
      "  warnings.warn('categorical_feature in param dict is overrided.')\n"
     ]
    },
    {
     "name": "stdout",
     "output_type": "stream",
     "text": [
      "\n",
      "AUROC..... 0.992256872944 .....iter..... 3\n",
      "\n",
      "Next set of params..... {'max_depth': 8, 'num_leaves': 6, 'min_child_samples': 50, 'scale_pos_weight': 67.335114276009335, 'subsample': 0.88668260188407433, 'colsample_bytree': 0.73101319336886339, 'metric': 'auc', 'nthread': 8, 'boosting_type': 'dart', 'objective': 'binary', 'learning_rate': 1.12, 'max_bin': 255, 'min_child_weight': 0, 'min_split_gain': 0, 'subsample_freq': 1, 'reg_alpha': 0.64042279292300386, 'reg_lambda': 0.064280895157287132}\n"
     ]
    },
    {
     "name": "stderr",
     "output_type": "stream",
     "text": [
      "C:\\Users\\ahega\\Anaconda3\\lib\\site-packages\\lightgbm\\basic.py:1036: UserWarning: Using categorical_feature in Dataset.\n",
      "  warnings.warn('Using categorical_feature in Dataset.')\n",
      "C:\\Users\\ahega\\Anaconda3\\lib\\site-packages\\lightgbm\\basic.py:681: UserWarning: categorical_feature in param dict is overrided.\n",
      "  warnings.warn('categorical_feature in param dict is overrided.')\n"
     ]
    },
    {
     "name": "stdout",
     "output_type": "stream",
     "text": [
      "\n",
      "AUROC..... 0.984927849419 .....iter..... 27\n",
      "\n",
      "Next set of params..... {'max_depth': 10, 'num_leaves': 15, 'min_child_samples': 50, 'scale_pos_weight': 258.65402721666419, 'subsample': 0.82671022193799493, 'colsample_bytree': 0.90000000000000002, 'metric': 'auc', 'nthread': 8, 'boosting_type': 'dart', 'objective': 'binary', 'learning_rate': 1.12, 'max_bin': 255, 'min_child_weight': 0, 'min_split_gain': 0, 'subsample_freq': 1, 'reg_alpha': 0.72538048906908015, 'reg_lambda': 0.0}\n"
     ]
    },
    {
     "name": "stderr",
     "output_type": "stream",
     "text": [
      "C:\\Users\\ahega\\Anaconda3\\lib\\site-packages\\lightgbm\\basic.py:1036: UserWarning: Using categorical_feature in Dataset.\n",
      "  warnings.warn('Using categorical_feature in Dataset.')\n",
      "C:\\Users\\ahega\\Anaconda3\\lib\\site-packages\\lightgbm\\basic.py:681: UserWarning: categorical_feature in param dict is overrided.\n",
      "  warnings.warn('categorical_feature in param dict is overrided.')\n"
     ]
    },
    {
     "name": "stdout",
     "output_type": "stream",
     "text": [
      "\n",
      "AUROC..... 0.97187880338 .....iter..... 6\n",
      "\n",
      "Next set of params..... {'max_depth': 5, 'num_leaves': 11, 'min_child_samples': 117, 'scale_pos_weight': 400.0, 'subsample': 0.68750908209907668, 'colsample_bytree': 0.6865228082463728, 'metric': 'auc', 'nthread': 8, 'boosting_type': 'dart', 'objective': 'binary', 'learning_rate': 1.12, 'max_bin': 255, 'min_child_weight': 0, 'min_split_gain': 0, 'subsample_freq': 1, 'reg_alpha': 0.2091641769085332, 'reg_lambda': 0.21429951074036666}\n"
     ]
    },
    {
     "name": "stderr",
     "output_type": "stream",
     "text": [
      "C:\\Users\\ahega\\Anaconda3\\lib\\site-packages\\lightgbm\\basic.py:1036: UserWarning: Using categorical_feature in Dataset.\n",
      "  warnings.warn('Using categorical_feature in Dataset.')\n",
      "C:\\Users\\ahega\\Anaconda3\\lib\\site-packages\\lightgbm\\basic.py:681: UserWarning: categorical_feature in param dict is overrided.\n",
      "  warnings.warn('categorical_feature in param dict is overrided.')\n"
     ]
    },
    {
     "name": "stdout",
     "output_type": "stream",
     "text": [
      "\n",
      "AUROC..... 0.994669287002 .....iter..... 3\n",
      "\n",
      "Next set of params..... {'max_depth': 9, 'num_leaves': 18, 'min_child_samples': 50, 'scale_pos_weight': 318.91010900371487, 'subsample': 0.87588162765858468, 'colsample_bytree': 0.77165941732128884, 'metric': 'auc', 'nthread': 8, 'boosting_type': 'dart', 'objective': 'binary', 'learning_rate': 1.12, 'max_bin': 255, 'min_child_weight': 0, 'min_split_gain': 0, 'subsample_freq': 1, 'reg_alpha': 0.35886886170566512, 'reg_lambda': 0.0}\n"
     ]
    },
    {
     "name": "stderr",
     "output_type": "stream",
     "text": [
      "C:\\Users\\ahega\\Anaconda3\\lib\\site-packages\\lightgbm\\basic.py:1036: UserWarning: Using categorical_feature in Dataset.\n",
      "  warnings.warn('Using categorical_feature in Dataset.')\n",
      "C:\\Users\\ahega\\Anaconda3\\lib\\site-packages\\lightgbm\\basic.py:681: UserWarning: categorical_feature in param dict is overrided.\n",
      "  warnings.warn('categorical_feature in param dict is overrided.')\n"
     ]
    },
    {
     "name": "stdout",
     "output_type": "stream",
     "text": [
      "\n",
      "AUROC..... 0.981720286984 .....iter..... 5\n",
      "\n",
      "Next set of params..... {'max_depth': 10, 'num_leaves': 30, 'min_child_samples': 50, 'scale_pos_weight': 34.389085380045756, 'subsample': 0.59999999999999998, 'colsample_bytree': 0.59999999999999998, 'metric': 'auc', 'nthread': 8, 'boosting_type': 'dart', 'objective': 'binary', 'learning_rate': 1.12, 'max_bin': 255, 'min_child_weight': 0, 'min_split_gain': 0, 'subsample_freq': 1, 'reg_alpha': 0.40827603308026567, 'reg_lambda': 1.0}\n"
     ]
    },
    {
     "name": "stderr",
     "output_type": "stream",
     "text": [
      "C:\\Users\\ahega\\Anaconda3\\lib\\site-packages\\lightgbm\\basic.py:1036: UserWarning: Using categorical_feature in Dataset.\n",
      "  warnings.warn('Using categorical_feature in Dataset.')\n",
      "C:\\Users\\ahega\\Anaconda3\\lib\\site-packages\\lightgbm\\basic.py:681: UserWarning: categorical_feature in param dict is overrided.\n",
      "  warnings.warn('categorical_feature in param dict is overrided.')\n"
     ]
    },
    {
     "name": "stdout",
     "output_type": "stream",
     "text": [
      "\n",
      "AUROC..... 0.992977639279 .....iter..... 39\n",
      "\n",
      "Next set of params..... {'max_depth': 3, 'num_leaves': 10, 'min_child_samples': 50, 'scale_pos_weight': 143.08800411632035, 'subsample': 0.90000000000000002, 'colsample_bytree': 0.90000000000000002, 'metric': 'auc', 'nthread': 8, 'boosting_type': 'dart', 'objective': 'binary', 'learning_rate': 1.12, 'max_bin': 255, 'min_child_weight': 0, 'min_split_gain': 0, 'subsample_freq': 1, 'reg_alpha': 1.0, 'reg_lambda': 0.0}\n"
     ]
    },
    {
     "name": "stderr",
     "output_type": "stream",
     "text": [
      "C:\\Users\\ahega\\Anaconda3\\lib\\site-packages\\lightgbm\\basic.py:1036: UserWarning: Using categorical_feature in Dataset.\n",
      "  warnings.warn('Using categorical_feature in Dataset.')\n",
      "C:\\Users\\ahega\\Anaconda3\\lib\\site-packages\\lightgbm\\basic.py:681: UserWarning: categorical_feature in param dict is overrided.\n",
      "  warnings.warn('categorical_feature in param dict is overrided.')\n"
     ]
    },
    {
     "name": "stdout",
     "output_type": "stream",
     "text": [
      "\n",
      "AUROC..... 0.988360732894 .....iter..... 16\n",
      "\n",
      "Next set of params..... {'max_depth': 10, 'num_leaves': 6, 'min_child_samples': 50, 'scale_pos_weight': 400.0, 'subsample': 0.59999999999999998, 'colsample_bytree': 0.79935999864423923, 'metric': 'auc', 'nthread': 8, 'boosting_type': 'dart', 'objective': 'binary', 'learning_rate': 1.12, 'max_bin': 255, 'min_child_weight': 0, 'min_split_gain': 0, 'subsample_freq': 1, 'reg_alpha': 0.0, 'reg_lambda': 0.0}\n"
     ]
    },
    {
     "name": "stderr",
     "output_type": "stream",
     "text": [
      "C:\\Users\\ahega\\Anaconda3\\lib\\site-packages\\lightgbm\\basic.py:1036: UserWarning: Using categorical_feature in Dataset.\n",
      "  warnings.warn('Using categorical_feature in Dataset.')\n",
      "C:\\Users\\ahega\\Anaconda3\\lib\\site-packages\\lightgbm\\basic.py:681: UserWarning: categorical_feature in param dict is overrided.\n",
      "  warnings.warn('categorical_feature in param dict is overrided.')\n"
     ]
    },
    {
     "name": "stdout",
     "output_type": "stream",
     "text": [
      "\n",
      "AUROC..... 0.976197311633 .....iter..... 3\n",
      "\n",
      "Next set of params..... {'max_depth': 3, 'num_leaves': 6, 'min_child_samples': 50, 'scale_pos_weight': 136.30022681376147, 'subsample': 0.90000000000000002, 'colsample_bytree': 0.61132455959295295, 'metric': 'auc', 'nthread': 8, 'boosting_type': 'dart', 'objective': 'binary', 'learning_rate': 1.12, 'max_bin': 255, 'min_child_weight': 0, 'min_split_gain': 0, 'subsample_freq': 1, 'reg_alpha': 1.0, 'reg_lambda': 0.0}\n"
     ]
    },
    {
     "name": "stderr",
     "output_type": "stream",
     "text": [
      "C:\\Users\\ahega\\Anaconda3\\lib\\site-packages\\lightgbm\\basic.py:1036: UserWarning: Using categorical_feature in Dataset.\n",
      "  warnings.warn('Using categorical_feature in Dataset.')\n",
      "C:\\Users\\ahega\\Anaconda3\\lib\\site-packages\\lightgbm\\basic.py:681: UserWarning: categorical_feature in param dict is overrided.\n",
      "  warnings.warn('categorical_feature in param dict is overrided.')\n"
     ]
    },
    {
     "name": "stdout",
     "output_type": "stream",
     "text": [
      "\n",
      "AUROC..... 0.998450156637 .....iter..... 6\n",
      "Best score=-0.9985\n"
     ]
    },
    {
     "data": {
      "text/plain": [
       "<matplotlib.axes._subplots.AxesSubplot at 0x21a0122de10>"
      ]
     },
     "execution_count": 8,
     "metadata": {},
     "output_type": "execute_result"
    },
    {
     "data": {
      "image/png": "[encoded data removed]",
      "text/plain": [
       "<Figure size 432x288 with 1 Axes>"
      ]
     },
     "metadata": {},
     "output_type": "display_data"
    }
   ],
   "source": [
    "import pandas as pd\n",
    "import numpy as np\n",
    "import xgboost as xgb\n",
    "import lightgbm as lgb\n",
    "import gc\n",
    "\n",
    "from skopt.space import Real, Integer\n",
    "from skopt.utils import use_named_args\n",
    "import itertools\n",
    "from sklearn.metrics import roc_auc_score\n",
    "from skopt import gp_minimize\n",
    "%matplotlib inline\n",
    "\n",
    "def objective(values):\n",
    "    params = {'max_depth': values[0], \n",
    "          'num_leaves': values[1], \n",
    "          'min_child_samples': values[2], \n",
    "          'scale_pos_weight': values[3],\n",
    "            'subsample': values[4],\n",
    "            'colsample_bytree': values[5],\n",
    "             'metric':'auc',\n",
    "             'nthread': 8,\n",
    "             'boosting_type': 'dart',\n",
    "             'objective': 'binary',\n",
    "             'learning_rate': 1.12,\n",
    "             'max_bin': 255,\n",
    "             'min_child_weight': 0,\n",
    "             'min_split_gain': 0,\n",
    "             'subsample_freq': 1,\n",
    "             'reg_alpha': values[6],\n",
    "              'reg_lambda': values[7]\n",
    "             }\n",
    "    \n",
    "\n",
    "    print('\\nNext set of params.....',params)\n",
    "    \n",
    "    feature_set = ['app','device','os','channel']\n",
    "    categorical = ['app','device','os','channel']\n",
    "    \n",
    "    \n",
    "    early_stopping_rounds = 50\n",
    "    num_boost_round       = 1000\n",
    "    \n",
    "        # Fit model on feature_set and calculate validation AUROC\n",
    "    xgtrain = lgb.Dataset(train[feature_set].values, label=y_train,feature_name=feature_set,\n",
    "                           categorical_feature=categorical)\n",
    "    xgvalid = lgb.Dataset(val[feature_set].values, label=y_val,feature_name=feature_set,\n",
    "                          categorical_feature=categorical)\n",
    "    \n",
    "    evals_results = {}\n",
    "    model_lgb     = lgb.train(params,xgtrain,valid_sets=[xgtrain, xgvalid], \n",
    "                              valid_names=['train','valid'], \n",
    "                               evals_result=evals_results, \n",
    "                               num_boost_round=num_boost_round,\n",
    "                                early_stopping_rounds=early_stopping_rounds,\n",
    "                               verbose_eval=None, feval=None)\n",
    "    \n",
    "    auc = -roc_auc_score(y_val, model_lgb.predict(val[model_lgb.feature_name()]))\n",
    "    \n",
    "    print('\\nAUROC.....',-auc,\".....iter.....\", model_lgb.current_iteration())\n",
    "    \n",
    "    gc.collect()\n",
    "    \n",
    "    return  auc\n",
    "\n",
    "TRAINING_SIZE = 300000\n",
    "TEST_SIZE = 50000\n",
    "\n",
    "# Load data\n",
    "train = pd.read_csv(\n",
    "    '../input/train.csv', \n",
    "    skiprows=range(1,184903891-TRAINING_SIZE-TEST_SIZE), \n",
    "    nrows=TRAINING_SIZE,\n",
    "    parse_dates=['click_time']\n",
    ")\n",
    "\n",
    "val = pd.read_csv(\n",
    "    '../input/train.csv', \n",
    "    skiprows=range(1,184903891-TEST_SIZE), \n",
    "    nrows=TEST_SIZE,\n",
    "    parse_dates=['click_time']\n",
    ")\n",
    "\n",
    "# Split into X and y\n",
    "y_train = train['is_attributed']\n",
    "y_val = val['is_attributed']\n",
    "\n",
    "# from that dimension (`'log-uniform'` for the learning rate)\n",
    "space  = [Integer(3, 10, name='max_depth'),\n",
    "          Integer(6, 30, name='num_leaves'),\n",
    "          Integer(50, 200, name='min_child_samples'),\n",
    "          Real(1, 400,  name='scale_pos_weight'),\n",
    "          Real(0.6, 0.9, name='subsample'),\n",
    "          Real(0.6, 0.9, name='colsample_bytree'),\n",
    "          Real(0.0, 1.0, name='reg_alpha'),\n",
    "          Real(0.0, 1.0, name='reg_lambda')          \n",
    "         ]\n",
    "\n",
    "res_gp = gp_minimize(objective, space, n_calls=30,\n",
    "                     random_state=987,n_random_starts=10)\n",
    "\n",
    "print(\"Best score=%.4f\" % res_gp.fun)\n",
    "\n",
    "from skopt.plots import plot_convergence\n",
    "\n",
    "plot_convergence(res_gp)"
   ]
  },
  {
   "cell_type": "code",
   "execution_count": 3,
   "metadata": {},
   "outputs": [
    {
     "name": "stdout",
     "output_type": "stream",
     "text": [
      "\n",
      "Next set of params..... {'max_depth': 77, 'num_leaves': 28, 'min_child_samples': 119, 'scale_pos_weight': 201.40285712270011, 'subsample': 0.77991812136599059, 'colsample_bytree': 0.88281765709565452, 'metric': 'auc', 'nthread': 8, 'boosting_type': 'rf', 'objective': 'binary', 'learning_rate': 0.11286443618153884, 'max_bin': 100, 'min_child_weight': 0, 'min_split_gain': 0, 'subsample_freq': 1}\n"
     ]
    },
    {
     "name": "stderr",
     "output_type": "stream",
     "text": [
      "C:\\Users\\ahega\\Anaconda3\\lib\\site-packages\\lightgbm\\basic.py:1036: UserWarning: Using categorical_feature in Dataset.\n",
      "  warnings.warn('Using categorical_feature in Dataset.')\n",
      "C:\\Users\\ahega\\Anaconda3\\lib\\site-packages\\lightgbm\\basic.py:681: UserWarning: categorical_feature in param dict is overrided.\n",
      "  warnings.warn('categorical_feature in param dict is overrided.')\n"
     ]
    },
    {
     "name": "stdout",
     "output_type": "stream",
     "text": [
      "\n",
      "AUROC..... 0.987592553444 .....iter..... 3\n",
      "\n",
      "Next set of params..... {'max_depth': 78, 'num_leaves': 7, 'min_child_samples': 75, 'scale_pos_weight': 89.199560288784184, 'subsample': 0.73895719080110744, 'colsample_bytree': 0.79573970970753982, 'metric': 'auc', 'nthread': 8, 'boosting_type': 'rf', 'objective': 'binary', 'learning_rate': 0.085757442793279848, 'max_bin': 100, 'min_child_weight': 0, 'min_split_gain': 0, 'subsample_freq': 1}\n",
      "\n",
      "AUROC..... 0.975801042393 .....iter..... 160\n",
      "\n",
      "Next set of params..... {'max_depth': 72, 'num_leaves': 26, 'min_child_samples': 191, 'scale_pos_weight': 56.550216148078619, 'subsample': 0.61678384201062952, 'colsample_bytree': 0.64016132007105164, 'metric': 'auc', 'nthread': 8, 'boosting_type': 'rf', 'objective': 'binary', 'learning_rate': 0.128694381391524, 'max_bin': 100, 'min_child_weight': 0, 'min_split_gain': 0, 'subsample_freq': 1}\n",
      "\n",
      "AUROC..... 0.97424641422 .....iter..... 5\n",
      "\n",
      "Next set of params..... {'max_depth': 54, 'num_leaves': 15, 'min_child_samples': 150, 'scale_pos_weight': 15.228047559585651, 'subsample': 0.63914564093873705, 'colsample_bytree': 0.64839230391776281, 'metric': 'auc', 'nthread': 8, 'boosting_type': 'rf', 'objective': 'binary', 'learning_rate': 0.093745797071392023, 'max_bin': 100, 'min_child_weight': 0, 'min_split_gain': 0, 'subsample_freq': 1}\n",
      "\n",
      "AUROC..... 0.975690556787 .....iter..... 29\n",
      "\n",
      "Next set of params..... {'max_depth': 90, 'num_leaves': 11, 'min_child_samples': 102, 'scale_pos_weight': 16.732068476831326, 'subsample': 0.64503778315617688, 'colsample_bytree': 0.63681045232218636, 'metric': 'auc', 'nthread': 8, 'boosting_type': 'rf', 'objective': 'binary', 'learning_rate': 0.0881334614400269, 'max_bin': 100, 'min_child_weight': 0, 'min_split_gain': 0, 'subsample_freq': 1}\n",
      "\n",
      "AUROC..... 0.975687076925 .....iter..... 16\n",
      "\n",
      "Next set of params..... {'max_depth': 28, 'num_leaves': 10, 'min_child_samples': 191, 'scale_pos_weight': 151.67424393790114, 'subsample': 0.87445510018917094, 'colsample_bytree': 0.75737003008446002, 'metric': 'auc', 'nthread': 8, 'boosting_type': 'rf', 'objective': 'binary', 'learning_rate': 0.082424934800348959, 'max_bin': 100, 'min_child_weight': 0, 'min_split_gain': 0, 'subsample_freq': 1}\n",
      "\n",
      "AUROC..... 0.976406538312 .....iter..... 1\n",
      "\n",
      "Next set of params..... {'max_depth': 94, 'num_leaves': 14, 'min_child_samples': 97, 'scale_pos_weight': 253.39122524756891, 'subsample': 0.74740145066418218, 'colsample_bytree': 0.85776558654235913, 'metric': 'auc', 'nthread': 8, 'boosting_type': 'rf', 'objective': 'binary', 'learning_rate': 0.07620125946452945, 'max_bin': 100, 'min_child_weight': 0, 'min_split_gain': 0, 'subsample_freq': 1}\n",
      "\n",
      "AUROC..... 0.990754877679 .....iter..... 7\n",
      "\n",
      "Next set of params..... {'max_depth': 34, 'num_leaves': 26, 'min_child_samples': 98, 'scale_pos_weight': 67.291712039664773, 'subsample': 0.67291970043430371, 'colsample_bytree': 0.64967126688128085, 'metric': 'auc', 'nthread': 8, 'boosting_type': 'rf', 'objective': 'binary', 'learning_rate': 0.080035788580323522, 'max_bin': 100, 'min_child_weight': 0, 'min_split_gain': 0, 'subsample_freq': 1}\n",
      "\n",
      "AUROC..... 0.974930642008 .....iter..... 5\n",
      "\n",
      "Next set of params..... {'max_depth': 62, 'num_leaves': 27, 'min_child_samples': 75, 'scale_pos_weight': 245.88467538153878, 'subsample': 0.87449954007647368, 'colsample_bytree': 0.66148545774525658, 'metric': 'auc', 'nthread': 8, 'boosting_type': 'rf', 'objective': 'binary', 'learning_rate': 0.094743473750451654, 'max_bin': 100, 'min_child_weight': 0, 'min_split_gain': 0, 'subsample_freq': 1}\n",
      "\n",
      "AUROC..... 0.991011082489 .....iter..... 9\n",
      "\n",
      "Next set of params..... {'max_depth': 88, 'num_leaves': 28, 'min_child_samples': 91, 'scale_pos_weight': 46.364459651470234, 'subsample': 0.85919205864338211, 'colsample_bytree': 0.73687932825868463, 'metric': 'auc', 'nthread': 8, 'boosting_type': 'rf', 'objective': 'binary', 'learning_rate': 0.055589116013463551, 'max_bin': 100, 'min_child_weight': 0, 'min_split_gain': 0, 'subsample_freq': 1}\n",
      "\n",
      "AUROC..... 0.973760973526 .....iter..... 11\n",
      "\n",
      "Next set of params..... {'max_depth': 100, 'num_leaves': 30, 'min_child_samples': 50, 'scale_pos_weight': 400.0, 'subsample': 0.59999999999999998, 'colsample_bytree': 0.8263421936332529, 'metric': 'auc', 'nthread': 8, 'boosting_type': 'rf', 'objective': 'binary', 'learning_rate': 0.14999999999999999, 'max_bin': 100, 'min_child_weight': 0, 'min_split_gain': 0, 'subsample_freq': 1}\n"
     ]
    },
    {
     "name": "stderr",
     "output_type": "stream",
     "text": [
      "C:\\Users\\ahega\\Anaconda3\\lib\\site-packages\\lightgbm\\basic.py:1036: UserWarning: Using categorical_feature in Dataset.\n",
      "  warnings.warn('Using categorical_feature in Dataset.')\n",
      "C:\\Users\\ahega\\Anaconda3\\lib\\site-packages\\lightgbm\\basic.py:681: UserWarning: categorical_feature in param dict is overrided.\n",
      "  warnings.warn('categorical_feature in param dict is overrided.')\n"
     ]
    },
    {
     "name": "stdout",
     "output_type": "stream",
     "text": [
      "\n",
      "AUROC..... 0.990289446189 .....iter..... 13\n",
      "\n",
      "Next set of params..... {'max_depth': 3, 'num_leaves': 6, 'min_child_samples': 200, 'scale_pos_weight': 400.0, 'subsample': 0.90000000000000002, 'colsample_bytree': 0.59999999999999998, 'metric': 'auc', 'nthread': 8, 'boosting_type': 'rf', 'objective': 'binary', 'learning_rate': 0.050000000000000003, 'max_bin': 100, 'min_child_weight': 0, 'min_split_gain': 0, 'subsample_freq': 1}\n"
     ]
    },
    {
     "name": "stderr",
     "output_type": "stream",
     "text": [
      "C:\\Users\\ahega\\Anaconda3\\lib\\site-packages\\lightgbm\\basic.py:1036: UserWarning: Using categorical_feature in Dataset.\n",
      "  warnings.warn('Using categorical_feature in Dataset.')\n",
      "C:\\Users\\ahega\\Anaconda3\\lib\\site-packages\\lightgbm\\basic.py:681: UserWarning: categorical_feature in param dict is overrided.\n",
      "  warnings.warn('categorical_feature in param dict is overrided.')\n"
     ]
    },
    {
     "name": "stdout",
     "output_type": "stream",
     "text": [
      "\n",
      "AUROC..... 0.988449034382 .....iter..... 5\n",
      "\n",
      "Next set of params..... {'max_depth': 3, 'num_leaves': 30, 'min_child_samples': 50, 'scale_pos_weight': 321.48239613420714, 'subsample': 0.59999999999999998, 'colsample_bytree': 0.90000000000000002, 'metric': 'auc', 'nthread': 8, 'boosting_type': 'rf', 'objective': 'binary', 'learning_rate': 0.14999999999999999, 'max_bin': 100, 'min_child_weight': 0, 'min_split_gain': 0, 'subsample_freq': 1}\n"
     ]
    },
    {
     "name": "stderr",
     "output_type": "stream",
     "text": [
      "C:\\Users\\ahega\\Anaconda3\\lib\\site-packages\\lightgbm\\basic.py:1036: UserWarning: Using categorical_feature in Dataset.\n",
      "  warnings.warn('Using categorical_feature in Dataset.')\n",
      "C:\\Users\\ahega\\Anaconda3\\lib\\site-packages\\lightgbm\\basic.py:681: UserWarning: categorical_feature in param dict is overrided.\n",
      "  warnings.warn('categorical_feature in param dict is overrided.')\n"
     ]
    },
    {
     "name": "stdout",
     "output_type": "stream",
     "text": [
      "\n",
      "AUROC..... 0.98999322297 .....iter..... 1\n",
      "\n",
      "Next set of params..... {'max_depth': 79, 'num_leaves': 7, 'min_child_samples': 200, 'scale_pos_weight': 322.4117060077217, 'subsample': 0.60078193903393529, 'colsample_bytree': 0.63134803092225766, 'metric': 'auc', 'nthread': 8, 'boosting_type': 'rf', 'objective': 'binary', 'learning_rate': 0.10129659870325217, 'max_bin': 100, 'min_child_weight': 0, 'min_split_gain': 0, 'subsample_freq': 1}\n"
     ]
    },
    {
     "name": "stderr",
     "output_type": "stream",
     "text": [
      "C:\\Users\\ahega\\Anaconda3\\lib\\site-packages\\lightgbm\\basic.py:1036: UserWarning: Using categorical_feature in Dataset.\n",
      "  warnings.warn('Using categorical_feature in Dataset.')\n",
      "C:\\Users\\ahega\\Anaconda3\\lib\\site-packages\\lightgbm\\basic.py:681: UserWarning: categorical_feature in param dict is overrided.\n",
      "  warnings.warn('categorical_feature in param dict is overrided.')\n"
     ]
    },
    {
     "name": "stdout",
     "output_type": "stream",
     "text": [
      "\n",
      "AUROC..... 0.988750912376 .....iter..... 3\n",
      "\n",
      "Next set of params..... {'max_depth': 73, 'num_leaves': 30, 'min_child_samples': 81, 'scale_pos_weight': 397.38420182454388, 'subsample': 0.76766092368587002, 'colsample_bytree': 0.84087220263193529, 'metric': 'auc', 'nthread': 8, 'boosting_type': 'rf', 'objective': 'binary', 'learning_rate': 0.050259128534582115, 'max_bin': 100, 'min_child_weight': 0, 'min_split_gain': 0, 'subsample_freq': 1}\n"
     ]
    },
    {
     "name": "stderr",
     "output_type": "stream",
     "text": [
      "C:\\Users\\ahega\\Anaconda3\\lib\\site-packages\\lightgbm\\basic.py:1036: UserWarning: Using categorical_feature in Dataset.\n",
      "  warnings.warn('Using categorical_feature in Dataset.')\n",
      "C:\\Users\\ahega\\Anaconda3\\lib\\site-packages\\lightgbm\\basic.py:681: UserWarning: categorical_feature in param dict is overrided.\n",
      "  warnings.warn('categorical_feature in param dict is overrided.')\n"
     ]
    },
    {
     "name": "stdout",
     "output_type": "stream",
     "text": [
      "\n",
      "AUROC..... 0.988852698328 .....iter..... 7\n",
      "\n",
      "Next set of params..... {'max_depth': 92, 'num_leaves': 30, 'min_child_samples': 68, 'scale_pos_weight': 311.4019359169892, 'subsample': 0.60116525778743113, 'colsample_bytree': 0.63143001071668403, 'metric': 'auc', 'nthread': 8, 'boosting_type': 'rf', 'objective': 'binary', 'learning_rate': 0.052176034982961264, 'max_bin': 100, 'min_child_weight': 0, 'min_split_gain': 0, 'subsample_freq': 1}\n"
     ]
    },
    {
     "name": "stderr",
     "output_type": "stream",
     "text": [
      "C:\\Users\\ahega\\Anaconda3\\lib\\site-packages\\lightgbm\\basic.py:1036: UserWarning: Using categorical_feature in Dataset.\n",
      "  warnings.warn('Using categorical_feature in Dataset.')\n",
      "C:\\Users\\ahega\\Anaconda3\\lib\\site-packages\\lightgbm\\basic.py:681: UserWarning: categorical_feature in param dict is overrided.\n",
      "  warnings.warn('categorical_feature in param dict is overrided.')\n"
     ]
    },
    {
     "name": "stdout",
     "output_type": "stream",
     "text": [
      "\n",
      "AUROC..... 0.98789138656 .....iter..... 3\n",
      "\n",
      "Next set of params..... {'max_depth': 12, 'num_leaves': 8, 'min_child_samples': 52, 'scale_pos_weight': 395.06272095018551, 'subsample': 0.85560500261940975, 'colsample_bytree': 0.76846441573821578, 'metric': 'auc', 'nthread': 8, 'boosting_type': 'rf', 'objective': 'binary', 'learning_rate': 0.13772289754932474, 'max_bin': 100, 'min_child_weight': 0, 'min_split_gain': 0, 'subsample_freq': 1}\n"
     ]
    },
    {
     "name": "stderr",
     "output_type": "stream",
     "text": [
      "C:\\Users\\ahega\\Anaconda3\\lib\\site-packages\\lightgbm\\basic.py:1036: UserWarning: Using categorical_feature in Dataset.\n",
      "  warnings.warn('Using categorical_feature in Dataset.')\n",
      "C:\\Users\\ahega\\Anaconda3\\lib\\site-packages\\lightgbm\\basic.py:681: UserWarning: categorical_feature in param dict is overrided.\n",
      "  warnings.warn('categorical_feature in param dict is overrided.')\n"
     ]
    },
    {
     "name": "stdout",
     "output_type": "stream",
     "text": [
      "\n",
      "AUROC..... 0.98949081795 .....iter..... 1\n",
      "\n",
      "Next set of params..... {'max_depth': 80, 'num_leaves': 29, 'min_child_samples': 187, 'scale_pos_weight': 398.89523704531496, 'subsample': 0.65051108398260205, 'colsample_bytree': 0.87559123649240367, 'metric': 'auc', 'nthread': 8, 'boosting_type': 'rf', 'objective': 'binary', 'learning_rate': 0.050975682216562394, 'max_bin': 100, 'min_child_weight': 0, 'min_split_gain': 0, 'subsample_freq': 1}\n"
     ]
    },
    {
     "name": "stderr",
     "output_type": "stream",
     "text": [
      "C:\\Users\\ahega\\Anaconda3\\lib\\site-packages\\lightgbm\\basic.py:1036: UserWarning: Using categorical_feature in Dataset.\n",
      "  warnings.warn('Using categorical_feature in Dataset.')\n",
      "C:\\Users\\ahega\\Anaconda3\\lib\\site-packages\\lightgbm\\basic.py:681: UserWarning: categorical_feature in param dict is overrided.\n",
      "  warnings.warn('categorical_feature in param dict is overrided.')\n"
     ]
    },
    {
     "name": "stdout",
     "output_type": "stream",
     "text": [
      "\n",
      "AUROC..... 0.989833584318 .....iter..... 9\n",
      "\n",
      "Next set of params..... {'max_depth': 100, 'num_leaves': 6, 'min_child_samples': 50, 'scale_pos_weight': 341.1975307058479, 'subsample': 0.90000000000000002, 'colsample_bytree': 0.90000000000000002, 'metric': 'auc', 'nthread': 8, 'boosting_type': 'rf', 'objective': 'binary', 'learning_rate': 0.14999999999999999, 'max_bin': 100, 'min_child_weight': 0, 'min_split_gain': 0, 'subsample_freq': 1}\n"
     ]
    },
    {
     "name": "stderr",
     "output_type": "stream",
     "text": [
      "C:\\Users\\ahega\\Anaconda3\\lib\\site-packages\\lightgbm\\basic.py:1036: UserWarning: Using categorical_feature in Dataset.\n",
      "  warnings.warn('Using categorical_feature in Dataset.')\n",
      "C:\\Users\\ahega\\Anaconda3\\lib\\site-packages\\lightgbm\\basic.py:681: UserWarning: categorical_feature in param dict is overrided.\n",
      "  warnings.warn('categorical_feature in param dict is overrided.')\n"
     ]
    },
    {
     "name": "stdout",
     "output_type": "stream",
     "text": [
      "\n",
      "AUROC..... 0.990986288475 .....iter..... 4\n",
      "\n",
      "Next set of params..... {'max_depth': 100, 'num_leaves': 30, 'min_child_samples': 50, 'scale_pos_weight': 342.49958313393023, 'subsample': 0.90000000000000002, 'colsample_bytree': 0.90000000000000002, 'metric': 'auc', 'nthread': 8, 'boosting_type': 'rf', 'objective': 'binary', 'learning_rate': 0.14999999999999999, 'max_bin': 100, 'min_child_weight': 0, 'min_split_gain': 0, 'subsample_freq': 1}\n"
     ]
    },
    {
     "name": "stderr",
     "output_type": "stream",
     "text": [
      "C:\\Users\\ahega\\Anaconda3\\lib\\site-packages\\lightgbm\\basic.py:1036: UserWarning: Using categorical_feature in Dataset.\n",
      "  warnings.warn('Using categorical_feature in Dataset.')\n",
      "C:\\Users\\ahega\\Anaconda3\\lib\\site-packages\\lightgbm\\basic.py:681: UserWarning: categorical_feature in param dict is overrided.\n",
      "  warnings.warn('categorical_feature in param dict is overrided.')\n"
     ]
    },
    {
     "name": "stdout",
     "output_type": "stream",
     "text": [
      "\n",
      "AUROC..... 0.989351188503 .....iter..... 1\n",
      "\n",
      "Next set of params..... {'max_depth': 89, 'num_leaves': 8, 'min_child_samples': 176, 'scale_pos_weight': 399.89992942519871, 'subsample': 0.6030968301149372, 'colsample_bytree': 0.87483037589971857, 'metric': 'auc', 'nthread': 8, 'boosting_type': 'rf', 'objective': 'binary', 'learning_rate': 0.071308265836034168, 'max_bin': 100, 'min_child_weight': 0, 'min_split_gain': 0, 'subsample_freq': 1}\n"
     ]
    },
    {
     "name": "stderr",
     "output_type": "stream",
     "text": [
      "C:\\Users\\ahega\\Anaconda3\\lib\\site-packages\\lightgbm\\basic.py:1036: UserWarning: Using categorical_feature in Dataset.\n",
      "  warnings.warn('Using categorical_feature in Dataset.')\n",
      "C:\\Users\\ahega\\Anaconda3\\lib\\site-packages\\lightgbm\\basic.py:681: UserWarning: categorical_feature in param dict is overrided.\n",
      "  warnings.warn('categorical_feature in param dict is overrided.')\n"
     ]
    },
    {
     "name": "stdout",
     "output_type": "stream",
     "text": [
      "\n",
      "AUROC..... 0.991261197542 .....iter..... 3\n",
      "\n",
      "Next set of params..... {'max_depth': 100, 'num_leaves': 11, 'min_child_samples': 52, 'scale_pos_weight': 391.19966200274092, 'subsample': 0.87276478068132413, 'colsample_bytree': 0.60789219165774966, 'metric': 'auc', 'nthread': 8, 'boosting_type': 'rf', 'objective': 'binary', 'learning_rate': 0.070891228039156512, 'max_bin': 100, 'min_child_weight': 0, 'min_split_gain': 0, 'subsample_freq': 1}\n"
     ]
    },
    {
     "name": "stderr",
     "output_type": "stream",
     "text": [
      "C:\\Users\\ahega\\Anaconda3\\lib\\site-packages\\lightgbm\\basic.py:1036: UserWarning: Using categorical_feature in Dataset.\n",
      "  warnings.warn('Using categorical_feature in Dataset.')\n",
      "C:\\Users\\ahega\\Anaconda3\\lib\\site-packages\\lightgbm\\basic.py:681: UserWarning: categorical_feature in param dict is overrided.\n",
      "  warnings.warn('categorical_feature in param dict is overrided.')\n"
     ]
    },
    {
     "name": "stdout",
     "output_type": "stream",
     "text": [
      "\n",
      "AUROC..... 0.990435600376 .....iter..... 41\n",
      "\n",
      "Next set of params..... {'max_depth': 19, 'num_leaves': 11, 'min_child_samples': 190, 'scale_pos_weight': 394.51337124965784, 'subsample': 0.89392761653681752, 'colsample_bytree': 0.65801872261001515, 'metric': 'auc', 'nthread': 8, 'boosting_type': 'rf', 'objective': 'binary', 'learning_rate': 0.14944626066799049, 'max_bin': 100, 'min_child_weight': 0, 'min_split_gain': 0, 'subsample_freq': 1}\n"
     ]
    },
    {
     "name": "stderr",
     "output_type": "stream",
     "text": [
      "C:\\Users\\ahega\\Anaconda3\\lib\\site-packages\\lightgbm\\basic.py:1036: UserWarning: Using categorical_feature in Dataset.\n",
      "  warnings.warn('Using categorical_feature in Dataset.')\n",
      "C:\\Users\\ahega\\Anaconda3\\lib\\site-packages\\lightgbm\\basic.py:681: UserWarning: categorical_feature in param dict is overrided.\n",
      "  warnings.warn('categorical_feature in param dict is overrided.')\n"
     ]
    },
    {
     "name": "stdout",
     "output_type": "stream",
     "text": [
      "\n",
      "AUROC..... 0.988818334695 .....iter..... 5\n",
      "\n",
      "Next set of params..... {'max_depth': 100, 'num_leaves': 30, 'min_child_samples': 50, 'scale_pos_weight': 400.0, 'subsample': 0.59999999999999998, 'colsample_bytree': 0.59999999999999998, 'metric': 'auc', 'nthread': 8, 'boosting_type': 'rf', 'objective': 'binary', 'learning_rate': 0.14999999999999999, 'max_bin': 100, 'min_child_weight': 0, 'min_split_gain': 0, 'subsample_freq': 1}\n"
     ]
    },
    {
     "name": "stderr",
     "output_type": "stream",
     "text": [
      "C:\\Users\\ahega\\Anaconda3\\lib\\site-packages\\lightgbm\\basic.py:1036: UserWarning: Using categorical_feature in Dataset.\n",
      "  warnings.warn('Using categorical_feature in Dataset.')\n",
      "C:\\Users\\ahega\\Anaconda3\\lib\\site-packages\\lightgbm\\basic.py:681: UserWarning: categorical_feature in param dict is overrided.\n",
      "  warnings.warn('categorical_feature in param dict is overrided.')\n"
     ]
    },
    {
     "name": "stdout",
     "output_type": "stream",
     "text": [
      "\n",
      "AUROC..... 0.992299936232 .....iter..... 9\n",
      "\n",
      "Next set of params..... {'max_depth': 3, 'num_leaves': 7, 'min_child_samples': 162, 'scale_pos_weight': 394.36015227419642, 'subsample': 0.6074736258755451, 'colsample_bytree': 0.81920351271114389, 'metric': 'auc', 'nthread': 8, 'boosting_type': 'rf', 'objective': 'binary', 'learning_rate': 0.14718473815491204, 'max_bin': 100, 'min_child_weight': 0, 'min_split_gain': 0, 'subsample_freq': 1}\n"
     ]
    },
    {
     "name": "stderr",
     "output_type": "stream",
     "text": [
      "C:\\Users\\ahega\\Anaconda3\\lib\\site-packages\\lightgbm\\basic.py:1036: UserWarning: Using categorical_feature in Dataset.\n",
      "  warnings.warn('Using categorical_feature in Dataset.')\n",
      "C:\\Users\\ahega\\Anaconda3\\lib\\site-packages\\lightgbm\\basic.py:681: UserWarning: categorical_feature in param dict is overrided.\n",
      "  warnings.warn('categorical_feature in param dict is overrided.')\n"
     ]
    },
    {
     "name": "stdout",
     "output_type": "stream",
     "text": [
      "\n",
      "AUROC..... 0.990161996257 .....iter..... 1\n",
      "\n",
      "Next set of params..... {'max_depth': 98, 'num_leaves': 28, 'min_child_samples': 199, 'scale_pos_weight': 377.22699516307409, 'subsample': 0.88476830060465939, 'colsample_bytree': 0.71146947816539197, 'metric': 'auc', 'nthread': 8, 'boosting_type': 'rf', 'objective': 'binary', 'learning_rate': 0.14667948672265868, 'max_bin': 100, 'min_child_weight': 0, 'min_split_gain': 0, 'subsample_freq': 1}\n"
     ]
    },
    {
     "name": "stderr",
     "output_type": "stream",
     "text": [
      "C:\\Users\\ahega\\Anaconda3\\lib\\site-packages\\lightgbm\\basic.py:1036: UserWarning: Using categorical_feature in Dataset.\n",
      "  warnings.warn('Using categorical_feature in Dataset.')\n",
      "C:\\Users\\ahega\\Anaconda3\\lib\\site-packages\\lightgbm\\basic.py:681: UserWarning: categorical_feature in param dict is overrided.\n",
      "  warnings.warn('categorical_feature in param dict is overrided.')\n"
     ]
    },
    {
     "name": "stdout",
     "output_type": "stream",
     "text": [
      "\n",
      "AUROC..... 0.991271202144 .....iter..... 6\n",
      "\n",
      "Next set of params..... {'max_depth': 100, 'num_leaves': 6, 'min_child_samples': 50, 'scale_pos_weight': 400.0, 'subsample': 0.59999999999999998, 'colsample_bytree': 0.90000000000000002, 'metric': 'auc', 'nthread': 8, 'boosting_type': 'rf', 'objective': 'binary', 'learning_rate': 0.14999999999999999, 'max_bin': 100, 'min_child_weight': 0, 'min_split_gain': 0, 'subsample_freq': 1}\n"
     ]
    },
    {
     "name": "stderr",
     "output_type": "stream",
     "text": [
      "C:\\Users\\ahega\\Anaconda3\\lib\\site-packages\\lightgbm\\basic.py:1036: UserWarning: Using categorical_feature in Dataset.\n",
      "  warnings.warn('Using categorical_feature in Dataset.')\n",
      "C:\\Users\\ahega\\Anaconda3\\lib\\site-packages\\lightgbm\\basic.py:681: UserWarning: categorical_feature in param dict is overrided.\n",
      "  warnings.warn('categorical_feature in param dict is overrided.')\n"
     ]
    },
    {
     "name": "stdout",
     "output_type": "stream",
     "text": [
      "\n",
      "AUROC..... 0.990319025012 .....iter..... 3\n",
      "\n",
      "Next set of params..... {'max_depth': 7, 'num_leaves': 28, 'min_child_samples': 191, 'scale_pos_weight': 395.78241197041018, 'subsample': 0.63083520893512901, 'colsample_bytree': 0.82356921219285451, 'metric': 'auc', 'nthread': 8, 'boosting_type': 'rf', 'objective': 'binary', 'learning_rate': 0.055999957997403121, 'max_bin': 100, 'min_child_weight': 0, 'min_split_gain': 0, 'subsample_freq': 1}\n"
     ]
    },
    {
     "name": "stderr",
     "output_type": "stream",
     "text": [
      "C:\\Users\\ahega\\Anaconda3\\lib\\site-packages\\lightgbm\\basic.py:1036: UserWarning: Using categorical_feature in Dataset.\n",
      "  warnings.warn('Using categorical_feature in Dataset.')\n",
      "C:\\Users\\ahega\\Anaconda3\\lib\\site-packages\\lightgbm\\basic.py:681: UserWarning: categorical_feature in param dict is overrided.\n",
      "  warnings.warn('categorical_feature in param dict is overrided.')\n"
     ]
    },
    {
     "name": "stdout",
     "output_type": "stream",
     "text": [
      "\n",
      "AUROC..... 0.989709179266 .....iter..... 1\n",
      "\n",
      "Next set of params..... {'max_depth': 10, 'num_leaves': 7, 'min_child_samples': 59, 'scale_pos_weight': 395.76620977645911, 'subsample': 0.63790356757111577, 'colsample_bytree': 0.63324088032498915, 'metric': 'auc', 'nthread': 8, 'boosting_type': 'rf', 'objective': 'binary', 'learning_rate': 0.06264525167479007, 'max_bin': 100, 'min_child_weight': 0, 'min_split_gain': 0, 'subsample_freq': 1}\n"
     ]
    },
    {
     "name": "stderr",
     "output_type": "stream",
     "text": [
      "C:\\Users\\ahega\\Anaconda3\\lib\\site-packages\\lightgbm\\basic.py:1036: UserWarning: Using categorical_feature in Dataset.\n",
      "  warnings.warn('Using categorical_feature in Dataset.')\n",
      "C:\\Users\\ahega\\Anaconda3\\lib\\site-packages\\lightgbm\\basic.py:681: UserWarning: categorical_feature in param dict is overrided.\n",
      "  warnings.warn('categorical_feature in param dict is overrided.')\n"
     ]
    },
    {
     "name": "stdout",
     "output_type": "stream",
     "text": [
      "\n",
      "AUROC..... 0.989018426737 .....iter..... 3\n",
      "\n",
      "Next set of params..... {'max_depth': 81, 'num_leaves': 9, 'min_child_samples': 198, 'scale_pos_weight': 288.86847204200916, 'subsample': 0.66601441178927456, 'colsample_bytree': 0.61667876400093002, 'metric': 'auc', 'nthread': 8, 'boosting_type': 'rf', 'objective': 'binary', 'learning_rate': 0.14786209628583619, 'max_bin': 100, 'min_child_weight': 0, 'min_split_gain': 0, 'subsample_freq': 1}\n"
     ]
    },
    {
     "name": "stderr",
     "output_type": "stream",
     "text": [
      "C:\\Users\\ahega\\Anaconda3\\lib\\site-packages\\lightgbm\\basic.py:1036: UserWarning: Using categorical_feature in Dataset.\n",
      "  warnings.warn('Using categorical_feature in Dataset.')\n",
      "C:\\Users\\ahega\\Anaconda3\\lib\\site-packages\\lightgbm\\basic.py:681: UserWarning: categorical_feature in param dict is overrided.\n",
      "  warnings.warn('categorical_feature in param dict is overrided.')\n"
     ]
    },
    {
     "name": "stdout",
     "output_type": "stream",
     "text": [
      "\n",
      "AUROC..... 0.988624767393 .....iter..... 3\n"
     ]
    },
    {
     "name": "stderr",
     "output_type": "stream",
     "text": [
      "C:\\Users\\ahega\\Anaconda3\\lib\\site-packages\\skopt\\optimizer\\optimizer.py:399: UserWarning: The objective has been evaluated at this point before.\n",
      "  warnings.warn(\"The objective has been evaluated \"\n",
      "C:\\Users\\ahega\\Anaconda3\\lib\\site-packages\\lightgbm\\basic.py:1036: UserWarning: Using categorical_feature in Dataset.\n",
      "  warnings.warn('Using categorical_feature in Dataset.')\n",
      "C:\\Users\\ahega\\Anaconda3\\lib\\site-packages\\lightgbm\\basic.py:681: UserWarning: categorical_feature in param dict is overrided.\n",
      "  warnings.warn('categorical_feature in param dict is overrided.')\n"
     ]
    },
    {
     "name": "stdout",
     "output_type": "stream",
     "text": [
      "\n",
      "Next set of params..... {'max_depth': 100, 'num_leaves': 30, 'min_child_samples': 50, 'scale_pos_weight': 400.0, 'subsample': 0.59999999999999998, 'colsample_bytree': 0.59999999999999998, 'metric': 'auc', 'nthread': 8, 'boosting_type': 'rf', 'objective': 'binary', 'learning_rate': 0.14999999999999999, 'max_bin': 100, 'min_child_weight': 0, 'min_split_gain': 0, 'subsample_freq': 1}\n",
      "\n",
      "AUROC..... 0.992299936232 .....iter..... 9\n",
      "\n",
      "Next set of params..... {'max_depth': 6, 'num_leaves': 29, 'min_child_samples': 82, 'scale_pos_weight': 399.74088995459567, 'subsample': 0.87712607823176181, 'colsample_bytree': 0.89520935596016216, 'metric': 'auc', 'nthread': 8, 'boosting_type': 'rf', 'objective': 'binary', 'learning_rate': 0.14252451548065598, 'max_bin': 100, 'min_child_weight': 0, 'min_split_gain': 0, 'subsample_freq': 1}\n"
     ]
    },
    {
     "name": "stderr",
     "output_type": "stream",
     "text": [
      "C:\\Users\\ahega\\Anaconda3\\lib\\site-packages\\lightgbm\\basic.py:1036: UserWarning: Using categorical_feature in Dataset.\n",
      "  warnings.warn('Using categorical_feature in Dataset.')\n",
      "C:\\Users\\ahega\\Anaconda3\\lib\\site-packages\\lightgbm\\basic.py:681: UserWarning: categorical_feature in param dict is overrided.\n",
      "  warnings.warn('categorical_feature in param dict is overrided.')\n"
     ]
    },
    {
     "name": "stdout",
     "output_type": "stream",
     "text": [
      "\n",
      "AUROC..... 0.990013232174 .....iter..... 1\n"
     ]
    },
    {
     "name": "stderr",
     "output_type": "stream",
     "text": [
      "C:\\Users\\ahega\\Anaconda3\\lib\\site-packages\\skopt\\optimizer\\optimizer.py:399: UserWarning: The objective has been evaluated at this point before.\n",
      "  warnings.warn(\"The objective has been evaluated \"\n",
      "C:\\Users\\ahega\\Anaconda3\\lib\\site-packages\\lightgbm\\basic.py:1036: UserWarning: Using categorical_feature in Dataset.\n",
      "  warnings.warn('Using categorical_feature in Dataset.')\n",
      "C:\\Users\\ahega\\Anaconda3\\lib\\site-packages\\lightgbm\\basic.py:681: UserWarning: categorical_feature in param dict is overrided.\n",
      "  warnings.warn('categorical_feature in param dict is overrided.')\n"
     ]
    },
    {
     "name": "stdout",
     "output_type": "stream",
     "text": [
      "\n",
      "Next set of params..... {'max_depth': 100, 'num_leaves': 30, 'min_child_samples': 50, 'scale_pos_weight': 400.0, 'subsample': 0.59999999999999998, 'colsample_bytree': 0.59999999999999998, 'metric': 'auc', 'nthread': 8, 'boosting_type': 'rf', 'objective': 'binary', 'learning_rate': 0.14999999999999999, 'max_bin': 100, 'min_child_weight': 0, 'min_split_gain': 0, 'subsample_freq': 1}\n",
      "\n",
      "AUROC..... 0.992299936232 .....iter..... 9\n",
      "\n",
      "Next set of params..... {'max_depth': 100, 'num_leaves': 30, 'min_child_samples': 50, 'scale_pos_weight': 400.0, 'subsample': 0.90000000000000002, 'colsample_bytree': 0.59999999999999998, 'metric': 'auc', 'nthread': 8, 'boosting_type': 'rf', 'objective': 'binary', 'learning_rate': 0.14999999999999999, 'max_bin': 100, 'min_child_weight': 0, 'min_split_gain': 0, 'subsample_freq': 1}\n"
     ]
    },
    {
     "name": "stderr",
     "output_type": "stream",
     "text": [
      "C:\\Users\\ahega\\Anaconda3\\lib\\site-packages\\lightgbm\\basic.py:1036: UserWarning: Using categorical_feature in Dataset.\n",
      "  warnings.warn('Using categorical_feature in Dataset.')\n",
      "C:\\Users\\ahega\\Anaconda3\\lib\\site-packages\\lightgbm\\basic.py:681: UserWarning: categorical_feature in param dict is overrided.\n",
      "  warnings.warn('categorical_feature in param dict is overrided.')\n"
     ]
    },
    {
     "name": "stdout",
     "output_type": "stream",
     "text": [
      "\n",
      "AUROC..... 0.986056194545 .....iter..... 31\n"
     ]
    },
    {
     "name": "stderr",
     "output_type": "stream",
     "text": [
      "C:\\Users\\ahega\\Anaconda3\\lib\\site-packages\\skopt\\optimizer\\optimizer.py:399: UserWarning: The objective has been evaluated at this point before.\n",
      "  warnings.warn(\"The objective has been evaluated \"\n",
      "C:\\Users\\ahega\\Anaconda3\\lib\\site-packages\\lightgbm\\basic.py:1036: UserWarning: Using categorical_feature in Dataset.\n",
      "  warnings.warn('Using categorical_feature in Dataset.')\n",
      "C:\\Users\\ahega\\Anaconda3\\lib\\site-packages\\lightgbm\\basic.py:681: UserWarning: categorical_feature in param dict is overrided.\n",
      "  warnings.warn('categorical_feature in param dict is overrided.')\n"
     ]
    },
    {
     "name": "stdout",
     "output_type": "stream",
     "text": [
      "\n",
      "Next set of params..... {'max_depth': 100, 'num_leaves': 6, 'min_child_samples': 50, 'scale_pos_weight': 400.0, 'subsample': 0.59999999999999998, 'colsample_bytree': 0.90000000000000002, 'metric': 'auc', 'nthread': 8, 'boosting_type': 'rf', 'objective': 'binary', 'learning_rate': 0.14999999999999999, 'max_bin': 100, 'min_child_weight': 0, 'min_split_gain': 0, 'subsample_freq': 1}\n",
      "\n",
      "AUROC..... 0.990319025012 .....iter..... 3\n",
      "\n",
      "Next set of params..... {'max_depth': 9, 'num_leaves': 27, 'min_child_samples': 69, 'scale_pos_weight': 287.99136465753588, 'subsample': 0.61681109293233105, 'colsample_bytree': 0.81490548246778338, 'metric': 'auc', 'nthread': 8, 'boosting_type': 'rf', 'objective': 'binary', 'learning_rate': 0.057270681645738224, 'max_bin': 100, 'min_child_weight': 0, 'min_split_gain': 0, 'subsample_freq': 1}\n"
     ]
    },
    {
     "name": "stderr",
     "output_type": "stream",
     "text": [
      "C:\\Users\\ahega\\Anaconda3\\lib\\site-packages\\lightgbm\\basic.py:1036: UserWarning: Using categorical_feature in Dataset.\n",
      "  warnings.warn('Using categorical_feature in Dataset.')\n",
      "C:\\Users\\ahega\\Anaconda3\\lib\\site-packages\\lightgbm\\basic.py:681: UserWarning: categorical_feature in param dict is overrided.\n",
      "  warnings.warn('categorical_feature in param dict is overrided.')\n"
     ]
    },
    {
     "name": "stdout",
     "output_type": "stream",
     "text": [
      "\n",
      "AUROC..... 0.990803160758 .....iter..... 1\n",
      "\n",
      "Next set of params..... {'max_depth': 10, 'num_leaves': 23, 'min_child_samples': 50, 'scale_pos_weight': 304.75466380911996, 'subsample': 0.65984373447582167, 'colsample_bytree': 0.61199814719172763, 'metric': 'auc', 'nthread': 8, 'boosting_type': 'rf', 'objective': 'binary', 'learning_rate': 0.054549083566437388, 'max_bin': 100, 'min_child_weight': 0, 'min_split_gain': 0, 'subsample_freq': 1}\n"
     ]
    },
    {
     "name": "stderr",
     "output_type": "stream",
     "text": [
      "C:\\Users\\ahega\\Anaconda3\\lib\\site-packages\\lightgbm\\basic.py:1036: UserWarning: Using categorical_feature in Dataset.\n",
      "  warnings.warn('Using categorical_feature in Dataset.')\n",
      "C:\\Users\\ahega\\Anaconda3\\lib\\site-packages\\lightgbm\\basic.py:681: UserWarning: categorical_feature in param dict is overrided.\n",
      "  warnings.warn('categorical_feature in param dict is overrided.')\n"
     ]
    },
    {
     "name": "stdout",
     "output_type": "stream",
     "text": [
      "\n",
      "AUROC..... 0.988088433723 .....iter..... 5\n",
      "\n",
      "Next set of params..... {'max_depth': 100, 'num_leaves': 30, 'min_child_samples': 200, 'scale_pos_weight': 400.0, 'subsample': 0.59999999999999998, 'colsample_bytree': 0.90000000000000002, 'metric': 'auc', 'nthread': 8, 'boosting_type': 'rf', 'objective': 'binary', 'learning_rate': 0.14999999999999999, 'max_bin': 100, 'min_child_weight': 0, 'min_split_gain': 0, 'subsample_freq': 1}\n"
     ]
    },
    {
     "name": "stderr",
     "output_type": "stream",
     "text": [
      "C:\\Users\\ahega\\Anaconda3\\lib\\site-packages\\lightgbm\\basic.py:1036: UserWarning: Using categorical_feature in Dataset.\n",
      "  warnings.warn('Using categorical_feature in Dataset.')\n",
      "C:\\Users\\ahega\\Anaconda3\\lib\\site-packages\\lightgbm\\basic.py:681: UserWarning: categorical_feature in param dict is overrided.\n",
      "  warnings.warn('categorical_feature in param dict is overrided.')\n"
     ]
    },
    {
     "name": "stdout",
     "output_type": "stream",
     "text": [
      "\n",
      "AUROC..... 0.98931682487 .....iter..... 1\n",
      "\n",
      "Next set of params..... {'max_depth': 7, 'num_leaves': 27, 'min_child_samples': 174, 'scale_pos_weight': 292.1266891181458, 'subsample': 0.89932457457450021, 'colsample_bytree': 0.89787696126605065, 'metric': 'auc', 'nthread': 8, 'boosting_type': 'rf', 'objective': 'binary', 'learning_rate': 0.13680095422350277, 'max_bin': 100, 'min_child_weight': 0, 'min_split_gain': 0, 'subsample_freq': 1}\n"
     ]
    },
    {
     "name": "stderr",
     "output_type": "stream",
     "text": [
      "C:\\Users\\ahega\\Anaconda3\\lib\\site-packages\\lightgbm\\basic.py:1036: UserWarning: Using categorical_feature in Dataset.\n",
      "  warnings.warn('Using categorical_feature in Dataset.')\n",
      "C:\\Users\\ahega\\Anaconda3\\lib\\site-packages\\lightgbm\\basic.py:681: UserWarning: categorical_feature in param dict is overrided.\n",
      "  warnings.warn('categorical_feature in param dict is overrided.')\n"
     ]
    },
    {
     "name": "stdout",
     "output_type": "stream",
     "text": [
      "\n",
      "AUROC..... 0.990236378299 .....iter..... 1\n",
      "\n",
      "Next set of params..... {'max_depth': 90, 'num_leaves': 7, 'min_child_samples': 197, 'scale_pos_weight': 333.46586588851051, 'subsample': 0.72129367878266359, 'colsample_bytree': 0.6126645550540325, 'metric': 'auc', 'nthread': 8, 'boosting_type': 'rf', 'objective': 'binary', 'learning_rate': 0.051515373870621051, 'max_bin': 100, 'min_child_weight': 0, 'min_split_gain': 0, 'subsample_freq': 1}\n"
     ]
    },
    {
     "name": "stderr",
     "output_type": "stream",
     "text": [
      "C:\\Users\\ahega\\Anaconda3\\lib\\site-packages\\lightgbm\\basic.py:1036: UserWarning: Using categorical_feature in Dataset.\n",
      "  warnings.warn('Using categorical_feature in Dataset.')\n",
      "C:\\Users\\ahega\\Anaconda3\\lib\\site-packages\\lightgbm\\basic.py:681: UserWarning: categorical_feature in param dict is overrided.\n",
      "  warnings.warn('categorical_feature in param dict is overrided.')\n"
     ]
    },
    {
     "name": "stdout",
     "output_type": "stream",
     "text": [
      "\n",
      "AUROC..... 0.98852602632 .....iter..... 5\n",
      "\n",
      "Next set of params..... {'max_depth': 100, 'num_leaves': 30, 'min_child_samples': 50, 'scale_pos_weight': 346.8035276281924, 'subsample': 0.59999999999999998, 'colsample_bytree': 0.90000000000000002, 'metric': 'auc', 'nthread': 8, 'boosting_type': 'rf', 'objective': 'binary', 'learning_rate': 0.14999999999999999, 'max_bin': 100, 'min_child_weight': 0, 'min_split_gain': 0, 'subsample_freq': 1}\n"
     ]
    },
    {
     "name": "stderr",
     "output_type": "stream",
     "text": [
      "C:\\Users\\ahega\\Anaconda3\\lib\\site-packages\\lightgbm\\basic.py:1036: UserWarning: Using categorical_feature in Dataset.\n",
      "  warnings.warn('Using categorical_feature in Dataset.')\n",
      "C:\\Users\\ahega\\Anaconda3\\lib\\site-packages\\lightgbm\\basic.py:681: UserWarning: categorical_feature in param dict is overrided.\n",
      "  warnings.warn('categorical_feature in param dict is overrided.')\n"
     ]
    },
    {
     "name": "stdout",
     "output_type": "stream",
     "text": [
      "\n",
      "AUROC..... 0.99088232761 .....iter..... 1\n",
      "\n",
      "Next set of params..... {'max_depth': 27, 'num_leaves': 8, 'min_child_samples': 179, 'scale_pos_weight': 288.97438026537839, 'subsample': 0.60536110429493017, 'colsample_bytree': 0.62891480505411046, 'metric': 'auc', 'nthread': 8, 'boosting_type': 'rf', 'objective': 'binary', 'learning_rate': 0.14129329236547611, 'max_bin': 100, 'min_child_weight': 0, 'min_split_gain': 0, 'subsample_freq': 1}\n"
     ]
    },
    {
     "name": "stderr",
     "output_type": "stream",
     "text": [
      "C:\\Users\\ahega\\Anaconda3\\lib\\site-packages\\lightgbm\\basic.py:1036: UserWarning: Using categorical_feature in Dataset.\n",
      "  warnings.warn('Using categorical_feature in Dataset.')\n",
      "C:\\Users\\ahega\\Anaconda3\\lib\\site-packages\\lightgbm\\basic.py:681: UserWarning: categorical_feature in param dict is overrided.\n",
      "  warnings.warn('categorical_feature in param dict is overrided.')\n"
     ]
    },
    {
     "name": "stdout",
     "output_type": "stream",
     "text": [
      "\n",
      "AUROC..... 0.988892716737 .....iter..... 5\n",
      "\n",
      "Next set of params..... {'max_depth': 6, 'num_leaves': 29, 'min_child_samples': 51, 'scale_pos_weight': 392.48661805900724, 'subsample': 0.87900944249009094, 'colsample_bytree': 0.72448934347148397, 'metric': 'auc', 'nthread': 8, 'boosting_type': 'rf', 'objective': 'binary', 'learning_rate': 0.051353522094092136, 'max_bin': 100, 'min_child_weight': 0, 'min_split_gain': 0, 'subsample_freq': 1}\n"
     ]
    },
    {
     "name": "stderr",
     "output_type": "stream",
     "text": [
      "C:\\Users\\ahega\\Anaconda3\\lib\\site-packages\\lightgbm\\basic.py:1036: UserWarning: Using categorical_feature in Dataset.\n",
      "  warnings.warn('Using categorical_feature in Dataset.')\n",
      "C:\\Users\\ahega\\Anaconda3\\lib\\site-packages\\lightgbm\\basic.py:681: UserWarning: categorical_feature in param dict is overrided.\n",
      "  warnings.warn('categorical_feature in param dict is overrided.')\n"
     ]
    },
    {
     "name": "stdout",
     "output_type": "stream",
     "text": [
      "\n",
      "AUROC..... 0.988228933135 .....iter..... 3\n",
      "\n",
      "Next set of params..... {'max_depth': 100, 'num_leaves': 6, 'min_child_samples': 50, 'scale_pos_weight': 350.11769696627294, 'subsample': 0.59999999999999998, 'colsample_bytree': 0.90000000000000002, 'metric': 'auc', 'nthread': 8, 'boosting_type': 'rf', 'objective': 'binary', 'learning_rate': 0.14999999999999999, 'max_bin': 100, 'min_child_weight': 0, 'min_split_gain': 0, 'subsample_freq': 1}\n"
     ]
    },
    {
     "name": "stderr",
     "output_type": "stream",
     "text": [
      "C:\\Users\\ahega\\Anaconda3\\lib\\site-packages\\lightgbm\\basic.py:1036: UserWarning: Using categorical_feature in Dataset.\n",
      "  warnings.warn('Using categorical_feature in Dataset.')\n",
      "C:\\Users\\ahega\\Anaconda3\\lib\\site-packages\\lightgbm\\basic.py:681: UserWarning: categorical_feature in param dict is overrided.\n",
      "  warnings.warn('categorical_feature in param dict is overrided.')\n"
     ]
    },
    {
     "name": "stdout",
     "output_type": "stream",
     "text": [
      "\n",
      "AUROC..... 0.990151991655 .....iter..... 1\n",
      "\n",
      "Next set of params..... {'max_depth': 100, 'num_leaves': 30, 'min_child_samples': 200, 'scale_pos_weight': 358.15746069733177, 'subsample': 0.59999999999999998, 'colsample_bytree': 0.90000000000000002, 'metric': 'auc', 'nthread': 8, 'boosting_type': 'rf', 'objective': 'binary', 'learning_rate': 0.14999999999999999, 'max_bin': 100, 'min_child_weight': 0, 'min_split_gain': 0, 'subsample_freq': 1}\n"
     ]
    },
    {
     "name": "stderr",
     "output_type": "stream",
     "text": [
      "C:\\Users\\ahega\\Anaconda3\\lib\\site-packages\\lightgbm\\basic.py:1036: UserWarning: Using categorical_feature in Dataset.\n",
      "  warnings.warn('Using categorical_feature in Dataset.')\n",
      "C:\\Users\\ahega\\Anaconda3\\lib\\site-packages\\lightgbm\\basic.py:681: UserWarning: categorical_feature in param dict is overrided.\n",
      "  warnings.warn('categorical_feature in param dict is overrided.')\n"
     ]
    },
    {
     "name": "stdout",
     "output_type": "stream",
     "text": [
      "\n",
      "AUROC..... 0.9905682701 .....iter..... 1\n",
      "\n",
      "Next set of params..... {'max_depth': 100, 'num_leaves': 30, 'min_child_samples': 50, 'scale_pos_weight': 400.0, 'subsample': 0.59999999999999998, 'colsample_bytree': 0.90000000000000002, 'metric': 'auc', 'nthread': 8, 'boosting_type': 'rf', 'objective': 'binary', 'learning_rate': 0.050000000000000003, 'max_bin': 100, 'min_child_weight': 0, 'min_split_gain': 0, 'subsample_freq': 1}\n"
     ]
    },
    {
     "name": "stderr",
     "output_type": "stream",
     "text": [
      "C:\\Users\\ahega\\Anaconda3\\lib\\site-packages\\lightgbm\\basic.py:1036: UserWarning: Using categorical_feature in Dataset.\n",
      "  warnings.warn('Using categorical_feature in Dataset.')\n",
      "C:\\Users\\ahega\\Anaconda3\\lib\\site-packages\\lightgbm\\basic.py:681: UserWarning: categorical_feature in param dict is overrided.\n",
      "  warnings.warn('categorical_feature in param dict is overrided.')\n"
     ]
    },
    {
     "name": "stdout",
     "output_type": "stream",
     "text": [
      "\n",
      "AUROC..... 0.990289446189 .....iter..... 13\n",
      "\n",
      "Next set of params..... {'max_depth': 3, 'num_leaves': 30, 'min_child_samples': 50, 'scale_pos_weight': 400.0, 'subsample': 0.59999999999999998, 'colsample_bytree': 0.90000000000000002, 'metric': 'auc', 'nthread': 8, 'boosting_type': 'rf', 'objective': 'binary', 'learning_rate': 0.14999999999999999, 'max_bin': 100, 'min_child_weight': 0, 'min_split_gain': 0, 'subsample_freq': 1}\n"
     ]
    },
    {
     "name": "stderr",
     "output_type": "stream",
     "text": [
      "C:\\Users\\ahega\\Anaconda3\\lib\\site-packages\\lightgbm\\basic.py:1036: UserWarning: Using categorical_feature in Dataset.\n",
      "  warnings.warn('Using categorical_feature in Dataset.')\n",
      "C:\\Users\\ahega\\Anaconda3\\lib\\site-packages\\lightgbm\\basic.py:681: UserWarning: categorical_feature in param dict is overrided.\n",
      "  warnings.warn('categorical_feature in param dict is overrided.')\n"
     ]
    },
    {
     "name": "stdout",
     "output_type": "stream",
     "text": [
      "\n",
      "AUROC..... 0.990161996257 .....iter..... 1\n",
      "\n",
      "Next set of params..... {'max_depth': 100, 'num_leaves': 30, 'min_child_samples': 200, 'scale_pos_weight': 358.54093054584285, 'subsample': 0.59999999999999998, 'colsample_bytree': 0.59999999999999998, 'metric': 'auc', 'nthread': 8, 'boosting_type': 'rf', 'objective': 'binary', 'learning_rate': 0.14999999999999999, 'max_bin': 100, 'min_child_weight': 0, 'min_split_gain': 0, 'subsample_freq': 1}\n"
     ]
    },
    {
     "name": "stderr",
     "output_type": "stream",
     "text": [
      "C:\\Users\\ahega\\Anaconda3\\lib\\site-packages\\lightgbm\\basic.py:1036: UserWarning: Using categorical_feature in Dataset.\n",
      "  warnings.warn('Using categorical_feature in Dataset.')\n",
      "C:\\Users\\ahega\\Anaconda3\\lib\\site-packages\\lightgbm\\basic.py:681: UserWarning: categorical_feature in param dict is overrided.\n",
      "  warnings.warn('categorical_feature in param dict is overrided.')\n"
     ]
    },
    {
     "name": "stdout",
     "output_type": "stream",
     "text": [
      "\n",
      "AUROC..... 0.991711404637 .....iter..... 6\n",
      "\n",
      "Next set of params..... {'max_depth': 99, 'num_leaves': 25, 'min_child_samples': 199, 'scale_pos_weight': 327.93718814313024, 'subsample': 0.83420157439899023, 'colsample_bytree': 0.88670211807999877, 'metric': 'auc', 'nthread': 8, 'boosting_type': 'rf', 'objective': 'binary', 'learning_rate': 0.050211062371246298, 'max_bin': 100, 'min_child_weight': 0, 'min_split_gain': 0, 'subsample_freq': 1}\n"
     ]
    },
    {
     "name": "stderr",
     "output_type": "stream",
     "text": [
      "C:\\Users\\ahega\\Anaconda3\\lib\\site-packages\\lightgbm\\basic.py:1036: UserWarning: Using categorical_feature in Dataset.\n",
      "  warnings.warn('Using categorical_feature in Dataset.')\n",
      "C:\\Users\\ahega\\Anaconda3\\lib\\site-packages\\lightgbm\\basic.py:681: UserWarning: categorical_feature in param dict is overrided.\n",
      "  warnings.warn('categorical_feature in param dict is overrided.')\n"
     ]
    },
    {
     "name": "stdout",
     "output_type": "stream",
     "text": [
      "\n",
      "AUROC..... 0.989341618884 .....iter..... 1\n",
      "\n",
      "Next set of params..... {'max_depth': 95, 'num_leaves': 7, 'min_child_samples': 67, 'scale_pos_weight': 216.99100820716123, 'subsample': 0.6169854458455496, 'colsample_bytree': 0.60077711670058676, 'metric': 'auc', 'nthread': 8, 'boosting_type': 'rf', 'objective': 'binary', 'learning_rate': 0.14783552028816876, 'max_bin': 100, 'min_child_weight': 0, 'min_split_gain': 0, 'subsample_freq': 1}\n"
     ]
    },
    {
     "name": "stderr",
     "output_type": "stream",
     "text": [
      "C:\\Users\\ahega\\Anaconda3\\lib\\site-packages\\lightgbm\\basic.py:1036: UserWarning: Using categorical_feature in Dataset.\n",
      "  warnings.warn('Using categorical_feature in Dataset.')\n",
      "C:\\Users\\ahega\\Anaconda3\\lib\\site-packages\\lightgbm\\basic.py:681: UserWarning: categorical_feature in param dict is overrided.\n",
      "  warnings.warn('categorical_feature in param dict is overrided.')\n"
     ]
    },
    {
     "name": "stdout",
     "output_type": "stream",
     "text": [
      "\n",
      "AUROC..... 0.988337243828 .....iter..... 2\n",
      "Best score=-0.9923\n"
     ]
    },
    {
     "data": {
      "text/plain": [
       "<matplotlib.axes._subplots.AxesSubplot at 0x1cf116599e8>"
      ]
     },
     "execution_count": 3,
     "metadata": {},
     "output_type": "execute_result"
    },
    {
     "data": {
      "image/png": "[encoded data removed]",
      "text/plain": [
       "<Figure size 432x288 with 1 Axes>"
      ]
     },
     "metadata": {},
     "output_type": "display_data"
    }
   ],
   "source": [
    "import pandas as pd\n",
    "import numpy as np\n",
    "import xgboost as xgb\n",
    "import lightgbm as lgb\n",
    "import gc\n",
    "\n",
    "from skopt.space import Real, Integer\n",
    "from skopt.utils import use_named_args\n",
    "import itertools\n",
    "from sklearn.metrics import roc_auc_score\n",
    "from skopt import gp_minimize\n",
    "%matplotlib inline\n",
    "\n",
    "def objective(values):\n",
    "    params = {'max_depth': values[0], \n",
    "          'num_leaves': values[1], \n",
    "          'min_child_samples': values[2], \n",
    "          'scale_pos_weight': values[3],\n",
    "            'subsample': values[4],\n",
    "            'colsample_bytree': values[5],\n",
    "             'metric':'auc',\n",
    "             'nthread': 8,\n",
    "             'boosting_type': 'rf',\n",
    "             'objective': 'binary',\n",
    "             'learning_rate': values[6],\n",
    "             'max_bin': 100,\n",
    "             'min_child_weight': 0,\n",
    "             'min_split_gain': 0,\n",
    "             'subsample_freq': 1}\n",
    "    \n",
    "\n",
    "    print('\\nNext set of params.....',params)\n",
    "    \n",
    "    feature_set = ['app','device','os','channel']\n",
    "    categorical = ['app','device','os','channel']\n",
    "    \n",
    "    \n",
    "    early_stopping_rounds = 50\n",
    "    num_boost_round       = 1000\n",
    "    \n",
    "        # Fit model on feature_set and calculate validation AUROC\n",
    "    xgtrain = lgb.Dataset(train[feature_set].values, label=y_train,feature_name=feature_set,\n",
    "                           categorical_feature=categorical)\n",
    "    xgvalid = lgb.Dataset(val[feature_set].values, label=y_val,feature_name=feature_set,\n",
    "                          categorical_feature=categorical)\n",
    "    \n",
    "    evals_results = {}\n",
    "    model_lgb     = lgb.train(params,xgtrain,valid_sets=[xgtrain, xgvalid], \n",
    "                              valid_names=['train','valid'], \n",
    "                               evals_result=evals_results, \n",
    "                               num_boost_round=num_boost_round,\n",
    "                                early_stopping_rounds=early_stopping_rounds,\n",
    "                               verbose_eval=None, feval=None)\n",
    "    \n",
    "    auc = -roc_auc_score(y_val, model_lgb.predict(val[model_lgb.feature_name()]))\n",
    "    \n",
    "    print('\\nAUROC.....',-auc,\".....iter.....\", model_lgb.current_iteration())\n",
    "    \n",
    "    gc.collect()\n",
    "    \n",
    "    return  auc\n",
    "\n",
    "TRAINING_SIZE = 300000\n",
    "TEST_SIZE = 50000\n",
    "\n",
    "# Load data\n",
    "train = pd.read_csv(\n",
    "    '../input/train.csv', \n",
    "    skiprows=range(1,184903891-TRAINING_SIZE-TEST_SIZE), \n",
    "    nrows=TRAINING_SIZE,\n",
    "    parse_dates=['click_time']\n",
    ")\n",
    "\n",
    "val = pd.read_csv(\n",
    "    '../input/train.csv', \n",
    "    skiprows=range(1,184903891-TEST_SIZE), \n",
    "    nrows=TEST_SIZE,\n",
    "    parse_dates=['click_time']\n",
    ")\n",
    "\n",
    "# Split into X and y\n",
    "y_train = train['is_attributed']\n",
    "y_val = val['is_attributed']\n",
    "\n",
    "# from that dimension (`'log-uniform'` for the learning rate)\n",
    "space  = [Integer(3, 100, name='max_depth'),\n",
    "          Integer(6, 30, name='num_leaves'),\n",
    "          Integer(50, 200, name='min_child_samples'),\n",
    "          Real(1, 400,  name='scale_pos_weight'),\n",
    "          Real(0.6, 0.9, name='subsample'),\n",
    "          Real(0.6, 0.9, name='colsample_bytree'),\n",
    "          Real(0.05, 0.15, name='learning_rate')\n",
    "         ]\n",
    "\n",
    "res_gp = gp_minimize(objective, space, n_calls=50,\n",
    "                     random_state=987,n_random_starts=10)\n",
    "\n",
    "print(\"Best score=%.4f\" % res_gp.fun)\n",
    "\n",
    "from skopt.plots import plot_convergence\n",
    "\n",
    "plot_convergence(res_gp)"
   ]
  },
  {
   "cell_type": "code",
   "execution_count": 3,
   "metadata": {},
   "outputs": [
    {
     "name": "stdout",
     "output_type": "stream",
     "text": [
      "\n",
      "Next set of params..... {'max_depth': 8, 'num_leaves': 28, 'min_child_samples': 119, 'scale_pos_weight': 201.40285712270011, 'subsample': 0.77991812136599059, 'colsample_bytree': 0.88281765709565452, 'metric': 'auc', 'nthread': 8, 'boosting_type': 'gbdt', 'objective': 'binary', 'learning_rate': 0.1, 'max_bin': 255, 'min_child_weight': 0, 'min_split_gain': 0, 'subsample_freq': 1}\n"
     ]
    },
    {
     "name": "stderr",
     "output_type": "stream",
     "text": [
      "C:\\Users\\ahega\\Anaconda3\\lib\\site-packages\\lightgbm\\basic.py:1036: UserWarning: Using categorical_feature in Dataset.\n",
      "  warnings.warn('Using categorical_feature in Dataset.')\n",
      "C:\\Users\\ahega\\Anaconda3\\lib\\site-packages\\lightgbm\\basic.py:681: UserWarning: categorical_feature in param dict is overrided.\n",
      "  warnings.warn('categorical_feature in param dict is overrided.')\n"
     ]
    },
    {
     "name": "stdout",
     "output_type": "stream",
     "text": [
      "\n",
      "AUROC..... 0.98806641583 .....iter..... 126\n",
      "\n",
      "Next set of params..... {'max_depth': 8, 'num_leaves': 7, 'min_child_samples': 75, 'scale_pos_weight': 89.199560288784184, 'subsample': 0.73895719080110744, 'colsample_bytree': 0.79573970970753982, 'metric': 'auc', 'nthread': 8, 'boosting_type': 'gbdt', 'objective': 'binary', 'learning_rate': 0.1, 'max_bin': 255, 'min_child_weight': 0, 'min_split_gain': 0, 'subsample_freq': 1}\n",
      "\n",
      "AUROC..... 0.988896688029 .....iter..... 259\n",
      "\n",
      "Next set of params..... {'max_depth': 8, 'num_leaves': 26, 'min_child_samples': 191, 'scale_pos_weight': 56.550216148078619, 'subsample': 0.61678384201062952, 'colsample_bytree': 0.64016132007105164, 'metric': 'auc', 'nthread': 8, 'boosting_type': 'gbdt', 'objective': 'binary', 'learning_rate': 0.1, 'max_bin': 255, 'min_child_weight': 0, 'min_split_gain': 0, 'subsample_freq': 1}\n",
      "\n",
      "AUROC..... 0.989155286932 .....iter..... 113\n",
      "\n",
      "Next set of params..... {'max_depth': 7, 'num_leaves': 15, 'min_child_samples': 150, 'scale_pos_weight': 15.228047559585651, 'subsample': 0.63914564093873705, 'colsample_bytree': 0.64839230391776281, 'metric': 'auc', 'nthread': 8, 'boosting_type': 'gbdt', 'objective': 'binary', 'learning_rate': 0.1, 'max_bin': 255, 'min_child_weight': 0, 'min_split_gain': 0, 'subsample_freq': 1}\n",
      "\n",
      "AUROC..... 0.989445154324 .....iter..... 159\n",
      "\n",
      "Next set of params..... {'max_depth': 9, 'num_leaves': 11, 'min_child_samples': 102, 'scale_pos_weight': 16.732068476831326, 'subsample': 0.64503778315617688, 'colsample_bytree': 0.63681045232218636, 'metric': 'auc', 'nthread': 8, 'boosting_type': 'gbdt', 'objective': 'binary', 'learning_rate': 0.1, 'max_bin': 255, 'min_child_weight': 0, 'min_split_gain': 0, 'subsample_freq': 1}\n",
      "\n",
      "AUROC..... 0.989531611631 .....iter..... 274\n",
      "\n",
      "Next set of params..... {'max_depth': 5, 'num_leaves': 10, 'min_child_samples': 191, 'scale_pos_weight': 151.67424393790114, 'subsample': 0.87445510018917094, 'colsample_bytree': 0.75737003008446002, 'metric': 'auc', 'nthread': 8, 'boosting_type': 'gbdt', 'objective': 'binary', 'learning_rate': 0.1, 'max_bin': 255, 'min_child_weight': 0, 'min_split_gain': 0, 'subsample_freq': 1}\n",
      "\n",
      "AUROC..... 0.988871673834 .....iter..... 195\n",
      "\n",
      "Next set of params..... {'max_depth': 10, 'num_leaves': 14, 'min_child_samples': 97, 'scale_pos_weight': 253.39122524756891, 'subsample': 0.74740145066418218, 'colsample_bytree': 0.85776558654235913, 'metric': 'auc', 'nthread': 8, 'boosting_type': 'gbdt', 'objective': 'binary', 'learning_rate': 0.1, 'max_bin': 255, 'min_child_weight': 0, 'min_split_gain': 0, 'subsample_freq': 1}\n",
      "\n",
      "AUROC..... 0.988145222036 .....iter..... 102\n",
      "\n",
      "Next set of params..... {'max_depth': 5, 'num_leaves': 26, 'min_child_samples': 98, 'scale_pos_weight': 67.291712039664773, 'subsample': 0.67291970043430371, 'colsample_bytree': 0.64967126688128085, 'metric': 'auc', 'nthread': 8, 'boosting_type': 'gbdt', 'objective': 'binary', 'learning_rate': 0.1, 'max_bin': 255, 'min_child_weight': 0, 'min_split_gain': 0, 'subsample_freq': 1}\n",
      "\n",
      "AUROC..... 0.989113573724 .....iter..... 129\n",
      "\n",
      "Next set of params..... {'max_depth': 7, 'num_leaves': 27, 'min_child_samples': 75, 'scale_pos_weight': 245.88467538153878, 'subsample': 0.87449954007647368, 'colsample_bytree': 0.66148545774525658, 'metric': 'auc', 'nthread': 8, 'boosting_type': 'gbdt', 'objective': 'binary', 'learning_rate': 0.1, 'max_bin': 255, 'min_child_weight': 0, 'min_split_gain': 0, 'subsample_freq': 1}\n",
      "\n",
      "AUROC..... 0.98827422377 .....iter..... 109\n",
      "\n",
      "Next set of params..... {'max_depth': 9, 'num_leaves': 28, 'min_child_samples': 91, 'scale_pos_weight': 46.364459651470234, 'subsample': 0.85919205864338211, 'colsample_bytree': 0.73687932825868463, 'metric': 'auc', 'nthread': 8, 'boosting_type': 'gbdt', 'objective': 'binary', 'learning_rate': 0.1, 'max_bin': 255, 'min_child_weight': 0, 'min_split_gain': 0, 'subsample_freq': 1}\n",
      "\n",
      "AUROC..... 0.988840468021 .....iter..... 112\n",
      "\n",
      "Next set of params..... {'max_depth': 3, 'num_leaves': 15, 'min_child_samples': 61, 'scale_pos_weight': 380.93099967587051, 'subsample': 0.61183471636699016, 'colsample_bytree': 0.79822871487633718, 'metric': 'auc', 'nthread': 8, 'boosting_type': 'gbdt', 'objective': 'binary', 'learning_rate': 0.1, 'max_bin': 255, 'min_child_weight': 0, 'min_split_gain': 0, 'subsample_freq': 1}\n"
     ]
    },
    {
     "name": "stderr",
     "output_type": "stream",
     "text": [
      "C:\\Users\\ahega\\Anaconda3\\lib\\site-packages\\lightgbm\\basic.py:1036: UserWarning: Using categorical_feature in Dataset.\n",
      "  warnings.warn('Using categorical_feature in Dataset.')\n",
      "C:\\Users\\ahega\\Anaconda3\\lib\\site-packages\\lightgbm\\basic.py:681: UserWarning: categorical_feature in param dict is overrided.\n",
      "  warnings.warn('categorical_feature in param dict is overrided.')\n"
     ]
    },
    {
     "name": "stdout",
     "output_type": "stream",
     "text": [
      "\n",
      "AUROC..... 0.988592409344 .....iter..... 273\n",
      "\n",
      "Next set of params..... {'max_depth': 3, 'num_leaves': 6, 'min_child_samples': 200, 'scale_pos_weight': 400.0, 'subsample': 0.90000000000000002, 'colsample_bytree': 0.59999999999999998, 'metric': 'auc', 'nthread': 8, 'boosting_type': 'gbdt', 'objective': 'binary', 'learning_rate': 0.1, 'max_bin': 255, 'min_child_weight': 0, 'min_split_gain': 0, 'subsample_freq': 1}\n"
     ]
    },
    {
     "name": "stderr",
     "output_type": "stream",
     "text": [
      "C:\\Users\\ahega\\Anaconda3\\lib\\site-packages\\lightgbm\\basic.py:1036: UserWarning: Using categorical_feature in Dataset.\n",
      "  warnings.warn('Using categorical_feature in Dataset.')\n",
      "C:\\Users\\ahega\\Anaconda3\\lib\\site-packages\\lightgbm\\basic.py:681: UserWarning: categorical_feature in param dict is overrided.\n",
      "  warnings.warn('categorical_feature in param dict is overrided.')\n"
     ]
    },
    {
     "name": "stdout",
     "output_type": "stream",
     "text": [
      "\n",
      "AUROC..... 0.98878938158 .....iter..... 275\n",
      "\n",
      "Next set of params..... {'max_depth': 3, 'num_leaves': 30, 'min_child_samples': 200, 'scale_pos_weight': 400.0, 'subsample': 0.59999999999999998, 'colsample_bytree': 0.90000000000000002, 'metric': 'auc', 'nthread': 8, 'boosting_type': 'gbdt', 'objective': 'binary', 'learning_rate': 0.1, 'max_bin': 255, 'min_child_weight': 0, 'min_split_gain': 0, 'subsample_freq': 1}\n"
     ]
    },
    {
     "name": "stderr",
     "output_type": "stream",
     "text": [
      "C:\\Users\\ahega\\Anaconda3\\lib\\site-packages\\lightgbm\\basic.py:1036: UserWarning: Using categorical_feature in Dataset.\n",
      "  warnings.warn('Using categorical_feature in Dataset.')\n",
      "C:\\Users\\ahega\\Anaconda3\\lib\\site-packages\\lightgbm\\basic.py:681: UserWarning: categorical_feature in param dict is overrided.\n",
      "  warnings.warn('categorical_feature in param dict is overrided.')\n"
     ]
    },
    {
     "name": "stdout",
     "output_type": "stream",
     "text": [
      "\n",
      "AUROC..... 0.987185600393 .....iter..... 72\n",
      "\n",
      "Next set of params..... {'max_depth': 4, 'num_leaves': 30, 'min_child_samples': 57, 'scale_pos_weight': 39.867922308138134, 'subsample': 0.87719608856392939, 'colsample_bytree': 0.87925033994681789, 'metric': 'auc', 'nthread': 8, 'boosting_type': 'gbdt', 'objective': 'binary', 'learning_rate': 0.1, 'max_bin': 255, 'min_child_weight': 0, 'min_split_gain': 0, 'subsample_freq': 1}\n"
     ]
    },
    {
     "name": "stderr",
     "output_type": "stream",
     "text": [
      "C:\\Users\\ahega\\Anaconda3\\lib\\site-packages\\lightgbm\\basic.py:1036: UserWarning: Using categorical_feature in Dataset.\n",
      "  warnings.warn('Using categorical_feature in Dataset.')\n",
      "C:\\Users\\ahega\\Anaconda3\\lib\\site-packages\\lightgbm\\basic.py:681: UserWarning: categorical_feature in param dict is overrided.\n",
      "  warnings.warn('categorical_feature in param dict is overrided.')\n"
     ]
    },
    {
     "name": "stdout",
     "output_type": "stream",
     "text": [
      "\n",
      "AUROC..... 0.988957941617 .....iter..... 114\n",
      "\n",
      "Next set of params..... {'max_depth': 9, 'num_leaves': 6, 'min_child_samples': 156, 'scale_pos_weight': 11.438644815996748, 'subsample': 0.60179563375909695, 'colsample_bytree': 0.86717113693275016, 'metric': 'auc', 'nthread': 8, 'boosting_type': 'gbdt', 'objective': 'binary', 'learning_rate': 0.1, 'max_bin': 255, 'min_child_weight': 0, 'min_split_gain': 0, 'subsample_freq': 1}\n"
     ]
    },
    {
     "name": "stderr",
     "output_type": "stream",
     "text": [
      "C:\\Users\\ahega\\Anaconda3\\lib\\site-packages\\lightgbm\\basic.py:1036: UserWarning: Using categorical_feature in Dataset.\n",
      "  warnings.warn('Using categorical_feature in Dataset.')\n",
      "C:\\Users\\ahega\\Anaconda3\\lib\\site-packages\\lightgbm\\basic.py:681: UserWarning: categorical_feature in param dict is overrided.\n",
      "  warnings.warn('categorical_feature in param dict is overrided.')\n"
     ]
    },
    {
     "name": "stdout",
     "output_type": "stream",
     "text": [
      "\n",
      "AUROC..... 0.988973454238 .....iter..... 241\n",
      "\n",
      "Next set of params..... {'max_depth': 10, 'num_leaves': 22, 'min_child_samples': 54, 'scale_pos_weight': 377.20472628535117, 'subsample': 0.6484545123834019, 'colsample_bytree': 0.6087813462461511, 'metric': 'auc', 'nthread': 8, 'boosting_type': 'gbdt', 'objective': 'binary', 'learning_rate': 0.1, 'max_bin': 255, 'min_child_weight': 0, 'min_split_gain': 0, 'subsample_freq': 1}\n"
     ]
    },
    {
     "name": "stderr",
     "output_type": "stream",
     "text": [
      "C:\\Users\\ahega\\Anaconda3\\lib\\site-packages\\lightgbm\\basic.py:1036: UserWarning: Using categorical_feature in Dataset.\n",
      "  warnings.warn('Using categorical_feature in Dataset.')\n",
      "C:\\Users\\ahega\\Anaconda3\\lib\\site-packages\\lightgbm\\basic.py:681: UserWarning: categorical_feature in param dict is overrided.\n",
      "  warnings.warn('categorical_feature in param dict is overrided.')\n"
     ]
    },
    {
     "name": "stdout",
     "output_type": "stream",
     "text": [
      "\n",
      "AUROC..... 0.987604214334 .....iter..... 67\n",
      "\n",
      "Next set of params..... {'max_depth': 3, 'num_leaves': 8, 'min_child_samples': 61, 'scale_pos_weight': 32.909846490060929, 'subsample': 0.84042850390030521, 'colsample_bytree': 0.61915042121634833, 'metric': 'auc', 'nthread': 8, 'boosting_type': 'gbdt', 'objective': 'binary', 'learning_rate': 0.1, 'max_bin': 255, 'min_child_weight': 0, 'min_split_gain': 0, 'subsample_freq': 1}\n"
     ]
    },
    {
     "name": "stderr",
     "output_type": "stream",
     "text": [
      "C:\\Users\\ahega\\Anaconda3\\lib\\site-packages\\lightgbm\\basic.py:1036: UserWarning: Using categorical_feature in Dataset.\n",
      "  warnings.warn('Using categorical_feature in Dataset.')\n",
      "C:\\Users\\ahega\\Anaconda3\\lib\\site-packages\\lightgbm\\basic.py:681: UserWarning: categorical_feature in param dict is overrided.\n",
      "  warnings.warn('categorical_feature in param dict is overrided.')\n"
     ]
    },
    {
     "name": "stdout",
     "output_type": "stream",
     "text": [
      "\n",
      "AUROC..... 0.989267773209 .....iter..... 161\n",
      "\n",
      "Next set of params..... {'max_depth': 3, 'num_leaves': 11, 'min_child_samples': 199, 'scale_pos_weight': 393.96239195424459, 'subsample': 0.89916979213984849, 'colsample_bytree': 0.67296376861361185, 'metric': 'auc', 'nthread': 8, 'boosting_type': 'gbdt', 'objective': 'binary', 'learning_rate': 0.1, 'max_bin': 255, 'min_child_weight': 0, 'min_split_gain': 0, 'subsample_freq': 1}\n"
     ]
    },
    {
     "name": "stderr",
     "output_type": "stream",
     "text": [
      "C:\\Users\\ahega\\Anaconda3\\lib\\site-packages\\lightgbm\\basic.py:1036: UserWarning: Using categorical_feature in Dataset.\n",
      "  warnings.warn('Using categorical_feature in Dataset.')\n",
      "C:\\Users\\ahega\\Anaconda3\\lib\\site-packages\\lightgbm\\basic.py:681: UserWarning: categorical_feature in param dict is overrided.\n",
      "  warnings.warn('categorical_feature in param dict is overrided.')\n"
     ]
    },
    {
     "name": "stdout",
     "output_type": "stream",
     "text": [
      "\n",
      "AUROC..... 0.98827792919 .....iter..... 173\n",
      "\n",
      "Next set of params..... {'max_depth': 10, 'num_leaves': 6, 'min_child_samples': 200, 'scale_pos_weight': 1.0, 'subsample': 0.90000000000000002, 'colsample_bytree': 0.59999999999999998, 'metric': 'auc', 'nthread': 8, 'boosting_type': 'gbdt', 'objective': 'binary', 'learning_rate': 0.1, 'max_bin': 255, 'min_child_weight': 0, 'min_split_gain': 0, 'subsample_freq': 1}\n"
     ]
    },
    {
     "name": "stderr",
     "output_type": "stream",
     "text": [
      "C:\\Users\\ahega\\Anaconda3\\lib\\site-packages\\lightgbm\\basic.py:1036: UserWarning: Using categorical_feature in Dataset.\n",
      "  warnings.warn('Using categorical_feature in Dataset.')\n",
      "C:\\Users\\ahega\\Anaconda3\\lib\\site-packages\\lightgbm\\basic.py:681: UserWarning: categorical_feature in param dict is overrided.\n",
      "  warnings.warn('categorical_feature in param dict is overrided.')\n"
     ]
    },
    {
     "name": "stdout",
     "output_type": "stream",
     "text": [
      "\n",
      "AUROC..... 0.989430884802 .....iter..... 208\n",
      "\n",
      "Next set of params..... {'max_depth': 3, 'num_leaves': 6, 'min_child_samples': 50, 'scale_pos_weight': 1.0, 'subsample': 0.59999999999999998, 'colsample_bytree': 0.90000000000000002, 'metric': 'auc', 'nthread': 8, 'boosting_type': 'gbdt', 'objective': 'binary', 'learning_rate': 0.1, 'max_bin': 255, 'min_child_weight': 0, 'min_split_gain': 0, 'subsample_freq': 1}\n"
     ]
    },
    {
     "name": "stderr",
     "output_type": "stream",
     "text": [
      "C:\\Users\\ahega\\Anaconda3\\lib\\site-packages\\lightgbm\\basic.py:1036: UserWarning: Using categorical_feature in Dataset.\n",
      "  warnings.warn('Using categorical_feature in Dataset.')\n",
      "C:\\Users\\ahega\\Anaconda3\\lib\\site-packages\\lightgbm\\basic.py:681: UserWarning: categorical_feature in param dict is overrided.\n",
      "  warnings.warn('categorical_feature in param dict is overrided.')\n"
     ]
    },
    {
     "name": "stdout",
     "output_type": "stream",
     "text": [
      "\n",
      "AUROC..... 0.989168717772 .....iter..... 182\n",
      "\n",
      "Next set of params..... {'max_depth': 10, 'num_leaves': 6, 'min_child_samples': 53, 'scale_pos_weight': 381.83292488109743, 'subsample': 0.85764153243107266, 'colsample_bytree': 0.88916634210091106, 'metric': 'auc', 'nthread': 8, 'boosting_type': 'gbdt', 'objective': 'binary', 'learning_rate': 0.1, 'max_bin': 255, 'min_child_weight': 0, 'min_split_gain': 0, 'subsample_freq': 1}\n"
     ]
    },
    {
     "name": "stderr",
     "output_type": "stream",
     "text": [
      "C:\\Users\\ahega\\Anaconda3\\lib\\site-packages\\lightgbm\\basic.py:1036: UserWarning: Using categorical_feature in Dataset.\n",
      "  warnings.warn('Using categorical_feature in Dataset.')\n",
      "C:\\Users\\ahega\\Anaconda3\\lib\\site-packages\\lightgbm\\basic.py:681: UserWarning: categorical_feature in param dict is overrided.\n",
      "  warnings.warn('categorical_feature in param dict is overrided.')\n"
     ]
    },
    {
     "name": "stdout",
     "output_type": "stream",
     "text": [
      "\n",
      "AUROC..... 0.988745883563 .....iter..... 262\n",
      "\n",
      "Next set of params..... {'max_depth': 3, 'num_leaves': 30, 'min_child_samples': 161, 'scale_pos_weight': 5.491106380862341, 'subsample': 0.85128443895559758, 'colsample_bytree': 0.88061150789423293, 'metric': 'auc', 'nthread': 8, 'boosting_type': 'gbdt', 'objective': 'binary', 'learning_rate': 0.1, 'max_bin': 255, 'min_child_weight': 0, 'min_split_gain': 0, 'subsample_freq': 1}\n"
     ]
    },
    {
     "name": "stderr",
     "output_type": "stream",
     "text": [
      "C:\\Users\\ahega\\Anaconda3\\lib\\site-packages\\lightgbm\\basic.py:1036: UserWarning: Using categorical_feature in Dataset.\n",
      "  warnings.warn('Using categorical_feature in Dataset.')\n",
      "C:\\Users\\ahega\\Anaconda3\\lib\\site-packages\\lightgbm\\basic.py:681: UserWarning: categorical_feature in param dict is overrided.\n",
      "  warnings.warn('categorical_feature in param dict is overrided.')\n"
     ]
    },
    {
     "name": "stdout",
     "output_type": "stream",
     "text": [
      "\n",
      "AUROC..... 0.988822063292 .....iter..... 239\n",
      "\n",
      "Next set of params..... {'max_depth': 10, 'num_leaves': 30, 'min_child_samples': 81, 'scale_pos_weight': 373.6674066204655, 'subsample': 0.8706241410832416, 'colsample_bytree': 0.61226117246578848, 'metric': 'auc', 'nthread': 8, 'boosting_type': 'gbdt', 'objective': 'binary', 'learning_rate': 0.1, 'max_bin': 255, 'min_child_weight': 0, 'min_split_gain': 0, 'subsample_freq': 1}\n"
     ]
    },
    {
     "name": "stderr",
     "output_type": "stream",
     "text": [
      "C:\\Users\\ahega\\Anaconda3\\lib\\site-packages\\lightgbm\\basic.py:1036: UserWarning: Using categorical_feature in Dataset.\n",
      "  warnings.warn('Using categorical_feature in Dataset.')\n",
      "C:\\Users\\ahega\\Anaconda3\\lib\\site-packages\\lightgbm\\basic.py:681: UserWarning: categorical_feature in param dict is overrided.\n",
      "  warnings.warn('categorical_feature in param dict is overrided.')\n"
     ]
    },
    {
     "name": "stdout",
     "output_type": "stream",
     "text": [
      "\n",
      "AUROC..... 0.98780272067 .....iter..... 115\n",
      "\n",
      "Next set of params..... {'max_depth': 3, 'num_leaves': 6, 'min_child_samples': 50, 'scale_pos_weight': 1.0, 'subsample': 0.59999999999999998, 'colsample_bytree': 0.59999999999999998, 'metric': 'auc', 'nthread': 8, 'boosting_type': 'gbdt', 'objective': 'binary', 'learning_rate': 0.1, 'max_bin': 255, 'min_child_weight': 0, 'min_split_gain': 0, 'subsample_freq': 1}\n"
     ]
    },
    {
     "name": "stderr",
     "output_type": "stream",
     "text": [
      "C:\\Users\\ahega\\Anaconda3\\lib\\site-packages\\lightgbm\\basic.py:1036: UserWarning: Using categorical_feature in Dataset.\n",
      "  warnings.warn('Using categorical_feature in Dataset.')\n",
      "C:\\Users\\ahega\\Anaconda3\\lib\\site-packages\\lightgbm\\basic.py:681: UserWarning: categorical_feature in param dict is overrided.\n",
      "  warnings.warn('categorical_feature in param dict is overrided.')\n"
     ]
    },
    {
     "name": "stdout",
     "output_type": "stream",
     "text": [
      "\n",
      "AUROC..... 0.989864120451 .....iter..... 387\n",
      "\n",
      "Next set of params..... {'max_depth': 10, 'num_leaves': 7, 'min_child_samples': 174, 'scale_pos_weight': 390.96171743353682, 'subsample': 0.61515232639638484, 'colsample_bytree': 0.86389791652016523, 'metric': 'auc', 'nthread': 8, 'boosting_type': 'gbdt', 'objective': 'binary', 'learning_rate': 0.1, 'max_bin': 255, 'min_child_weight': 0, 'min_split_gain': 0, 'subsample_freq': 1}\n"
     ]
    },
    {
     "name": "stderr",
     "output_type": "stream",
     "text": [
      "C:\\Users\\ahega\\Anaconda3\\lib\\site-packages\\lightgbm\\basic.py:1036: UserWarning: Using categorical_feature in Dataset.\n",
      "  warnings.warn('Using categorical_feature in Dataset.')\n",
      "C:\\Users\\ahega\\Anaconda3\\lib\\site-packages\\lightgbm\\basic.py:681: UserWarning: categorical_feature in param dict is overrided.\n",
      "  warnings.warn('categorical_feature in param dict is overrided.')\n"
     ]
    },
    {
     "name": "stdout",
     "output_type": "stream",
     "text": [
      "\n",
      "AUROC..... 0.988471995886 .....iter..... 242\n",
      "\n",
      "Next set of params..... {'max_depth': 3, 'num_leaves': 27, 'min_child_samples': 199, 'scale_pos_weight': 21.264288159486931, 'subsample': 0.86270787460799059, 'colsample_bytree': 0.89455995996794357, 'metric': 'auc', 'nthread': 8, 'boosting_type': 'gbdt', 'objective': 'binary', 'learning_rate': 0.1, 'max_bin': 255, 'min_child_weight': 0, 'min_split_gain': 0, 'subsample_freq': 1}\n"
     ]
    },
    {
     "name": "stderr",
     "output_type": "stream",
     "text": [
      "C:\\Users\\ahega\\Anaconda3\\lib\\site-packages\\lightgbm\\basic.py:1036: UserWarning: Using categorical_feature in Dataset.\n",
      "  warnings.warn('Using categorical_feature in Dataset.')\n",
      "C:\\Users\\ahega\\Anaconda3\\lib\\site-packages\\lightgbm\\basic.py:681: UserWarning: categorical_feature in param dict is overrided.\n",
      "  warnings.warn('categorical_feature in param dict is overrided.')\n"
     ]
    },
    {
     "name": "stdout",
     "output_type": "stream",
     "text": [
      "\n",
      "AUROC..... 0.989146585239 .....iter..... 317\n",
      "\n",
      "Next set of params..... {'max_depth': 3, 'num_leaves': 6, 'min_child_samples': 200, 'scale_pos_weight': 1.0, 'subsample': 0.59999999999999998, 'colsample_bytree': 0.59999999999999998, 'metric': 'auc', 'nthread': 8, 'boosting_type': 'gbdt', 'objective': 'binary', 'learning_rate': 0.1, 'max_bin': 255, 'min_child_weight': 0, 'min_split_gain': 0, 'subsample_freq': 1}\n"
     ]
    },
    {
     "name": "stderr",
     "output_type": "stream",
     "text": [
      "C:\\Users\\ahega\\Anaconda3\\lib\\site-packages\\lightgbm\\basic.py:1036: UserWarning: Using categorical_feature in Dataset.\n",
      "  warnings.warn('Using categorical_feature in Dataset.')\n",
      "C:\\Users\\ahega\\Anaconda3\\lib\\site-packages\\lightgbm\\basic.py:681: UserWarning: categorical_feature in param dict is overrided.\n",
      "  warnings.warn('categorical_feature in param dict is overrided.')\n"
     ]
    },
    {
     "name": "stdout",
     "output_type": "stream",
     "text": [
      "\n",
      "AUROC..... 0.989435396072 .....iter..... 191\n",
      "\n",
      "Next set of params..... {'max_depth': 8, 'num_leaves': 7, 'min_child_samples': 198, 'scale_pos_weight': 386.36005438741734, 'subsample': 0.83603343921695517, 'colsample_bytree': 0.88455750427673263, 'metric': 'auc', 'nthread': 8, 'boosting_type': 'gbdt', 'objective': 'binary', 'learning_rate': 0.1, 'max_bin': 255, 'min_child_weight': 0, 'min_split_gain': 0, 'subsample_freq': 1}\n"
     ]
    },
    {
     "name": "stderr",
     "output_type": "stream",
     "text": [
      "C:\\Users\\ahega\\Anaconda3\\lib\\site-packages\\lightgbm\\basic.py:1036: UserWarning: Using categorical_feature in Dataset.\n",
      "  warnings.warn('Using categorical_feature in Dataset.')\n",
      "C:\\Users\\ahega\\Anaconda3\\lib\\site-packages\\lightgbm\\basic.py:681: UserWarning: categorical_feature in param dict is overrided.\n",
      "  warnings.warn('categorical_feature in param dict is overrided.')\n"
     ]
    },
    {
     "name": "stdout",
     "output_type": "stream",
     "text": [
      "\n",
      "AUROC..... 0.988594465755 .....iter..... 317\n",
      "\n",
      "Next set of params..... {'max_depth': 3, 'num_leaves': 29, 'min_child_samples': 60, 'scale_pos_weight': 31.56549641518582, 'subsample': 0.89977649705440088, 'colsample_bytree': 0.65544600226583161, 'metric': 'auc', 'nthread': 8, 'boosting_type': 'gbdt', 'objective': 'binary', 'learning_rate': 0.1, 'max_bin': 255, 'min_child_weight': 0, 'min_split_gain': 0, 'subsample_freq': 1}\n"
     ]
    },
    {
     "name": "stderr",
     "output_type": "stream",
     "text": [
      "C:\\Users\\ahega\\Anaconda3\\lib\\site-packages\\lightgbm\\basic.py:1036: UserWarning: Using categorical_feature in Dataset.\n",
      "  warnings.warn('Using categorical_feature in Dataset.')\n",
      "C:\\Users\\ahega\\Anaconda3\\lib\\site-packages\\lightgbm\\basic.py:681: UserWarning: categorical_feature in param dict is overrided.\n",
      "  warnings.warn('categorical_feature in param dict is overrided.')\n"
     ]
    },
    {
     "name": "stdout",
     "output_type": "stream",
     "text": [
      "\n",
      "AUROC..... 0.989033893022 .....iter..... 247\n",
      "\n",
      "Next set of params..... {'max_depth': 9, 'num_leaves': 28, 'min_child_samples': 198, 'scale_pos_weight': 60.299224964581065, 'subsample': 0.64951920368619431, 'colsample_bytree': 0.60181005441333069, 'metric': 'auc', 'nthread': 8, 'boosting_type': 'gbdt', 'objective': 'binary', 'learning_rate': 0.1, 'max_bin': 255, 'min_child_weight': 0, 'min_split_gain': 0, 'subsample_freq': 1}\n"
     ]
    },
    {
     "name": "stderr",
     "output_type": "stream",
     "text": [
      "C:\\Users\\ahega\\Anaconda3\\lib\\site-packages\\lightgbm\\basic.py:1036: UserWarning: Using categorical_feature in Dataset.\n",
      "  warnings.warn('Using categorical_feature in Dataset.')\n",
      "C:\\Users\\ahega\\Anaconda3\\lib\\site-packages\\lightgbm\\basic.py:681: UserWarning: categorical_feature in param dict is overrided.\n",
      "  warnings.warn('categorical_feature in param dict is overrided.')\n"
     ]
    },
    {
     "name": "stdout",
     "output_type": "stream",
     "text": [
      "\n",
      "AUROC..... 0.988887526703 .....iter..... 113\n",
      "Best score=-0.9899\n"
     ]
    },
    {
     "data": {
      "text/plain": [
       "<matplotlib.axes._subplots.AxesSubplot at 0x21a016390f0>"
      ]
     },
     "execution_count": 3,
     "metadata": {},
     "output_type": "execute_result"
    },
    {
     "data": {
      "image/png": "[encoded data removed]",
      "text/plain": [
       "<Figure size 432x288 with 1 Axes>"
      ]
     },
     "metadata": {},
     "output_type": "display_data"
    }
   ],
   "source": [
    "import pandas as pd\n",
    "import numpy as np\n",
    "import xgboost as xgb\n",
    "import lightgbm as lgb\n",
    "import gc\n",
    "\n",
    "from skopt.space import Real, Integer\n",
    "from skopt.utils import use_named_args\n",
    "import itertools\n",
    "from sklearn.metrics import roc_auc_score\n",
    "from skopt import gp_minimize\n",
    "%matplotlib inline\n",
    "\n",
    "def objective(values):\n",
    "    params = {'max_depth': values[0], \n",
    "          'num_leaves': values[1], \n",
    "          'min_child_samples': values[2], \n",
    "          'scale_pos_weight': values[3],\n",
    "            'subsample': values[4],\n",
    "            'colsample_bytree': values[5],\n",
    "             'metric':'auc',\n",
    "             'nthread': 8,\n",
    "             'boosting_type': 'gbdt',\n",
    "             'objective': 'binary',\n",
    "             'learning_rate': 0.1,\n",
    "             'max_bin': 255,\n",
    "             'min_child_weight': 0,\n",
    "             'min_split_gain': 0,\n",
    "             'subsample_freq': 1}\n",
    "    \n",
    "\n",
    "    print('\\nNext set of params.....',params)\n",
    "    \n",
    "    feature_set = ['app','device','os','channel']\n",
    "    categorical = ['app','device','os','channel']\n",
    "    \n",
    "    \n",
    "    early_stopping_rounds = 50\n",
    "    num_boost_round       = 1000\n",
    "    \n",
    "        # Fit model on feature_set and calculate validation AUROC\n",
    "    xgtrain = lgb.Dataset(train[feature_set].values, label=y_train,feature_name=feature_set,\n",
    "                           categorical_feature=categorical)\n",
    "    xgvalid = lgb.Dataset(val[feature_set].values, label=y_val,feature_name=feature_set,\n",
    "                          categorical_feature=categorical)\n",
    "    \n",
    "    evals_results = {}\n",
    "    model_lgb     = lgb.train(params,xgtrain,valid_sets=[xgtrain, xgvalid], \n",
    "                              valid_names=['train','valid'], \n",
    "                               evals_result=evals_results, \n",
    "                               num_boost_round=num_boost_round,\n",
    "                                early_stopping_rounds=early_stopping_rounds,\n",
    "                               verbose_eval=None, feval=None)\n",
    "    \n",
    "    auc = -roc_auc_score(y_val, model_lgb.predict(val[model_lgb.feature_name()]))\n",
    "    \n",
    "    print('\\nAUROC.....',-auc,\".....iter.....\", model_lgb.current_iteration())\n",
    "    \n",
    "    gc.collect()\n",
    "    \n",
    "    return  auc\n",
    "\n",
    "TRAINING_SIZE = 3000000\n",
    "TEST_SIZE = 500000\n",
    "\n",
    "# Load data\n",
    "train = pd.read_csv(\n",
    "    '../input/train.csv', \n",
    "    skiprows=range(1,184903891-TRAINING_SIZE-TEST_SIZE), \n",
    "    nrows=TRAINING_SIZE,\n",
    "    parse_dates=['click_time']\n",
    ")\n",
    "\n",
    "val = pd.read_csv(\n",
    "    '../input/train.csv', \n",
    "    skiprows=range(1,184903891-TEST_SIZE), \n",
    "    nrows=TEST_SIZE,\n",
    "    parse_dates=['click_time']\n",
    ")\n",
    "\n",
    "# Split into X and y\n",
    "y_train = train['is_attributed']\n",
    "y_val = val['is_attributed']\n",
    "\n",
    "# from that dimension (`'log-uniform'` for the learning rate)\n",
    "space  = [Integer(3, 10, name='max_depth'),\n",
    "          Integer(6, 30, name='num_leaves'),\n",
    "          Integer(50, 200, name='min_child_samples'),\n",
    "          Real(1, 400,  name='scale_pos_weight'),\n",
    "          Real(0.6, 0.9, name='subsample'),\n",
    "          Real(0.6, 0.9, name='colsample_bytree'),\n",
    "          Real(0.05, 0.3, name='learning_rate')\n",
    "         ]\n",
    "\n",
    "res_gp = gp_minimize(objective, space, n_calls=30,\n",
    "                     random_state=987,n_random_starts=10)\n",
    "\n",
    "print(\"Best score=%.4f\" % res_gp.fun)\n",
    "\n",
    "from skopt.plots import plot_convergence\n",
    "\n",
    "plot_convergence(res_gp)"
   ]
  },
  {
   "cell_type": "code",
   "execution_count": null,
   "metadata": {},
   "outputs": [],
   "source": [
    "import pandas as pd\n",
    "import numpy as np\n",
    "import xgboost as xgb\n",
    "import lightgbm as lgb\n",
    "import gc\n",
    "\n",
    "from skopt.space import Real, Integer\n",
    "from skopt.utils import use_named_args\n",
    "import itertools\n",
    "from sklearn.metrics import roc_auc_score\n",
    "from skopt import gp_minimize\n",
    "%matplotlib inline\n",
    "\n",
    "def objective(values):\n",
    "    params = {'max_depth': values[0], \n",
    "          'num_leaves': values[1], \n",
    "          'min_child_samples': values[2], \n",
    "          'scale_pos_weight': values[3],\n",
    "            'subsample': values[4],\n",
    "            'colsample_bytree': values[5],\n",
    "             'metric':'auc',\n",
    "             'nthread': 8,\n",
    "             'boosting_type': 'goss',\n",
    "             'objective': 'binary',\n",
    "             'learning_rate': values[6],\n",
    "             'max_bin': 100,\n",
    "             'min_child_weight': 0,\n",
    "             'min_split_gain': 0,\n",
    "             'subsample_freq': 1}\n",
    "    \n",
    "\n",
    "    print('\\nNext set of params.....',params)\n",
    "    \n",
    "    feature_set = ['app','device','os','channel']\n",
    "    categorical = ['app','device','os','channel']\n",
    "    \n",
    "    \n",
    "    early_stopping_rounds = 50\n",
    "    num_boost_round       = 1000\n",
    "    \n",
    "        # Fit model on feature_set and calculate validation AUROC\n",
    "    xgtrain = lgb.Dataset(train[feature_set].values, label=y_train,feature_name=feature_set,\n",
    "                           categorical_feature=categorical)\n",
    "    xgvalid = lgb.Dataset(val[feature_set].values, label=y_val,feature_name=feature_set,\n",
    "                          categorical_feature=categorical)\n",
    "    \n",
    "    evals_results = {}\n",
    "    model_lgb     = lgb.train(params,xgtrain,valid_sets=[xgtrain, xgvalid], \n",
    "                              valid_names=['train','valid'], \n",
    "                               evals_result=evals_results, \n",
    "                               num_boost_round=num_boost_round,\n",
    "                                early_stopping_rounds=early_stopping_rounds,\n",
    "                               verbose_eval=None, feval=None)\n",
    "    \n",
    "    auc = -roc_auc_score(y_val, model_lgb.predict(val[model_lgb.feature_name()]))\n",
    "    \n",
    "    print('\\nAUROC.....',-auc,\".....iter.....\", model_lgb.current_iteration())\n",
    "    \n",
    "    gc.collect()\n",
    "    \n",
    "    return  auc\n",
    "\n",
    "TRAINING_SIZE = 300000\n",
    "TEST_SIZE = 50000\n",
    "\n",
    "# Load data\n",
    "train = pd.read_csv(\n",
    "    '../input/train.csv', \n",
    "    skiprows=range(1,184903891-TRAINING_SIZE-TEST_SIZE), \n",
    "    nrows=TRAINING_SIZE,\n",
    "    parse_dates=['click_time']\n",
    ")\n",
    "\n",
    "val = pd.read_csv(\n",
    "    '../input/train.csv', \n",
    "    skiprows=range(1,184903891-TEST_SIZE), \n",
    "    nrows=TEST_SIZE,\n",
    "    parse_dates=['click_time']\n",
    ")\n",
    "\n",
    "# Split into X and y\n",
    "y_train = train['is_attributed']\n",
    "y_val = val['is_attributed']\n",
    "\n",
    "# from that dimension (`'log-uniform'` for the learning rate)\n",
    "space  = [Integer(3, 10, name='max_depth'),\n",
    "          Integer(6, 30, name='num_leaves'),\n",
    "          Integer(50, 200, name='min_child_samples'),\n",
    "          Real(1, 400,  name='scale_pos_weight'),\n",
    "          Real(0.6, 0.9, name='subsample'),\n",
    "          Real(0.6, 0.9, name='colsample_bytree'),\n",
    "          Real(0.05, 0.3, name='learning_rate')\n",
    "         ]\n",
    "\n",
    "res_gp = gp_minimize(objective, space, n_calls=30,\n",
    "                     random_state=987,n_random_starts=10)\n",
    "\n",
    "print(\"Best score=%.4f\" % res_gp.fun)\n",
    "\n",
    "from skopt.plots import plot_convergence\n",
    "\n",
    "plot_convergence(res_gp)"
   ]
  }
 ],
 "metadata": {
  "kernelspec": {
   "display_name": "Python 3",
   "language": "python",
   "name": "python3"
  },
  "language_info": {
   "codemirror_mode": {
    "name": "ipython",
    "version": 3
   },
   "file_extension": ".py",
   "mimetype": "text/x-python",
   "name": "python",
   "nbconvert_exporter": "python",
   "pygments_lexer": "ipython3",
   "version": "3.6.5"
  }
 },
 "nbformat": 4,
 "nbformat_minor": 2
}
