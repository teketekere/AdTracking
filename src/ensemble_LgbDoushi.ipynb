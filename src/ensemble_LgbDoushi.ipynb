{
 "cells": [
  {
   "cell_type": "code",
   "execution_count": 2,
   "metadata": {},
   "outputs": [
    {
     "name": "stdout",
     "output_type": "stream",
     "text": [
      "1.0\n",
      "   click_id\n",
      "0         0\n",
      "1         1\n",
      "2         2\n",
      "3         3\n",
      "4         4\n",
      "done\n"
     ]
    }
   ],
   "source": [
    "import pandas as pd\n",
    "import numpy as np\n",
    "import gc\n",
    "\n",
    "tag = 'is_attributed'\n",
    "data1 = pd.read_csv('../sub/ensembleExp_Lightgbm__2018_0419_1401_45.csv') # 0.9793\n",
    "# xgdt\n",
    "data2 = pd.read_csv('../sub/ensembleExpLgbBayes__2018_0429_2008_09.csv', usecols=[tag]) #0.9798 from2400\n",
    "data3 = pd.read_csv('../sub/ensembleExpLgbXGDT_From1_2018_0502_2317_27.csv', usecols=[tag]) #  from1\n",
    "data4 = pd.read_csv('../sub/ensembleExpLgbXGDT_From1200_2018_0503_1203_14.csv', usecols=[tag]) # from1200\n",
    "# dart\n",
    "data5 = pd.read_csv('../sub/ensembleExpLgbDart__2018_0428_1032_37.csv', usecols=[tag]) # 0.9791 from2400\n",
    "data6 = pd.read_csv('../sub/ensembleExpLgbDart_From1_2018_0502_2315_05.csv', usecols=[tag]) #  from1\n",
    "data7 = pd.read_csv('../sub/ensembleExpLgbDart_From1200_2018_0505_1202_53.csv', usecols=[tag]) # from1200\n",
    "# rf\n",
    "#data8 = pd.read_csv('../sub/ensembleExpRF__2018_0422_1648_58.csv', usecols=[tag])\n",
    "\n",
    "# cutting xgdt\n",
    "data9 = pd.read_csv('../sub/ensembleExpLgbXGDT_CuttingFrom2400_2018_0505_1849_49.csv', usecols=[tag]) # from2400\n",
    "data10 = pd.read_csv('../sub/ensembleExpLgbXGDT_CuttingFrom1_2018_0505_1848_13.csv', usecols=[tag]) # from1\n",
    "data11 = pd.read_csv('../sub/ensembleExpLgbXGDT_CuttingFrom1200_2018_0505_1206_59.csv', usecols=[tag]) # from1200\n",
    "\n",
    "\n",
    "newsub = pd.DataFrame()\n",
    "newsub_exp = pd.DataFrame()\n",
    "newsub['click_id'] = data1['click_id']\n",
    "newsub_exp['click_id'] = data1['click_id']\n",
    "data1.drop('click_id', axis=1, inplace=True)\n",
    "gc.collect()\n",
    "\n",
    "ensembleRate = [0.01,\n",
    "                0.15, 0.15, 0.15,\n",
    "                0.03, 0.03, 0.03,\n",
    "                #0.00,\n",
    "                0.15, 0.15, 0.15\n",
    "               ]\n",
    "res = 0\n",
    "for e in ensembleRate:\n",
    "    res += e\n",
    "print(res)\n",
    "\n",
    "#newsub[tag] = ensembleRate[0] * data1[tag] + ensembleRate[1] * data2[tag] + ensembleRate[2] * data3[tag] + ensembleRate[3] * data4[tag]\n",
    "newsub_exp[tag] = np.exp(ensembleRate[0] * np.log(data1[tag]) + ensembleRate[1] * np.log(data2[tag]) + ensembleRate[2] * np.log(data3[tag]) \n",
    "                         + ensembleRate[3] * np.log(data4[tag]) + ensembleRate[4] * np.log(data5[tag]) + ensembleRate[5] * np.log(data6[tag])\n",
    "                         + ensembleRate[6] * np.log(data7[tag])  + ensembleRate[7] * np.log(data9[tag])\n",
    "                         + ensembleRate[8] * np.log(data10[tag]) + ensembleRate[9] * np.log(data11[tag])\n",
    "                        )\n",
    "print(newsub.head())\n",
    "\n",
    "from datetime import datetime as dt\n",
    "datetime = dt.now().strftime('_%Y_%m%d_%H%M_%S')\n",
    "#filename = '../sub/ensembleLGBFinal_' + datetime + '.csv'\n",
    "#newsub.to_csv(filename, index=False)\n",
    "filename = '../sub/ensembleExpLGBFinal_' + datetime + '.csv'\n",
    "newsub_exp.to_csv(filename, index=False)\n",
    "\n",
    "print('done')"
   ]
  },
  {
   "cell_type": "code",
   "execution_count": null,
   "metadata": {},
   "outputs": [],
   "source": []
  }
 ],
 "metadata": {
  "kernelspec": {
   "display_name": "Python 3",
   "language": "python",
   "name": "python3"
  },
  "language_info": {
   "codemirror_mode": {
    "name": "ipython",
    "version": 3
   },
   "file_extension": ".py",
   "mimetype": "text/x-python",
   "name": "python",
   "nbconvert_exporter": "python",
   "pygments_lexer": "ipython3",
   "version": "3.6.5"
  }
 },
 "nbformat": 4,
 "nbformat_minor": 2
}
