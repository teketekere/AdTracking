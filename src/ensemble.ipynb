{
 "cells": [
  {
   "cell_type": "code",
   "execution_count": 6,
   "metadata": {},
   "outputs": [
    {
     "name": "stdout",
     "output_type": "stream",
     "text": [
      "   click_id  is_attributed\n",
      "0         0       0.062668\n",
      "1         1       0.016331\n",
      "2         2       0.001011\n",
      "3         3       0.023888\n",
      "4         4       0.003461\n",
      "done\n"
     ]
    }
   ],
   "source": [
    "import pandas as pd\n",
    "import numpy as np\n",
    "import gc\n",
    "\n",
    "tag = 'is_attributed'\n",
    "data1 = pd.read_csv('./sub_it1.csv/sub_it0.csv')\n",
    "data2 = pd.read_csv('./wordbatch_fm_ftrl.csv', usecols=[tag])\n",
    "data3 = pd.read_csv('../sub/xgb_sub.csv', usecols=[tag])\n",
    "\n",
    "newsub = pd.DataFrame()\n",
    "newsub['click_id'] = data1['click_id']\n",
    "data1.drop('click_id', axis=1, inplace=True)\n",
    "gc.collect()\n",
    "\n",
    "ensembleRate = [0.5, 0.4,  0.1]\n",
    "newsub[tag] = ensembleRate[0] * data1[tag] + ensembleRate[1] * data2[tag] + ensembleRate[2] * data3[tag]\n",
    "print(newsub.head())\n",
    "\n",
    "from datetime import datetime as dt\n",
    "datetime = dt.now().strftime('_%Y_%m%d_%H%M_%S')\n",
    "filename = '../sub/ensemble_' + datetime + '.csv'\n",
    "newsub.to_csv(filename, index=False)\n",
    "\n",
    "print('done')"
   ]
  },
  {
   "cell_type": "code",
   "execution_count": null,
   "metadata": {},
   "outputs": [],
   "source": []
  }
 ],
 "metadata": {
  "kernelspec": {
   "display_name": "Python 3",
   "language": "python",
   "name": "python3"
  },
  "language_info": {
   "codemirror_mode": {
    "name": "ipython",
    "version": 3
   },
   "file_extension": ".py",
   "mimetype": "text/x-python",
   "name": "python",
   "nbconvert_exporter": "python",
   "pygments_lexer": "ipython3",
   "version": "3.6.5"
  }
 },
 "nbformat": 4,
 "nbformat_minor": 2
}
