{
 "cells": [
  {
   "cell_type": "code",
   "execution_count": null,
   "metadata": {},
   "outputs": [],
   "source": [
    "import pandas as pd\n",
    "import numpy as np\n",
    "import gc\n",
    "\n",
    "tag = 'is_attributed'\n",
    "#data1 = pd.read_csv('../sub/ensembleExpLGBFinal__2018_0503_1722_08.csv')\n",
    "data1 = pd.read_csv('../sub/ensembleExpLGBFinal__2018_0506_1208_01.csv')\n",
    "data2 = pd.read_csv('../sub/ensembleGenius_FMFTRL_2018_0419_1355_54.csv', usecols=[tag])\n",
    "data3 = pd.read_csv('./dl_12features.csv', usecols=[tag])\n",
    "data4 = pd.read_csv('../sub/submission_final.csv', usecols=[tag])\n",
    "data5 = pd.read_csv('../sub/ensembleRF__2018_0422_1648_58.csv', usecols=[tag])\n",
    "data6 = pd.read_csv('../sub/sub_it6.csv', usecols=[tag])\n",
    "god = pd.read_csv('../sub/sub-it200102.csv', usecols=[tag])\n",
    "\n",
    "newsub = pd.DataFrame()\n",
    "newsub_exp = pd.DataFrame()\n",
    "newsub['click_id'] = data1['click_id']\n",
    "newsub_exp['click_id'] = data1['click_id']\n",
    "data1.drop('click_id', axis=1, inplace=True)\n",
    "gc.collect()\n",
    "\n",
    "#ensembleRate = [0.15, 0.03, 0.03, 0.03, 0.03, 0.03, 0.7]\n",
    "#ensembleRate = [0.05, 0.01, 0.01, 0.01, 0.01, 0.01, 0.9]\n",
    "ensembleRate = [0.05, 0.01, 0.01, 0.01, 0.01, 0.01, 0.9]\n",
    "\n",
    "newsub_exp[tag] = np.exp(ensembleRate[0] * np.log(data1[tag]) + ensembleRate[1] * np.log(data2[tag])\n",
    "                         + ensembleRate[2] * np.log(data3[tag]) + ensembleRate[3] * np.log(data4[tag])\n",
    "                         + ensembleRate[4] * np.log(data5[tag]) + ensembleRate[5] * np.log(data6[tag])\n",
    "                         + ensembleRate[6] * np.log(god[tag])\n",
    "                        )\n",
    "print(newsub.head())\n",
    "\n",
    "from datetime import datetime as dt\n",
    "datetime = dt.now().strftime('_%Y_%m%d_%H%M_%S')\n",
    "#filename = '../sub/ensembleHarmLGBRFFMT_' + datetime + '.csv'\n",
    "#newsub.to_csv(filename, index=False)\n",
    "filename = '../sub/ensembleExpLGBFGBRFFMT_' + datetime + '.csv'\n",
    "newsub_exp.to_csv(filename, index=False)\n",
    "\n",
    "print('done')"
   ]
  },
  {
   "cell_type": "code",
   "execution_count": null,
   "metadata": {},
   "outputs": [],
   "source": []
  }
 ],
 "metadata": {
  "kernelspec": {
   "display_name": "Python 3",
   "language": "python",
   "name": "python3"
  },
  "language_info": {
   "codemirror_mode": {
    "name": "ipython",
    "version": 3
   },
   "file_extension": ".py",
   "mimetype": "text/x-python",
   "name": "python",
   "nbconvert_exporter": "python",
   "pygments_lexer": "ipython3",
   "version": "3.6.5"
  }
 },
 "nbformat": 4,
 "nbformat_minor": 2
}
