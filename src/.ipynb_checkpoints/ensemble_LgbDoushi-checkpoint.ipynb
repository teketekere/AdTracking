{
 "cells": [
  {
   "cell_type": "code",
   "execution_count": 1,
   "metadata": {},
   "outputs": [
    {
     "name": "stdout",
     "output_type": "stream",
     "text": [
      "   click_id  is_attributed\n",
      "0         0       0.109661\n",
      "1         1       0.022355\n",
      "2         2       0.003563\n",
      "3         3       0.037752\n",
      "4         4       0.013698\n",
      "done\n"
     ]
    }
   ],
   "source": [
    "import pandas as pd\n",
    "import numpy as np\n",
    "import gc\n",
    "\n",
    "tag = 'is_attributed'\n",
    "data1 = pd.read_csv('../sub/ensembleExp_Lightgbm__2018_0419_1401_45.csv') # 0.9793\n",
    "data2 = pd.read_csv('../sub/ensembleExpLgbBayes__2018_0429_2008_09.csv', usecols=[tag]) #0.9798 from2400\n",
    "data3 = pd.read_csv('../sub/ensembleExpLgbXGDT_From1_2018_0502_2317_27.csv', usecols=[tag]) #  from1\n",
    "data4 = pd.read_csv('../sub/ensembleExpLgbDart__2018_0428_1032_37.csv', usecols=[tag]) # 0.9791 from2400\n",
    "data5 = pd.read_csv('../sub/ensembleExpLgbDart_From1_2018_0502_2315_05.csv', usecols=[tag]) #  from2400\n",
    "\n",
    "newsub = pd.DataFrame()\n",
    "newsub_exp = pd.DataFrame()\n",
    "newsub['click_id'] = data1['click_id']\n",
    "newsub_exp['click_id'] = data1['click_id']\n",
    "data1.drop('click_id', axis=1, inplace=True)\n",
    "gc.collect()\n",
    "\n",
    "ensembleRate = [0.1, 0.4, 0.4, 0.1]\n",
    "newsub[tag] = ensembleRate[0] * data1[tag] + ensembleRate[1] * data2[tag] + ensembleRate[2] * data3[tag] + ensembleRate[3] * data4[tag]\n",
    "newsub_exp[tag] = np.exp(ensembleRate[0] * np.log(data1[tag]) + ensembleRate[1] * np.log(data2[tag]) + ensembleRate[2] * np.log(data3[tag]) \n",
    "                         + ensembleRate[3] * np.log(data4[tag] + ensembleRate[4] * np.log(data5[tag]))\n",
    "                        )\n",
    "print(newsub.head())\n",
    "\n",
    "from datetime import datetime as dt\n",
    "datetime = dt.now().strftime('_%Y_%m%d_%H%M_%S')\n",
    "#filename = '../sub/ensembleLGBFinal_' + datetime + '.csv'\n",
    "#newsub.to_csv(filename, index=False)\n",
    "filename = '../sub/ensembleExpLGBFinal_' + datetime + '.csv'\n",
    "newsub_exp.to_csv(filename, index=False)\n",
    "\n",
    "print('done')"
   ]
  },
  {
   "cell_type": "code",
   "execution_count": null,
   "metadata": {},
   "outputs": [],
   "source": []
  }
 ],
 "metadata": {
  "kernelspec": {
   "display_name": "Python 3",
   "language": "python",
   "name": "python3"
  },
  "language_info": {
   "codemirror_mode": {
    "name": "ipython",
    "version": 3
   },
   "file_extension": ".py",
   "mimetype": "text/x-python",
   "name": "python",
   "nbconvert_exporter": "python",
   "pygments_lexer": "ipython3",
   "version": "3.6.5"
  }
 },
 "nbformat": 4,
 "nbformat_minor": 2
}
