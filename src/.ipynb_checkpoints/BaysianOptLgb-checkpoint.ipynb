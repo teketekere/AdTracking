{
 "cells": [
  {
   "cell_type": "code",
   "execution_count": 2,
   "metadata": {},
   "outputs": [
    {
     "name": "stdout",
     "output_type": "stream",
     "text": [
      "\n",
      "Next set of params..... {'max_depth': 8, 'num_leaves': 28, 'min_child_samples': 119, 'scale_pos_weight': 201.40285712270011, 'subsample': 0.77991812136599059, 'colsample_bytree': 0.88281765709565452, 'metric': 'auc', 'nthread': 8, 'boosting_type': 'dart', 'objective': 'binary', 'learning_rate': 1.12, 'max_bin': 255, 'min_child_weight': 0, 'min_split_gain': 0, 'subsample_freq': 1}\n"
     ]
    },
    {
     "name": "stderr",
     "output_type": "stream",
     "text": [
      "C:\\Users\\ahega\\Anaconda3\\lib\\site-packages\\lightgbm\\basic.py:1036: UserWarning: Using categorical_feature in Dataset.\n",
      "  warnings.warn('Using categorical_feature in Dataset.')\n",
      "C:\\Users\\ahega\\Anaconda3\\lib\\site-packages\\lightgbm\\basic.py:681: UserWarning: categorical_feature in param dict is overrided.\n",
      "  warnings.warn('categorical_feature in param dict is overrided.')\n"
     ]
    },
    {
     "name": "stdout",
     "output_type": "stream",
     "text": [
      "\n",
      "AUROC..... 0.990369483006 .....iter..... 12\n",
      "\n",
      "Next set of params..... {'max_depth': 7, 'num_leaves': 25, 'min_child_samples': 58, 'scale_pos_weight': 67.377900519118128, 'subsample': 0.66631545886374743, 'colsample_bytree': 0.73895719080110744, 'metric': 'auc', 'nthread': 8, 'boosting_type': 'dart', 'objective': 'binary', 'learning_rate': 1.12, 'max_bin': 255, 'min_child_weight': 0, 'min_split_gain': 0, 'subsample_freq': 1}\n",
      "\n",
      "AUROC..... 0.993572695614 .....iter..... 11\n",
      "\n",
      "Next set of params..... {'max_depth': 8, 'num_leaves': 15, 'min_child_samples': 156, 'scale_pos_weight': 327.90100088305076, 'subsample': 0.88200458344842136, 'colsample_bytree': 0.64176707981058545, 'metric': 'auc', 'nthread': 8, 'boosting_type': 'dart', 'objective': 'binary', 'learning_rate': 1.12, 'max_bin': 255, 'min_child_weight': 0, 'min_split_gain': 0, 'subsample_freq': 1}\n",
      "\n",
      "AUROC..... 0.993936776134 .....iter..... 3\n",
      "\n",
      "Next set of params..... {'max_depth': 3, 'num_leaves': 9, 'min_child_samples': 168, 'scale_pos_weight': 212.34935197635025, 'subsample': 0.71517149732856056, 'colsample_bytree': 0.79920585731840688, 'metric': 'auc', 'nthread': 8, 'boosting_type': 'dart', 'objective': 'binary', 'learning_rate': 1.12, 'max_bin': 255, 'min_child_weight': 0, 'min_split_gain': 0, 'subsample_freq': 1}\n",
      "\n",
      "AUROC..... 0.981899064874 .....iter..... 5\n",
      "\n",
      "Next set of params..... {'max_depth': 3, 'num_leaves': 9, 'min_child_samples': 74, 'scale_pos_weight': 175.54573031485421, 'subsample': 0.86803877835061893, 'colsample_bytree': 0.66814144386132335, 'metric': 'auc', 'nthread': 8, 'boosting_type': 'dart', 'objective': 'binary', 'learning_rate': 1.12, 'max_bin': 255, 'min_child_weight': 0, 'min_split_gain': 0, 'subsample_freq': 1}\n",
      "\n",
      "AUROC..... 0.996649328256 .....iter..... 19\n",
      "\n",
      "Next set of params..... {'max_depth': 5, 'num_leaves': 7, 'min_child_samples': 73, 'scale_pos_weight': 49.957901588507852, 'subsample': 0.71440038432008068, 'colsample_bytree': 0.67823499330030312, 'metric': 'auc', 'nthread': 8, 'boosting_type': 'dart', 'objective': 'binary', 'learning_rate': 1.12, 'max_bin': 255, 'min_child_weight': 0, 'min_split_gain': 0, 'subsample_freq': 1}\n",
      "\n",
      "AUROC..... 0.997110844902 .....iter..... 10\n",
      "\n",
      "Next set of params..... {'max_depth': 4, 'num_leaves': 29, 'min_child_samples': 107, 'scale_pos_weight': 366.02528325159727, 'subsample': 0.75737003008446002, 'colsample_bytree': 0.69727480440104683, 'metric': 'auc', 'nthread': 8, 'boosting_type': 'dart', 'objective': 'binary', 'learning_rate': 1.12, 'max_bin': 255, 'min_child_weight': 0, 'min_split_gain': 0, 'subsample_freq': 1}\n",
      "\n",
      "AUROC..... 0.99273622388 .....iter..... 5\n",
      "\n",
      "Next set of params..... {'max_depth': 10, 'num_leaves': 14, 'min_child_samples': 97, 'scale_pos_weight': 253.39122524756891, 'subsample': 0.74740145066418218, 'colsample_bytree': 0.85776558654235913, 'metric': 'auc', 'nthread': 8, 'boosting_type': 'dart', 'objective': 'binary', 'learning_rate': 1.12, 'max_bin': 255, 'min_child_weight': 0, 'min_split_gain': 0, 'subsample_freq': 1}\n",
      "\n",
      "AUROC..... 0.977407433506 .....iter..... 7\n",
      "\n",
      "Next set of params..... {'max_depth': 5, 'num_leaves': 14, 'min_child_samples': 178, 'scale_pos_weight': 128.05015283146315, 'subsample': 0.64984339251102619, 'colsample_bytree': 0.67291970043430371, 'metric': 'auc', 'nthread': 8, 'boosting_type': 'dart', 'objective': 'binary', 'learning_rate': 1.12, 'max_bin': 255, 'min_child_weight': 0, 'min_split_gain': 0, 'subsample_freq': 1}\n",
      "\n",
      "AUROC..... 0.99456576112 .....iter..... 10\n",
      "\n",
      "Next set of params..... {'max_depth': 4, 'num_leaves': 13, 'min_child_samples': 141, 'scale_pos_weight': 345.89277922353665, 'subsample': 0.64975784074395349, 'colsample_bytree': 0.78412381607634496, 'metric': 'auc', 'nthread': 8, 'boosting_type': 'dart', 'objective': 'binary', 'learning_rate': 1.12, 'max_bin': 255, 'min_child_weight': 0, 'min_split_gain': 0, 'subsample_freq': 1}\n",
      "\n",
      "AUROC..... 0.988934040093 .....iter..... 4\n",
      "\n",
      "Next set of params..... {'max_depth': 10, 'num_leaves': 30, 'min_child_samples': 50, 'scale_pos_weight': 1.0, 'subsample': 0.59999999999999998, 'colsample_bytree': 0.59999999999999998, 'metric': 'auc', 'nthread': 8, 'boosting_type': 'dart', 'objective': 'binary', 'learning_rate': 1.12, 'max_bin': 255, 'min_child_weight': 0, 'min_split_gain': 0, 'subsample_freq': 1}\n"
     ]
    },
    {
     "name": "stderr",
     "output_type": "stream",
     "text": [
      "C:\\Users\\ahega\\Anaconda3\\lib\\site-packages\\lightgbm\\basic.py:1036: UserWarning: Using categorical_feature in Dataset.\n",
      "  warnings.warn('Using categorical_feature in Dataset.')\n",
      "C:\\Users\\ahega\\Anaconda3\\lib\\site-packages\\lightgbm\\basic.py:681: UserWarning: categorical_feature in param dict is overrided.\n",
      "  warnings.warn('categorical_feature in param dict is overrided.')\n"
     ]
    },
    {
     "name": "stdout",
     "output_type": "stream",
     "text": [
      "\n",
      "AUROC..... 0.5 .....iter..... 0\n",
      "\n",
      "Next set of params..... {'max_depth': 6, 'num_leaves': 6, 'min_child_samples': 50, 'scale_pos_weight': 1.0, 'subsample': 0.90000000000000002, 'colsample_bytree': 0.90000000000000002, 'metric': 'auc', 'nthread': 8, 'boosting_type': 'dart', 'objective': 'binary', 'learning_rate': 1.12, 'max_bin': 255, 'min_child_weight': 0, 'min_split_gain': 0, 'subsample_freq': 1}\n"
     ]
    },
    {
     "name": "stderr",
     "output_type": "stream",
     "text": [
      "C:\\Users\\ahega\\Anaconda3\\lib\\site-packages\\lightgbm\\basic.py:1036: UserWarning: Using categorical_feature in Dataset.\n",
      "  warnings.warn('Using categorical_feature in Dataset.')\n",
      "C:\\Users\\ahega\\Anaconda3\\lib\\site-packages\\lightgbm\\basic.py:681: UserWarning: categorical_feature in param dict is overrided.\n",
      "  warnings.warn('categorical_feature in param dict is overrided.')\n"
     ]
    },
    {
     "name": "stdout",
     "output_type": "stream",
     "text": [
      "\n",
      "AUROC..... 0.987218468322 .....iter..... 9\n",
      "\n",
      "Next set of params..... {'max_depth': 10, 'num_leaves': 9, 'min_child_samples': 72, 'scale_pos_weight': 330.84339526935673, 'subsample': 0.79163643692555941, 'colsample_bytree': 0.90000000000000002, 'metric': 'auc', 'nthread': 8, 'boosting_type': 'dart', 'objective': 'binary', 'learning_rate': 1.12, 'max_bin': 255, 'min_child_weight': 0, 'min_split_gain': 0, 'subsample_freq': 1}\n"
     ]
    },
    {
     "name": "stderr",
     "output_type": "stream",
     "text": [
      "C:\\Users\\ahega\\Anaconda3\\lib\\site-packages\\lightgbm\\basic.py:1036: UserWarning: Using categorical_feature in Dataset.\n",
      "  warnings.warn('Using categorical_feature in Dataset.')\n",
      "C:\\Users\\ahega\\Anaconda3\\lib\\site-packages\\lightgbm\\basic.py:681: UserWarning: categorical_feature in param dict is overrided.\n",
      "  warnings.warn('categorical_feature in param dict is overrided.')\n"
     ]
    },
    {
     "name": "stdout",
     "output_type": "stream",
     "text": [
      "\n",
      "AUROC..... 0.97924088559 .....iter..... 7\n",
      "\n",
      "Next set of params..... {'max_depth': 3, 'num_leaves': 30, 'min_child_samples': 50, 'scale_pos_weight': 1.0, 'subsample': 0.90000000000000002, 'colsample_bytree': 0.59999999999999998, 'metric': 'auc', 'nthread': 8, 'boosting_type': 'dart', 'objective': 'binary', 'learning_rate': 1.12, 'max_bin': 255, 'min_child_weight': 0, 'min_split_gain': 0, 'subsample_freq': 1}\n"
     ]
    },
    {
     "name": "stderr",
     "output_type": "stream",
     "text": [
      "C:\\Users\\ahega\\Anaconda3\\lib\\site-packages\\lightgbm\\basic.py:1036: UserWarning: Using categorical_feature in Dataset.\n",
      "  warnings.warn('Using categorical_feature in Dataset.')\n",
      "C:\\Users\\ahega\\Anaconda3\\lib\\site-packages\\lightgbm\\basic.py:681: UserWarning: categorical_feature in param dict is overrided.\n",
      "  warnings.warn('categorical_feature in param dict is overrided.')\n"
     ]
    },
    {
     "name": "stdout",
     "output_type": "stream",
     "text": [
      "\n",
      "AUROC..... 0.97978200407 .....iter..... 33\n",
      "\n",
      "Next set of params..... {'max_depth': 10, 'num_leaves': 6, 'min_child_samples': 200, 'scale_pos_weight': 1.0, 'subsample': 0.8366500579186813, 'colsample_bytree': 0.90000000000000002, 'metric': 'auc', 'nthread': 8, 'boosting_type': 'dart', 'objective': 'binary', 'learning_rate': 1.12, 'max_bin': 255, 'min_child_weight': 0, 'min_split_gain': 0, 'subsample_freq': 1}\n"
     ]
    },
    {
     "name": "stderr",
     "output_type": "stream",
     "text": [
      "C:\\Users\\ahega\\Anaconda3\\lib\\site-packages\\lightgbm\\basic.py:1036: UserWarning: Using categorical_feature in Dataset.\n",
      "  warnings.warn('Using categorical_feature in Dataset.')\n",
      "C:\\Users\\ahega\\Anaconda3\\lib\\site-packages\\lightgbm\\basic.py:681: UserWarning: categorical_feature in param dict is overrided.\n",
      "  warnings.warn('categorical_feature in param dict is overrided.')\n"
     ]
    },
    {
     "name": "stdout",
     "output_type": "stream",
     "text": [
      "\n",
      "AUROC..... 0.957707501973 .....iter..... 37\n",
      "\n",
      "Next set of params..... {'max_depth': 8, 'num_leaves': 6, 'min_child_samples': 200, 'scale_pos_weight': 1.0, 'subsample': 0.65918322798238549, 'colsample_bytree': 0.59999999999999998, 'metric': 'auc', 'nthread': 8, 'boosting_type': 'dart', 'objective': 'binary', 'learning_rate': 1.12, 'max_bin': 255, 'min_child_weight': 0, 'min_split_gain': 0, 'subsample_freq': 1}\n"
     ]
    },
    {
     "name": "stderr",
     "output_type": "stream",
     "text": [
      "C:\\Users\\ahega\\Anaconda3\\lib\\site-packages\\lightgbm\\basic.py:1036: UserWarning: Using categorical_feature in Dataset.\n",
      "  warnings.warn('Using categorical_feature in Dataset.')\n",
      "C:\\Users\\ahega\\Anaconda3\\lib\\site-packages\\lightgbm\\basic.py:681: UserWarning: categorical_feature in param dict is overrided.\n",
      "  warnings.warn('categorical_feature in param dict is overrided.')\n"
     ]
    },
    {
     "name": "stdout",
     "output_type": "stream",
     "text": [
      "\n",
      "AUROC..... 0.5 .....iter..... 0\n",
      "\n",
      "Next set of params..... {'max_depth': 3, 'num_leaves': 28, 'min_child_samples': 50, 'scale_pos_weight': 78.145343825708864, 'subsample': 0.59999999999999998, 'colsample_bytree': 0.70292994899246675, 'metric': 'auc', 'nthread': 8, 'boosting_type': 'dart', 'objective': 'binary', 'learning_rate': 1.12, 'max_bin': 255, 'min_child_weight': 0, 'min_split_gain': 0, 'subsample_freq': 1}\n"
     ]
    },
    {
     "name": "stderr",
     "output_type": "stream",
     "text": [
      "C:\\Users\\ahega\\Anaconda3\\lib\\site-packages\\lightgbm\\basic.py:1036: UserWarning: Using categorical_feature in Dataset.\n",
      "  warnings.warn('Using categorical_feature in Dataset.')\n",
      "C:\\Users\\ahega\\Anaconda3\\lib\\site-packages\\lightgbm\\basic.py:681: UserWarning: categorical_feature in param dict is overrided.\n",
      "  warnings.warn('categorical_feature in param dict is overrided.')\n"
     ]
    },
    {
     "name": "stdout",
     "output_type": "stream",
     "text": [
      "\n",
      "AUROC..... 0.98726327154 .....iter..... 5\n",
      "\n",
      "Next set of params..... {'max_depth': 5, 'num_leaves': 13, 'min_child_samples': 196, 'scale_pos_weight': 138.84954972953912, 'subsample': 0.66321677464898721, 'colsample_bytree': 0.68591863396349817, 'metric': 'auc', 'nthread': 8, 'boosting_type': 'dart', 'objective': 'binary', 'learning_rate': 1.12, 'max_bin': 255, 'min_child_weight': 0, 'min_split_gain': 0, 'subsample_freq': 1}\n"
     ]
    },
    {
     "name": "stderr",
     "output_type": "stream",
     "text": [
      "C:\\Users\\ahega\\Anaconda3\\lib\\site-packages\\lightgbm\\basic.py:1036: UserWarning: Using categorical_feature in Dataset.\n",
      "  warnings.warn('Using categorical_feature in Dataset.')\n",
      "C:\\Users\\ahega\\Anaconda3\\lib\\site-packages\\lightgbm\\basic.py:681: UserWarning: categorical_feature in param dict is overrided.\n",
      "  warnings.warn('categorical_feature in param dict is overrided.')\n"
     ]
    },
    {
     "name": "stdout",
     "output_type": "stream",
     "text": [
      "\n",
      "AUROC..... 0.9920693954 .....iter..... 3\n",
      "\n",
      "Next set of params..... {'max_depth': 3, 'num_leaves': 30, 'min_child_samples': 50, 'scale_pos_weight': 261.3841581737874, 'subsample': 0.90000000000000002, 'colsample_bytree': 0.64212263163962813, 'metric': 'auc', 'nthread': 8, 'boosting_type': 'dart', 'objective': 'binary', 'learning_rate': 1.12, 'max_bin': 255, 'min_child_weight': 0, 'min_split_gain': 0, 'subsample_freq': 1}\n"
     ]
    },
    {
     "name": "stderr",
     "output_type": "stream",
     "text": [
      "C:\\Users\\ahega\\Anaconda3\\lib\\site-packages\\lightgbm\\basic.py:1036: UserWarning: Using categorical_feature in Dataset.\n",
      "  warnings.warn('Using categorical_feature in Dataset.')\n",
      "C:\\Users\\ahega\\Anaconda3\\lib\\site-packages\\lightgbm\\basic.py:681: UserWarning: categorical_feature in param dict is overrided.\n",
      "  warnings.warn('categorical_feature in param dict is overrided.')\n"
     ]
    },
    {
     "name": "stdout",
     "output_type": "stream",
     "text": [
      "\n",
      "AUROC..... 0.991584824672 .....iter..... 7\n",
      "\n",
      "Next set of params..... {'max_depth': 3, 'num_leaves': 30, 'min_child_samples': 50, 'scale_pos_weight': 400.0, 'subsample': 0.59999999999999998, 'colsample_bytree': 0.90000000000000002, 'metric': 'auc', 'nthread': 8, 'boosting_type': 'dart', 'objective': 'binary', 'learning_rate': 1.12, 'max_bin': 255, 'min_child_weight': 0, 'min_split_gain': 0, 'subsample_freq': 1}\n"
     ]
    },
    {
     "name": "stderr",
     "output_type": "stream",
     "text": [
      "C:\\Users\\ahega\\Anaconda3\\lib\\site-packages\\lightgbm\\basic.py:1036: UserWarning: Using categorical_feature in Dataset.\n",
      "  warnings.warn('Using categorical_feature in Dataset.')\n",
      "C:\\Users\\ahega\\Anaconda3\\lib\\site-packages\\lightgbm\\basic.py:681: UserWarning: categorical_feature in param dict is overrided.\n",
      "  warnings.warn('categorical_feature in param dict is overrided.')\n"
     ]
    },
    {
     "name": "stdout",
     "output_type": "stream",
     "text": [
      "\n",
      "AUROC..... 0.995474874964 .....iter..... 3\n"
     ]
    },
    {
     "name": "stderr",
     "output_type": "stream",
     "text": [
      "C:\\Users\\ahega\\Anaconda3\\lib\\site-packages\\lightgbm\\basic.py:1036: UserWarning: Using categorical_feature in Dataset.\n",
      "  warnings.warn('Using categorical_feature in Dataset.')\n",
      "C:\\Users\\ahega\\Anaconda3\\lib\\site-packages\\lightgbm\\basic.py:681: UserWarning: categorical_feature in param dict is overrided.\n",
      "  warnings.warn('categorical_feature in param dict is overrided.')\n"
     ]
    },
    {
     "name": "stdout",
     "output_type": "stream",
     "text": [
      "\n",
      "Next set of params..... {'max_depth': 8, 'num_leaves': 18, 'min_child_samples': 116, 'scale_pos_weight': 368.68235809411061, 'subsample': 0.90000000000000002, 'colsample_bytree': 0.66106480375014409, 'metric': 'auc', 'nthread': 8, 'boosting_type': 'dart', 'objective': 'binary', 'learning_rate': 1.12, 'max_bin': 255, 'min_child_weight': 0, 'min_split_gain': 0, 'subsample_freq': 1}\n",
      "\n",
      "AUROC..... 0.994049436654 .....iter..... 3\n",
      "\n",
      "Next set of params..... {'max_depth': 5, 'num_leaves': 12, 'min_child_samples': 50, 'scale_pos_weight': 368.56183422998521, 'subsample': 0.90000000000000002, 'colsample_bytree': 0.76591897468315062, 'metric': 'auc', 'nthread': 8, 'boosting_type': 'dart', 'objective': 'binary', 'learning_rate': 1.12, 'max_bin': 255, 'min_child_weight': 0, 'min_split_gain': 0, 'subsample_freq': 1}\n"
     ]
    },
    {
     "name": "stderr",
     "output_type": "stream",
     "text": [
      "C:\\Users\\ahega\\Anaconda3\\lib\\site-packages\\lightgbm\\basic.py:1036: UserWarning: Using categorical_feature in Dataset.\n",
      "  warnings.warn('Using categorical_feature in Dataset.')\n",
      "C:\\Users\\ahega\\Anaconda3\\lib\\site-packages\\lightgbm\\basic.py:681: UserWarning: categorical_feature in param dict is overrided.\n",
      "  warnings.warn('categorical_feature in param dict is overrided.')\n"
     ]
    },
    {
     "name": "stdout",
     "output_type": "stream",
     "text": [
      "\n",
      "AUROC..... 0.991793181385 .....iter..... 4\n",
      "\n",
      "Next set of params..... {'max_depth': 3, 'num_leaves': 30, 'min_child_samples': 50, 'scale_pos_weight': 400.0, 'subsample': 0.69232030709668491, 'colsample_bytree': 0.89207755406267286, 'metric': 'auc', 'nthread': 8, 'boosting_type': 'dart', 'objective': 'binary', 'learning_rate': 1.12, 'max_bin': 255, 'min_child_weight': 0, 'min_split_gain': 0, 'subsample_freq': 1}\n"
     ]
    },
    {
     "name": "stderr",
     "output_type": "stream",
     "text": [
      "C:\\Users\\ahega\\Anaconda3\\lib\\site-packages\\lightgbm\\basic.py:1036: UserWarning: Using categorical_feature in Dataset.\n",
      "  warnings.warn('Using categorical_feature in Dataset.')\n",
      "C:\\Users\\ahega\\Anaconda3\\lib\\site-packages\\lightgbm\\basic.py:681: UserWarning: categorical_feature in param dict is overrided.\n",
      "  warnings.warn('categorical_feature in param dict is overrided.')\n"
     ]
    },
    {
     "name": "stdout",
     "output_type": "stream",
     "text": [
      "\n",
      "AUROC..... 0.99380715129 .....iter..... 4\n",
      "\n",
      "Next set of params..... {'max_depth': 3, 'num_leaves': 30, 'min_child_samples': 50, 'scale_pos_weight': 400.0, 'subsample': 0.90000000000000002, 'colsample_bytree': 0.83188537207814461, 'metric': 'auc', 'nthread': 8, 'boosting_type': 'dart', 'objective': 'binary', 'learning_rate': 1.12, 'max_bin': 255, 'min_child_weight': 0, 'min_split_gain': 0, 'subsample_freq': 1}\n"
     ]
    },
    {
     "name": "stderr",
     "output_type": "stream",
     "text": [
      "C:\\Users\\ahega\\Anaconda3\\lib\\site-packages\\lightgbm\\basic.py:1036: UserWarning: Using categorical_feature in Dataset.\n",
      "  warnings.warn('Using categorical_feature in Dataset.')\n",
      "C:\\Users\\ahega\\Anaconda3\\lib\\site-packages\\lightgbm\\basic.py:681: UserWarning: categorical_feature in param dict is overrided.\n",
      "  warnings.warn('categorical_feature in param dict is overrided.')\n"
     ]
    },
    {
     "name": "stdout",
     "output_type": "stream",
     "text": [
      "\n",
      "AUROC..... 0.992421296405 .....iter..... 1\n",
      "\n",
      "Next set of params..... {'max_depth': 6, 'num_leaves': 30, 'min_child_samples': 50, 'scale_pos_weight': 160.64452681270976, 'subsample': 0.59999999999999998, 'colsample_bytree': 0.74799529424349542, 'metric': 'auc', 'nthread': 8, 'boosting_type': 'dart', 'objective': 'binary', 'learning_rate': 1.12, 'max_bin': 255, 'min_child_weight': 0, 'min_split_gain': 0, 'subsample_freq': 1}\n"
     ]
    },
    {
     "name": "stderr",
     "output_type": "stream",
     "text": [
      "C:\\Users\\ahega\\Anaconda3\\lib\\site-packages\\lightgbm\\basic.py:1036: UserWarning: Using categorical_feature in Dataset.\n",
      "  warnings.warn('Using categorical_feature in Dataset.')\n",
      "C:\\Users\\ahega\\Anaconda3\\lib\\site-packages\\lightgbm\\basic.py:681: UserWarning: categorical_feature in param dict is overrided.\n",
      "  warnings.warn('categorical_feature in param dict is overrided.')\n"
     ]
    },
    {
     "name": "stdout",
     "output_type": "stream",
     "text": [
      "\n",
      "AUROC..... 0.992562665783 .....iter..... 3\n",
      "\n",
      "Next set of params..... {'max_depth': 7, 'num_leaves': 22, 'min_child_samples': 50, 'scale_pos_weight': 69.502649355474816, 'subsample': 0.7634010271367504, 'colsample_bytree': 0.7666048461338707, 'metric': 'auc', 'nthread': 8, 'boosting_type': 'dart', 'objective': 'binary', 'learning_rate': 1.12, 'max_bin': 255, 'min_child_weight': 0, 'min_split_gain': 0, 'subsample_freq': 1}\n"
     ]
    },
    {
     "name": "stderr",
     "output_type": "stream",
     "text": [
      "C:\\Users\\ahega\\Anaconda3\\lib\\site-packages\\lightgbm\\basic.py:1036: UserWarning: Using categorical_feature in Dataset.\n",
      "  warnings.warn('Using categorical_feature in Dataset.')\n",
      "C:\\Users\\ahega\\Anaconda3\\lib\\site-packages\\lightgbm\\basic.py:681: UserWarning: categorical_feature in param dict is overrided.\n",
      "  warnings.warn('categorical_feature in param dict is overrided.')\n"
     ]
    },
    {
     "name": "stdout",
     "output_type": "stream",
     "text": [
      "\n",
      "AUROC..... 0.992801036303 .....iter..... 6\n",
      "\n",
      "Next set of params..... {'max_depth': 6, 'num_leaves': 6, 'min_child_samples': 50, 'scale_pos_weight': 400.0, 'subsample': 0.90000000000000002, 'colsample_bytree': 0.59999999999999998, 'metric': 'auc', 'nthread': 8, 'boosting_type': 'dart', 'objective': 'binary', 'learning_rate': 1.12, 'max_bin': 255, 'min_child_weight': 0, 'min_split_gain': 0, 'subsample_freq': 1}\n"
     ]
    },
    {
     "name": "stderr",
     "output_type": "stream",
     "text": [
      "C:\\Users\\ahega\\Anaconda3\\lib\\site-packages\\lightgbm\\basic.py:1036: UserWarning: Using categorical_feature in Dataset.\n",
      "  warnings.warn('Using categorical_feature in Dataset.')\n",
      "C:\\Users\\ahega\\Anaconda3\\lib\\site-packages\\lightgbm\\basic.py:681: UserWarning: categorical_feature in param dict is overrided.\n",
      "  warnings.warn('categorical_feature in param dict is overrided.')\n"
     ]
    },
    {
     "name": "stdout",
     "output_type": "stream",
     "text": [
      "\n",
      "AUROC..... 0.988569089607 .....iter..... 5\n",
      "\n",
      "Next set of params..... {'max_depth': 3, 'num_leaves': 6, 'min_child_samples': 50, 'scale_pos_weight': 1.0, 'subsample': 0.71212247165824771, 'colsample_bytree': 0.90000000000000002, 'metric': 'auc', 'nthread': 8, 'boosting_type': 'dart', 'objective': 'binary', 'learning_rate': 1.12, 'max_bin': 255, 'min_child_weight': 0, 'min_split_gain': 0, 'subsample_freq': 1}\n"
     ]
    },
    {
     "name": "stderr",
     "output_type": "stream",
     "text": [
      "C:\\Users\\ahega\\Anaconda3\\lib\\site-packages\\lightgbm\\basic.py:1036: UserWarning: Using categorical_feature in Dataset.\n",
      "  warnings.warn('Using categorical_feature in Dataset.')\n",
      "C:\\Users\\ahega\\Anaconda3\\lib\\site-packages\\lightgbm\\basic.py:681: UserWarning: categorical_feature in param dict is overrided.\n",
      "  warnings.warn('categorical_feature in param dict is overrided.')\n"
     ]
    },
    {
     "name": "stdout",
     "output_type": "stream",
     "text": [
      "\n",
      "AUROC..... 0.5 .....iter..... 0\n",
      "\n",
      "Next set of params..... {'max_depth': 10, 'num_leaves': 6, 'min_child_samples': 200, 'scale_pos_weight': 46.980651700715292, 'subsample': 0.90000000000000002, 'colsample_bytree': 0.90000000000000002, 'metric': 'auc', 'nthread': 8, 'boosting_type': 'dart', 'objective': 'binary', 'learning_rate': 1.12, 'max_bin': 255, 'min_child_weight': 0, 'min_split_gain': 0, 'subsample_freq': 1}\n"
     ]
    },
    {
     "name": "stderr",
     "output_type": "stream",
     "text": [
      "C:\\Users\\ahega\\Anaconda3\\lib\\site-packages\\lightgbm\\basic.py:1036: UserWarning: Using categorical_feature in Dataset.\n",
      "  warnings.warn('Using categorical_feature in Dataset.')\n",
      "C:\\Users\\ahega\\Anaconda3\\lib\\site-packages\\lightgbm\\basic.py:681: UserWarning: categorical_feature in param dict is overrided.\n",
      "  warnings.warn('categorical_feature in param dict is overrided.')\n"
     ]
    },
    {
     "name": "stdout",
     "output_type": "stream",
     "text": [
      "\n",
      "AUROC..... 0.99518430652 .....iter..... 6\n",
      "\n",
      "Next set of params..... {'max_depth': 6, 'num_leaves': 8, 'min_child_samples': 169, 'scale_pos_weight': 216.84994121008376, 'subsample': 0.90000000000000002, 'colsample_bytree': 0.60136745574712325, 'metric': 'auc', 'nthread': 8, 'boosting_type': 'dart', 'objective': 'binary', 'learning_rate': 1.12, 'max_bin': 255, 'min_child_weight': 0, 'min_split_gain': 0, 'subsample_freq': 1}\n"
     ]
    },
    {
     "name": "stderr",
     "output_type": "stream",
     "text": [
      "C:\\Users\\ahega\\Anaconda3\\lib\\site-packages\\lightgbm\\basic.py:1036: UserWarning: Using categorical_feature in Dataset.\n",
      "  warnings.warn('Using categorical_feature in Dataset.')\n",
      "C:\\Users\\ahega\\Anaconda3\\lib\\site-packages\\lightgbm\\basic.py:681: UserWarning: categorical_feature in param dict is overrided.\n",
      "  warnings.warn('categorical_feature in param dict is overrided.')\n"
     ]
    },
    {
     "name": "stdout",
     "output_type": "stream",
     "text": [
      "\n",
      "AUROC..... 0.994348704752 .....iter..... 3\n",
      "Best score=-0.9971\n"
     ]
    },
    {
     "data": {
      "text/plain": [
       "<matplotlib.axes._subplots.AxesSubplot at 0x21a011f53c8>"
      ]
     },
     "execution_count": 2,
     "metadata": {},
     "output_type": "execute_result"
    },
    {
     "data": {
      "image/png": "[encoded data removed]",
      "text/plain": [
       "<Figure size 432x288 with 1 Axes>"
      ]
     },
     "metadata": {},
     "output_type": "display_data"
    }
   ],
   "source": [
    "import pandas as pd\n",
    "import numpy as np\n",
    "import xgboost as xgb\n",
    "import lightgbm as lgb\n",
    "import gc\n",
    "\n",
    "from skopt.space import Real, Integer\n",
    "from skopt.utils import use_named_args\n",
    "import itertools\n",
    "from sklearn.metrics import roc_auc_score\n",
    "from skopt import gp_minimize\n",
    "%matplotlib inline\n",
    "\n",
    "def objective(values):\n",
    "    params = {'max_depth': values[0], \n",
    "          'num_leaves': values[1], \n",
    "          'min_child_samples': values[2], \n",
    "          'scale_pos_weight': values[3],\n",
    "            'subsample': values[4],\n",
    "            'colsample_bytree': values[5],\n",
    "             'metric':'auc',\n",
    "             'nthread': 8,\n",
    "             'boosting_type': 'dart',\n",
    "             'objective': 'binary',\n",
    "             'learning_rate': 1.12,\n",
    "             'max_bin': 255,\n",
    "             'min_child_weight': 0,\n",
    "             'min_split_gain': 0,\n",
    "             'subsample_freq': 1\n",
    "             }\n",
    "    \n",
    "\n",
    "    print('\\nNext set of params.....',params)\n",
    "    \n",
    "    feature_set = ['app','device','os','channel']\n",
    "    categorical = ['app','device','os','channel']\n",
    "    \n",
    "    \n",
    "    early_stopping_rounds = 50\n",
    "    num_boost_round       = 1000\n",
    "    \n",
    "        # Fit model on feature_set and calculate validation AUROC\n",
    "    xgtrain = lgb.Dataset(train[feature_set].values, label=y_train,feature_name=feature_set,\n",
    "                           categorical_feature=categorical)\n",
    "    xgvalid = lgb.Dataset(val[feature_set].values, label=y_val,feature_name=feature_set,\n",
    "                          categorical_feature=categorical)\n",
    "    \n",
    "    evals_results = {}\n",
    "    model_lgb     = lgb.train(params,xgtrain,valid_sets=[xgtrain, xgvalid], \n",
    "                              valid_names=['train','valid'], \n",
    "                               evals_result=evals_results, \n",
    "                               num_boost_round=num_boost_round,\n",
    "                                early_stopping_rounds=early_stopping_rounds,\n",
    "                               verbose_eval=None, feval=None)\n",
    "    \n",
    "    auc = -roc_auc_score(y_val, model_lgb.predict(val[model_lgb.feature_name()]))\n",
    "    \n",
    "    print('\\nAUROC.....',-auc,\".....iter.....\", model_lgb.current_iteration())\n",
    "    \n",
    "    gc.collect()\n",
    "    \n",
    "    return  auc\n",
    "\n",
    "TRAINING_SIZE = 300000\n",
    "TEST_SIZE = 50000\n",
    "\n",
    "# Load data\n",
    "train = pd.read_csv(\n",
    "    '../input/train.csv', \n",
    "    skiprows=range(1,184903891-TRAINING_SIZE-TEST_SIZE), \n",
    "    nrows=TRAINING_SIZE,\n",
    "    parse_dates=['click_time']\n",
    ")\n",
    "\n",
    "val = pd.read_csv(\n",
    "    '../input/train.csv', \n",
    "    skiprows=range(1,184903891-TEST_SIZE), \n",
    "    nrows=TEST_SIZE,\n",
    "    parse_dates=['click_time']\n",
    ")\n",
    "\n",
    "# Split into X and y\n",
    "y_train = train['is_attributed']\n",
    "y_val = val['is_attributed']\n",
    "\n",
    "# from that dimension (`'log-uniform'` for the learning rate)\n",
    "space  = [Integer(3, 10, name='max_depth'),\n",
    "          Integer(6, 30, name='num_leaves'),\n",
    "          Integer(50, 200, name='min_child_samples'),\n",
    "          Real(1, 400,  name='scale_pos_weight'),\n",
    "          Real(0.6, 0.9, name='subsample'),\n",
    "          Real(0.6, 0.9, name='colsample_bytree'),\n",
    "          Real(0.0. 1.0), name='reg_alpha',\n",
    "          Real(0.0. 1.0), name='reg_lambda'          \n",
    "         ]\n",
    "\n",
    "res_gp = gp_minimize(objective, space, n_calls=30,\n",
    "                     random_state=987,n_random_starts=10)\n",
    "\n",
    "print(\"Best score=%.4f\" % res_gp.fun)\n",
    "\n",
    "from skopt.plots import plot_convergence\n",
    "\n",
    "plot_convergence(res_gp)"
   ]
  },
  {
   "cell_type": "code",
   "execution_count": 3,
   "metadata": {},
   "outputs": [
    {
     "name": "stdout",
     "output_type": "stream",
     "text": [
      "\n",
      "Next set of params..... {'max_depth': 77, 'num_leaves': 28, 'min_child_samples': 119, 'scale_pos_weight': 201.40285712270011, 'subsample': 0.77991812136599059, 'colsample_bytree': 0.88281765709565452, 'metric': 'auc', 'nthread': 8, 'boosting_type': 'rf', 'objective': 'binary', 'learning_rate': 0.11286443618153884, 'max_bin': 100, 'min_child_weight': 0, 'min_split_gain': 0, 'subsample_freq': 1}\n"
     ]
    },
    {
     "name": "stderr",
     "output_type": "stream",
     "text": [
      "C:\\Users\\ahega\\Anaconda3\\lib\\site-packages\\lightgbm\\basic.py:1036: UserWarning: Using categorical_feature in Dataset.\n",
      "  warnings.warn('Using categorical_feature in Dataset.')\n",
      "C:\\Users\\ahega\\Anaconda3\\lib\\site-packages\\lightgbm\\basic.py:681: UserWarning: categorical_feature in param dict is overrided.\n",
      "  warnings.warn('categorical_feature in param dict is overrided.')\n"
     ]
    },
    {
     "name": "stdout",
     "output_type": "stream",
     "text": [
      "\n",
      "AUROC..... 0.987592553444 .....iter..... 3\n",
      "\n",
      "Next set of params..... {'max_depth': 78, 'num_leaves': 7, 'min_child_samples': 75, 'scale_pos_weight': 89.199560288784184, 'subsample': 0.73895719080110744, 'colsample_bytree': 0.79573970970753982, 'metric': 'auc', 'nthread': 8, 'boosting_type': 'rf', 'objective': 'binary', 'learning_rate': 0.085757442793279848, 'max_bin': 100, 'min_child_weight': 0, 'min_split_gain': 0, 'subsample_freq': 1}\n",
      "\n",
      "AUROC..... 0.975801042393 .....iter..... 160\n",
      "\n",
      "Next set of params..... {'max_depth': 72, 'num_leaves': 26, 'min_child_samples': 191, 'scale_pos_weight': 56.550216148078619, 'subsample': 0.61678384201062952, 'colsample_bytree': 0.64016132007105164, 'metric': 'auc', 'nthread': 8, 'boosting_type': 'rf', 'objective': 'binary', 'learning_rate': 0.128694381391524, 'max_bin': 100, 'min_child_weight': 0, 'min_split_gain': 0, 'subsample_freq': 1}\n",
      "\n",
      "AUROC..... 0.97424641422 .....iter..... 5\n",
      "\n",
      "Next set of params..... {'max_depth': 54, 'num_leaves': 15, 'min_child_samples': 150, 'scale_pos_weight': 15.228047559585651, 'subsample': 0.63914564093873705, 'colsample_bytree': 0.64839230391776281, 'metric': 'auc', 'nthread': 8, 'boosting_type': 'rf', 'objective': 'binary', 'learning_rate': 0.093745797071392023, 'max_bin': 100, 'min_child_weight': 0, 'min_split_gain': 0, 'subsample_freq': 1}\n",
      "\n",
      "AUROC..... 0.975690556787 .....iter..... 29\n",
      "\n",
      "Next set of params..... {'max_depth': 90, 'num_leaves': 11, 'min_child_samples': 102, 'scale_pos_weight': 16.732068476831326, 'subsample': 0.64503778315617688, 'colsample_bytree': 0.63681045232218636, 'metric': 'auc', 'nthread': 8, 'boosting_type': 'rf', 'objective': 'binary', 'learning_rate': 0.0881334614400269, 'max_bin': 100, 'min_child_weight': 0, 'min_split_gain': 0, 'subsample_freq': 1}\n",
      "\n",
      "AUROC..... 0.975687076925 .....iter..... 16\n",
      "\n",
      "Next set of params..... {'max_depth': 28, 'num_leaves': 10, 'min_child_samples': 191, 'scale_pos_weight': 151.67424393790114, 'subsample': 0.87445510018917094, 'colsample_bytree': 0.75737003008446002, 'metric': 'auc', 'nthread': 8, 'boosting_type': 'rf', 'objective': 'binary', 'learning_rate': 0.082424934800348959, 'max_bin': 100, 'min_child_weight': 0, 'min_split_gain': 0, 'subsample_freq': 1}\n",
      "\n",
      "AUROC..... 0.976406538312 .....iter..... 1\n",
      "\n",
      "Next set of params..... {'max_depth': 94, 'num_leaves': 14, 'min_child_samples': 97, 'scale_pos_weight': 253.39122524756891, 'subsample': 0.74740145066418218, 'colsample_bytree': 0.85776558654235913, 'metric': 'auc', 'nthread': 8, 'boosting_type': 'rf', 'objective': 'binary', 'learning_rate': 0.07620125946452945, 'max_bin': 100, 'min_child_weight': 0, 'min_split_gain': 0, 'subsample_freq': 1}\n",
      "\n",
      "AUROC..... 0.990754877679 .....iter..... 7\n",
      "\n",
      "Next set of params..... {'max_depth': 34, 'num_leaves': 26, 'min_child_samples': 98, 'scale_pos_weight': 67.291712039664773, 'subsample': 0.67291970043430371, 'colsample_bytree': 0.64967126688128085, 'metric': 'auc', 'nthread': 8, 'boosting_type': 'rf', 'objective': 'binary', 'learning_rate': 0.080035788580323522, 'max_bin': 100, 'min_child_weight': 0, 'min_split_gain': 0, 'subsample_freq': 1}\n",
      "\n",
      "AUROC..... 0.974930642008 .....iter..... 5\n",
      "\n",
      "Next set of params..... {'max_depth': 62, 'num_leaves': 27, 'min_child_samples': 75, 'scale_pos_weight': 245.88467538153878, 'subsample': 0.87449954007647368, 'colsample_bytree': 0.66148545774525658, 'metric': 'auc', 'nthread': 8, 'boosting_type': 'rf', 'objective': 'binary', 'learning_rate': 0.094743473750451654, 'max_bin': 100, 'min_child_weight': 0, 'min_split_gain': 0, 'subsample_freq': 1}\n",
      "\n",
      "AUROC..... 0.991011082489 .....iter..... 9\n",
      "\n",
      "Next set of params..... {'max_depth': 88, 'num_leaves': 28, 'min_child_samples': 91, 'scale_pos_weight': 46.364459651470234, 'subsample': 0.85919205864338211, 'colsample_bytree': 0.73687932825868463, 'metric': 'auc', 'nthread': 8, 'boosting_type': 'rf', 'objective': 'binary', 'learning_rate': 0.055589116013463551, 'max_bin': 100, 'min_child_weight': 0, 'min_split_gain': 0, 'subsample_freq': 1}\n",
      "\n",
      "AUROC..... 0.973760973526 .....iter..... 11\n",
      "\n",
      "Next set of params..... {'max_depth': 100, 'num_leaves': 30, 'min_child_samples': 50, 'scale_pos_weight': 400.0, 'subsample': 0.59999999999999998, 'colsample_bytree': 0.8263421936332529, 'metric': 'auc', 'nthread': 8, 'boosting_type': 'rf', 'objective': 'binary', 'learning_rate': 0.14999999999999999, 'max_bin': 100, 'min_child_weight': 0, 'min_split_gain': 0, 'subsample_freq': 1}\n"
     ]
    },
    {
     "name": "stderr",
     "output_type": "stream",
     "text": [
      "C:\\Users\\ahega\\Anaconda3\\lib\\site-packages\\lightgbm\\basic.py:1036: UserWarning: Using categorical_feature in Dataset.\n",
      "  warnings.warn('Using categorical_feature in Dataset.')\n",
      "C:\\Users\\ahega\\Anaconda3\\lib\\site-packages\\lightgbm\\basic.py:681: UserWarning: categorical_feature in param dict is overrided.\n",
      "  warnings.warn('categorical_feature in param dict is overrided.')\n"
     ]
    },
    {
     "name": "stdout",
     "output_type": "stream",
     "text": [
      "\n",
      "AUROC..... 0.990289446189 .....iter..... 13\n",
      "\n",
      "Next set of params..... {'max_depth': 3, 'num_leaves': 6, 'min_child_samples': 200, 'scale_pos_weight': 400.0, 'subsample': 0.90000000000000002, 'colsample_bytree': 0.59999999999999998, 'metric': 'auc', 'nthread': 8, 'boosting_type': 'rf', 'objective': 'binary', 'learning_rate': 0.050000000000000003, 'max_bin': 100, 'min_child_weight': 0, 'min_split_gain': 0, 'subsample_freq': 1}\n"
     ]
    },
    {
     "name": "stderr",
     "output_type": "stream",
     "text": [
      "C:\\Users\\ahega\\Anaconda3\\lib\\site-packages\\lightgbm\\basic.py:1036: UserWarning: Using categorical_feature in Dataset.\n",
      "  warnings.warn('Using categorical_feature in Dataset.')\n",
      "C:\\Users\\ahega\\Anaconda3\\lib\\site-packages\\lightgbm\\basic.py:681: UserWarning: categorical_feature in param dict is overrided.\n",
      "  warnings.warn('categorical_feature in param dict is overrided.')\n"
     ]
    },
    {
     "name": "stdout",
     "output_type": "stream",
     "text": [
      "\n",
      "AUROC..... 0.988449034382 .....iter..... 5\n",
      "\n",
      "Next set of params..... {'max_depth': 3, 'num_leaves': 30, 'min_child_samples': 50, 'scale_pos_weight': 321.48239613420714, 'subsample': 0.59999999999999998, 'colsample_bytree': 0.90000000000000002, 'metric': 'auc', 'nthread': 8, 'boosting_type': 'rf', 'objective': 'binary', 'learning_rate': 0.14999999999999999, 'max_bin': 100, 'min_child_weight': 0, 'min_split_gain': 0, 'subsample_freq': 1}\n"
     ]
    },
    {
     "name": "stderr",
     "output_type": "stream",
     "text": [
      "C:\\Users\\ahega\\Anaconda3\\lib\\site-packages\\lightgbm\\basic.py:1036: UserWarning: Using categorical_feature in Dataset.\n",
      "  warnings.warn('Using categorical_feature in Dataset.')\n",
      "C:\\Users\\ahega\\Anaconda3\\lib\\site-packages\\lightgbm\\basic.py:681: UserWarning: categorical_feature in param dict is overrided.\n",
      "  warnings.warn('categorical_feature in param dict is overrided.')\n"
     ]
    },
    {
     "name": "stdout",
     "output_type": "stream",
     "text": [
      "\n",
      "AUROC..... 0.98999322297 .....iter..... 1\n",
      "\n",
      "Next set of params..... {'max_depth': 79, 'num_leaves': 7, 'min_child_samples': 200, 'scale_pos_weight': 322.4117060077217, 'subsample': 0.60078193903393529, 'colsample_bytree': 0.63134803092225766, 'metric': 'auc', 'nthread': 8, 'boosting_type': 'rf', 'objective': 'binary', 'learning_rate': 0.10129659870325217, 'max_bin': 100, 'min_child_weight': 0, 'min_split_gain': 0, 'subsample_freq': 1}\n"
     ]
    },
    {
     "name": "stderr",
     "output_type": "stream",
     "text": [
      "C:\\Users\\ahega\\Anaconda3\\lib\\site-packages\\lightgbm\\basic.py:1036: UserWarning: Using categorical_feature in Dataset.\n",
      "  warnings.warn('Using categorical_feature in Dataset.')\n",
      "C:\\Users\\ahega\\Anaconda3\\lib\\site-packages\\lightgbm\\basic.py:681: UserWarning: categorical_feature in param dict is overrided.\n",
      "  warnings.warn('categorical_feature in param dict is overrided.')\n"
     ]
    },
    {
     "name": "stdout",
     "output_type": "stream",
     "text": [
      "\n",
      "AUROC..... 0.988750912376 .....iter..... 3\n",
      "\n",
      "Next set of params..... {'max_depth': 73, 'num_leaves': 30, 'min_child_samples': 81, 'scale_pos_weight': 397.38420182454388, 'subsample': 0.76766092368587002, 'colsample_bytree': 0.84087220263193529, 'metric': 'auc', 'nthread': 8, 'boosting_type': 'rf', 'objective': 'binary', 'learning_rate': 0.050259128534582115, 'max_bin': 100, 'min_child_weight': 0, 'min_split_gain': 0, 'subsample_freq': 1}\n"
     ]
    },
    {
     "name": "stderr",
     "output_type": "stream",
     "text": [
      "C:\\Users\\ahega\\Anaconda3\\lib\\site-packages\\lightgbm\\basic.py:1036: UserWarning: Using categorical_feature in Dataset.\n",
      "  warnings.warn('Using categorical_feature in Dataset.')\n",
      "C:\\Users\\ahega\\Anaconda3\\lib\\site-packages\\lightgbm\\basic.py:681: UserWarning: categorical_feature in param dict is overrided.\n",
      "  warnings.warn('categorical_feature in param dict is overrided.')\n"
     ]
    },
    {
     "name": "stdout",
     "output_type": "stream",
     "text": [
      "\n",
      "AUROC..... 0.988852698328 .....iter..... 7\n",
      "\n",
      "Next set of params..... {'max_depth': 92, 'num_leaves': 30, 'min_child_samples': 68, 'scale_pos_weight': 311.4019359169892, 'subsample': 0.60116525778743113, 'colsample_bytree': 0.63143001071668403, 'metric': 'auc', 'nthread': 8, 'boosting_type': 'rf', 'objective': 'binary', 'learning_rate': 0.052176034982961264, 'max_bin': 100, 'min_child_weight': 0, 'min_split_gain': 0, 'subsample_freq': 1}\n"
     ]
    },
    {
     "name": "stderr",
     "output_type": "stream",
     "text": [
      "C:\\Users\\ahega\\Anaconda3\\lib\\site-packages\\lightgbm\\basic.py:1036: UserWarning: Using categorical_feature in Dataset.\n",
      "  warnings.warn('Using categorical_feature in Dataset.')\n",
      "C:\\Users\\ahega\\Anaconda3\\lib\\site-packages\\lightgbm\\basic.py:681: UserWarning: categorical_feature in param dict is overrided.\n",
      "  warnings.warn('categorical_feature in param dict is overrided.')\n"
     ]
    },
    {
     "name": "stdout",
     "output_type": "stream",
     "text": [
      "\n",
      "AUROC..... 0.98789138656 .....iter..... 3\n",
      "\n",
      "Next set of params..... {'max_depth': 12, 'num_leaves': 8, 'min_child_samples': 52, 'scale_pos_weight': 395.06272095018551, 'subsample': 0.85560500261940975, 'colsample_bytree': 0.76846441573821578, 'metric': 'auc', 'nthread': 8, 'boosting_type': 'rf', 'objective': 'binary', 'learning_rate': 0.13772289754932474, 'max_bin': 100, 'min_child_weight': 0, 'min_split_gain': 0, 'subsample_freq': 1}\n"
     ]
    },
    {
     "name": "stderr",
     "output_type": "stream",
     "text": [
      "C:\\Users\\ahega\\Anaconda3\\lib\\site-packages\\lightgbm\\basic.py:1036: UserWarning: Using categorical_feature in Dataset.\n",
      "  warnings.warn('Using categorical_feature in Dataset.')\n",
      "C:\\Users\\ahega\\Anaconda3\\lib\\site-packages\\lightgbm\\basic.py:681: UserWarning: categorical_feature in param dict is overrided.\n",
      "  warnings.warn('categorical_feature in param dict is overrided.')\n"
     ]
    },
    {
     "name": "stdout",
     "output_type": "stream",
     "text": [
      "\n",
      "AUROC..... 0.98949081795 .....iter..... 1\n",
      "\n",
      "Next set of params..... {'max_depth': 80, 'num_leaves': 29, 'min_child_samples': 187, 'scale_pos_weight': 398.89523704531496, 'subsample': 0.65051108398260205, 'colsample_bytree': 0.87559123649240367, 'metric': 'auc', 'nthread': 8, 'boosting_type': 'rf', 'objective': 'binary', 'learning_rate': 0.050975682216562394, 'max_bin': 100, 'min_child_weight': 0, 'min_split_gain': 0, 'subsample_freq': 1}\n"
     ]
    },
    {
     "name": "stderr",
     "output_type": "stream",
     "text": [
      "C:\\Users\\ahega\\Anaconda3\\lib\\site-packages\\lightgbm\\basic.py:1036: UserWarning: Using categorical_feature in Dataset.\n",
      "  warnings.warn('Using categorical_feature in Dataset.')\n",
      "C:\\Users\\ahega\\Anaconda3\\lib\\site-packages\\lightgbm\\basic.py:681: UserWarning: categorical_feature in param dict is overrided.\n",
      "  warnings.warn('categorical_feature in param dict is overrided.')\n"
     ]
    },
    {
     "name": "stdout",
     "output_type": "stream",
     "text": [
      "\n",
      "AUROC..... 0.989833584318 .....iter..... 9\n",
      "\n",
      "Next set of params..... {'max_depth': 100, 'num_leaves': 6, 'min_child_samples': 50, 'scale_pos_weight': 341.1975307058479, 'subsample': 0.90000000000000002, 'colsample_bytree': 0.90000000000000002, 'metric': 'auc', 'nthread': 8, 'boosting_type': 'rf', 'objective': 'binary', 'learning_rate': 0.14999999999999999, 'max_bin': 100, 'min_child_weight': 0, 'min_split_gain': 0, 'subsample_freq': 1}\n"
     ]
    },
    {
     "name": "stderr",
     "output_type": "stream",
     "text": [
      "C:\\Users\\ahega\\Anaconda3\\lib\\site-packages\\lightgbm\\basic.py:1036: UserWarning: Using categorical_feature in Dataset.\n",
      "  warnings.warn('Using categorical_feature in Dataset.')\n",
      "C:\\Users\\ahega\\Anaconda3\\lib\\site-packages\\lightgbm\\basic.py:681: UserWarning: categorical_feature in param dict is overrided.\n",
      "  warnings.warn('categorical_feature in param dict is overrided.')\n"
     ]
    },
    {
     "name": "stdout",
     "output_type": "stream",
     "text": [
      "\n",
      "AUROC..... 0.990986288475 .....iter..... 4\n",
      "\n",
      "Next set of params..... {'max_depth': 100, 'num_leaves': 30, 'min_child_samples': 50, 'scale_pos_weight': 342.49958313393023, 'subsample': 0.90000000000000002, 'colsample_bytree': 0.90000000000000002, 'metric': 'auc', 'nthread': 8, 'boosting_type': 'rf', 'objective': 'binary', 'learning_rate': 0.14999999999999999, 'max_bin': 100, 'min_child_weight': 0, 'min_split_gain': 0, 'subsample_freq': 1}\n"
     ]
    },
    {
     "name": "stderr",
     "output_type": "stream",
     "text": [
      "C:\\Users\\ahega\\Anaconda3\\lib\\site-packages\\lightgbm\\basic.py:1036: UserWarning: Using categorical_feature in Dataset.\n",
      "  warnings.warn('Using categorical_feature in Dataset.')\n",
      "C:\\Users\\ahega\\Anaconda3\\lib\\site-packages\\lightgbm\\basic.py:681: UserWarning: categorical_feature in param dict is overrided.\n",
      "  warnings.warn('categorical_feature in param dict is overrided.')\n"
     ]
    },
    {
     "name": "stdout",
     "output_type": "stream",
     "text": [
      "\n",
      "AUROC..... 0.989351188503 .....iter..... 1\n",
      "\n",
      "Next set of params..... {'max_depth': 89, 'num_leaves': 8, 'min_child_samples': 176, 'scale_pos_weight': 399.89992942519871, 'subsample': 0.6030968301149372, 'colsample_bytree': 0.87483037589971857, 'metric': 'auc', 'nthread': 8, 'boosting_type': 'rf', 'objective': 'binary', 'learning_rate': 0.071308265836034168, 'max_bin': 100, 'min_child_weight': 0, 'min_split_gain': 0, 'subsample_freq': 1}\n"
     ]
    },
    {
     "name": "stderr",
     "output_type": "stream",
     "text": [
      "C:\\Users\\ahega\\Anaconda3\\lib\\site-packages\\lightgbm\\basic.py:1036: UserWarning: Using categorical_feature in Dataset.\n",
      "  warnings.warn('Using categorical_feature in Dataset.')\n",
      "C:\\Users\\ahega\\Anaconda3\\lib\\site-packages\\lightgbm\\basic.py:681: UserWarning: categorical_feature in param dict is overrided.\n",
      "  warnings.warn('categorical_feature in param dict is overrided.')\n"
     ]
    },
    {
     "name": "stdout",
     "output_type": "stream",
     "text": [
      "\n",
      "AUROC..... 0.991261197542 .....iter..... 3\n",
      "\n",
      "Next set of params..... {'max_depth': 100, 'num_leaves': 11, 'min_child_samples': 52, 'scale_pos_weight': 391.19966200274092, 'subsample': 0.87276478068132413, 'colsample_bytree': 0.60789219165774966, 'metric': 'auc', 'nthread': 8, 'boosting_type': 'rf', 'objective': 'binary', 'learning_rate': 0.070891228039156512, 'max_bin': 100, 'min_child_weight': 0, 'min_split_gain': 0, 'subsample_freq': 1}\n"
     ]
    },
    {
     "name": "stderr",
     "output_type": "stream",
     "text": [
      "C:\\Users\\ahega\\Anaconda3\\lib\\site-packages\\lightgbm\\basic.py:1036: UserWarning: Using categorical_feature in Dataset.\n",
      "  warnings.warn('Using categorical_feature in Dataset.')\n",
      "C:\\Users\\ahega\\Anaconda3\\lib\\site-packages\\lightgbm\\basic.py:681: UserWarning: categorical_feature in param dict is overrided.\n",
      "  warnings.warn('categorical_feature in param dict is overrided.')\n"
     ]
    },
    {
     "name": "stdout",
     "output_type": "stream",
     "text": [
      "\n",
      "AUROC..... 0.990435600376 .....iter..... 41\n",
      "\n",
      "Next set of params..... {'max_depth': 19, 'num_leaves': 11, 'min_child_samples': 190, 'scale_pos_weight': 394.51337124965784, 'subsample': 0.89392761653681752, 'colsample_bytree': 0.65801872261001515, 'metric': 'auc', 'nthread': 8, 'boosting_type': 'rf', 'objective': 'binary', 'learning_rate': 0.14944626066799049, 'max_bin': 100, 'min_child_weight': 0, 'min_split_gain': 0, 'subsample_freq': 1}\n"
     ]
    },
    {
     "name": "stderr",
     "output_type": "stream",
     "text": [
      "C:\\Users\\ahega\\Anaconda3\\lib\\site-packages\\lightgbm\\basic.py:1036: UserWarning: Using categorical_feature in Dataset.\n",
      "  warnings.warn('Using categorical_feature in Dataset.')\n",
      "C:\\Users\\ahega\\Anaconda3\\lib\\site-packages\\lightgbm\\basic.py:681: UserWarning: categorical_feature in param dict is overrided.\n",
      "  warnings.warn('categorical_feature in param dict is overrided.')\n"
     ]
    },
    {
     "name": "stdout",
     "output_type": "stream",
     "text": [
      "\n",
      "AUROC..... 0.988818334695 .....iter..... 5\n",
      "\n",
      "Next set of params..... {'max_depth': 100, 'num_leaves': 30, 'min_child_samples': 50, 'scale_pos_weight': 400.0, 'subsample': 0.59999999999999998, 'colsample_bytree': 0.59999999999999998, 'metric': 'auc', 'nthread': 8, 'boosting_type': 'rf', 'objective': 'binary', 'learning_rate': 0.14999999999999999, 'max_bin': 100, 'min_child_weight': 0, 'min_split_gain': 0, 'subsample_freq': 1}\n"
     ]
    },
    {
     "name": "stderr",
     "output_type": "stream",
     "text": [
      "C:\\Users\\ahega\\Anaconda3\\lib\\site-packages\\lightgbm\\basic.py:1036: UserWarning: Using categorical_feature in Dataset.\n",
      "  warnings.warn('Using categorical_feature in Dataset.')\n",
      "C:\\Users\\ahega\\Anaconda3\\lib\\site-packages\\lightgbm\\basic.py:681: UserWarning: categorical_feature in param dict is overrided.\n",
      "  warnings.warn('categorical_feature in param dict is overrided.')\n"
     ]
    },
    {
     "name": "stdout",
     "output_type": "stream",
     "text": [
      "\n",
      "AUROC..... 0.992299936232 .....iter..... 9\n",
      "\n",
      "Next set of params..... {'max_depth': 3, 'num_leaves': 7, 'min_child_samples': 162, 'scale_pos_weight': 394.36015227419642, 'subsample': 0.6074736258755451, 'colsample_bytree': 0.81920351271114389, 'metric': 'auc', 'nthread': 8, 'boosting_type': 'rf', 'objective': 'binary', 'learning_rate': 0.14718473815491204, 'max_bin': 100, 'min_child_weight': 0, 'min_split_gain': 0, 'subsample_freq': 1}\n"
     ]
    },
    {
     "name": "stderr",
     "output_type": "stream",
     "text": [
      "C:\\Users\\ahega\\Anaconda3\\lib\\site-packages\\lightgbm\\basic.py:1036: UserWarning: Using categorical_feature in Dataset.\n",
      "  warnings.warn('Using categorical_feature in Dataset.')\n",
      "C:\\Users\\ahega\\Anaconda3\\lib\\site-packages\\lightgbm\\basic.py:681: UserWarning: categorical_feature in param dict is overrided.\n",
      "  warnings.warn('categorical_feature in param dict is overrided.')\n"
     ]
    },
    {
     "name": "stdout",
     "output_type": "stream",
     "text": [
      "\n",
      "AUROC..... 0.990161996257 .....iter..... 1\n",
      "\n",
      "Next set of params..... {'max_depth': 98, 'num_leaves': 28, 'min_child_samples': 199, 'scale_pos_weight': 377.22699516307409, 'subsample': 0.88476830060465939, 'colsample_bytree': 0.71146947816539197, 'metric': 'auc', 'nthread': 8, 'boosting_type': 'rf', 'objective': 'binary', 'learning_rate': 0.14667948672265868, 'max_bin': 100, 'min_child_weight': 0, 'min_split_gain': 0, 'subsample_freq': 1}\n"
     ]
    },
    {
     "name": "stderr",
     "output_type": "stream",
     "text": [
      "C:\\Users\\ahega\\Anaconda3\\lib\\site-packages\\lightgbm\\basic.py:1036: UserWarning: Using categorical_feature in Dataset.\n",
      "  warnings.warn('Using categorical_feature in Dataset.')\n",
      "C:\\Users\\ahega\\Anaconda3\\lib\\site-packages\\lightgbm\\basic.py:681: UserWarning: categorical_feature in param dict is overrided.\n",
      "  warnings.warn('categorical_feature in param dict is overrided.')\n"
     ]
    },
    {
     "name": "stdout",
     "output_type": "stream",
     "text": [
      "\n",
      "AUROC..... 0.991271202144 .....iter..... 6\n",
      "\n",
      "Next set of params..... {'max_depth': 100, 'num_leaves': 6, 'min_child_samples': 50, 'scale_pos_weight': 400.0, 'subsample': 0.59999999999999998, 'colsample_bytree': 0.90000000000000002, 'metric': 'auc', 'nthread': 8, 'boosting_type': 'rf', 'objective': 'binary', 'learning_rate': 0.14999999999999999, 'max_bin': 100, 'min_child_weight': 0, 'min_split_gain': 0, 'subsample_freq': 1}\n"
     ]
    },
    {
     "name": "stderr",
     "output_type": "stream",
     "text": [
      "C:\\Users\\ahega\\Anaconda3\\lib\\site-packages\\lightgbm\\basic.py:1036: UserWarning: Using categorical_feature in Dataset.\n",
      "  warnings.warn('Using categorical_feature in Dataset.')\n",
      "C:\\Users\\ahega\\Anaconda3\\lib\\site-packages\\lightgbm\\basic.py:681: UserWarning: categorical_feature in param dict is overrided.\n",
      "  warnings.warn('categorical_feature in param dict is overrided.')\n"
     ]
    },
    {
     "name": "stdout",
     "output_type": "stream",
     "text": [
      "\n",
      "AUROC..... 0.990319025012 .....iter..... 3\n",
      "\n",
      "Next set of params..... {'max_depth': 7, 'num_leaves': 28, 'min_child_samples': 191, 'scale_pos_weight': 395.78241197041018, 'subsample': 0.63083520893512901, 'colsample_bytree': 0.82356921219285451, 'metric': 'auc', 'nthread': 8, 'boosting_type': 'rf', 'objective': 'binary', 'learning_rate': 0.055999957997403121, 'max_bin': 100, 'min_child_weight': 0, 'min_split_gain': 0, 'subsample_freq': 1}\n"
     ]
    },
    {
     "name": "stderr",
     "output_type": "stream",
     "text": [
      "C:\\Users\\ahega\\Anaconda3\\lib\\site-packages\\lightgbm\\basic.py:1036: UserWarning: Using categorical_feature in Dataset.\n",
      "  warnings.warn('Using categorical_feature in Dataset.')\n",
      "C:\\Users\\ahega\\Anaconda3\\lib\\site-packages\\lightgbm\\basic.py:681: UserWarning: categorical_feature in param dict is overrided.\n",
      "  warnings.warn('categorical_feature in param dict is overrided.')\n"
     ]
    },
    {
     "name": "stdout",
     "output_type": "stream",
     "text": [
      "\n",
      "AUROC..... 0.989709179266 .....iter..... 1\n",
      "\n",
      "Next set of params..... {'max_depth': 10, 'num_leaves': 7, 'min_child_samples': 59, 'scale_pos_weight': 395.76620977645911, 'subsample': 0.63790356757111577, 'colsample_bytree': 0.63324088032498915, 'metric': 'auc', 'nthread': 8, 'boosting_type': 'rf', 'objective': 'binary', 'learning_rate': 0.06264525167479007, 'max_bin': 100, 'min_child_weight': 0, 'min_split_gain': 0, 'subsample_freq': 1}\n"
     ]
    },
    {
     "name": "stderr",
     "output_type": "stream",
     "text": [
      "C:\\Users\\ahega\\Anaconda3\\lib\\site-packages\\lightgbm\\basic.py:1036: UserWarning: Using categorical_feature in Dataset.\n",
      "  warnings.warn('Using categorical_feature in Dataset.')\n",
      "C:\\Users\\ahega\\Anaconda3\\lib\\site-packages\\lightgbm\\basic.py:681: UserWarning: categorical_feature in param dict is overrided.\n",
      "  warnings.warn('categorical_feature in param dict is overrided.')\n"
     ]
    },
    {
     "name": "stdout",
     "output_type": "stream",
     "text": [
      "\n",
      "AUROC..... 0.989018426737 .....iter..... 3\n",
      "\n",
      "Next set of params..... {'max_depth': 81, 'num_leaves': 9, 'min_child_samples': 198, 'scale_pos_weight': 288.86847204200916, 'subsample': 0.66601441178927456, 'colsample_bytree': 0.61667876400093002, 'metric': 'auc', 'nthread': 8, 'boosting_type': 'rf', 'objective': 'binary', 'learning_rate': 0.14786209628583619, 'max_bin': 100, 'min_child_weight': 0, 'min_split_gain': 0, 'subsample_freq': 1}\n"
     ]
    },
    {
     "name": "stderr",
     "output_type": "stream",
     "text": [
      "C:\\Users\\ahega\\Anaconda3\\lib\\site-packages\\lightgbm\\basic.py:1036: UserWarning: Using categorical_feature in Dataset.\n",
      "  warnings.warn('Using categorical_feature in Dataset.')\n",
      "C:\\Users\\ahega\\Anaconda3\\lib\\site-packages\\lightgbm\\basic.py:681: UserWarning: categorical_feature in param dict is overrided.\n",
      "  warnings.warn('categorical_feature in param dict is overrided.')\n"
     ]
    },
    {
     "name": "stdout",
     "output_type": "stream",
     "text": [
      "\n",
      "AUROC..... 0.988624767393 .....iter..... 3\n"
     ]
    },
    {
     "name": "stderr",
     "output_type": "stream",
     "text": [
      "C:\\Users\\ahega\\Anaconda3\\lib\\site-packages\\skopt\\optimizer\\optimizer.py:399: UserWarning: The objective has been evaluated at this point before.\n",
      "  warnings.warn(\"The objective has been evaluated \"\n",
      "C:\\Users\\ahega\\Anaconda3\\lib\\site-packages\\lightgbm\\basic.py:1036: UserWarning: Using categorical_feature in Dataset.\n",
      "  warnings.warn('Using categorical_feature in Dataset.')\n",
      "C:\\Users\\ahega\\Anaconda3\\lib\\site-packages\\lightgbm\\basic.py:681: UserWarning: categorical_feature in param dict is overrided.\n",
      "  warnings.warn('categorical_feature in param dict is overrided.')\n"
     ]
    },
    {
     "name": "stdout",
     "output_type": "stream",
     "text": [
      "\n",
      "Next set of params..... {'max_depth': 100, 'num_leaves': 30, 'min_child_samples': 50, 'scale_pos_weight': 400.0, 'subsample': 0.59999999999999998, 'colsample_bytree': 0.59999999999999998, 'metric': 'auc', 'nthread': 8, 'boosting_type': 'rf', 'objective': 'binary', 'learning_rate': 0.14999999999999999, 'max_bin': 100, 'min_child_weight': 0, 'min_split_gain': 0, 'subsample_freq': 1}\n",
      "\n",
      "AUROC..... 0.992299936232 .....iter..... 9\n",
      "\n",
      "Next set of params..... {'max_depth': 6, 'num_leaves': 29, 'min_child_samples': 82, 'scale_pos_weight': 399.74088995459567, 'subsample': 0.87712607823176181, 'colsample_bytree': 0.89520935596016216, 'metric': 'auc', 'nthread': 8, 'boosting_type': 'rf', 'objective': 'binary', 'learning_rate': 0.14252451548065598, 'max_bin': 100, 'min_child_weight': 0, 'min_split_gain': 0, 'subsample_freq': 1}\n"
     ]
    },
    {
     "name": "stderr",
     "output_type": "stream",
     "text": [
      "C:\\Users\\ahega\\Anaconda3\\lib\\site-packages\\lightgbm\\basic.py:1036: UserWarning: Using categorical_feature in Dataset.\n",
      "  warnings.warn('Using categorical_feature in Dataset.')\n",
      "C:\\Users\\ahega\\Anaconda3\\lib\\site-packages\\lightgbm\\basic.py:681: UserWarning: categorical_feature in param dict is overrided.\n",
      "  warnings.warn('categorical_feature in param dict is overrided.')\n"
     ]
    },
    {
     "name": "stdout",
     "output_type": "stream",
     "text": [
      "\n",
      "AUROC..... 0.990013232174 .....iter..... 1\n"
     ]
    },
    {
     "name": "stderr",
     "output_type": "stream",
     "text": [
      "C:\\Users\\ahega\\Anaconda3\\lib\\site-packages\\skopt\\optimizer\\optimizer.py:399: UserWarning: The objective has been evaluated at this point before.\n",
      "  warnings.warn(\"The objective has been evaluated \"\n",
      "C:\\Users\\ahega\\Anaconda3\\lib\\site-packages\\lightgbm\\basic.py:1036: UserWarning: Using categorical_feature in Dataset.\n",
      "  warnings.warn('Using categorical_feature in Dataset.')\n",
      "C:\\Users\\ahega\\Anaconda3\\lib\\site-packages\\lightgbm\\basic.py:681: UserWarning: categorical_feature in param dict is overrided.\n",
      "  warnings.warn('categorical_feature in param dict is overrided.')\n"
     ]
    },
    {
     "name": "stdout",
     "output_type": "stream",
     "text": [
      "\n",
      "Next set of params..... {'max_depth': 100, 'num_leaves': 30, 'min_child_samples': 50, 'scale_pos_weight': 400.0, 'subsample': 0.59999999999999998, 'colsample_bytree': 0.59999999999999998, 'metric': 'auc', 'nthread': 8, 'boosting_type': 'rf', 'objective': 'binary', 'learning_rate': 0.14999999999999999, 'max_bin': 100, 'min_child_weight': 0, 'min_split_gain': 0, 'subsample_freq': 1}\n",
      "\n",
      "AUROC..... 0.992299936232 .....iter..... 9\n",
      "\n",
      "Next set of params..... {'max_depth': 100, 'num_leaves': 30, 'min_child_samples': 50, 'scale_pos_weight': 400.0, 'subsample': 0.90000000000000002, 'colsample_bytree': 0.59999999999999998, 'metric': 'auc', 'nthread': 8, 'boosting_type': 'rf', 'objective': 'binary', 'learning_rate': 0.14999999999999999, 'max_bin': 100, 'min_child_weight': 0, 'min_split_gain': 0, 'subsample_freq': 1}\n"
     ]
    },
    {
     "name": "stderr",
     "output_type": "stream",
     "text": [
      "C:\\Users\\ahega\\Anaconda3\\lib\\site-packages\\lightgbm\\basic.py:1036: UserWarning: Using categorical_feature in Dataset.\n",
      "  warnings.warn('Using categorical_feature in Dataset.')\n",
      "C:\\Users\\ahega\\Anaconda3\\lib\\site-packages\\lightgbm\\basic.py:681: UserWarning: categorical_feature in param dict is overrided.\n",
      "  warnings.warn('categorical_feature in param dict is overrided.')\n"
     ]
    },
    {
     "name": "stdout",
     "output_type": "stream",
     "text": [
      "\n",
      "AUROC..... 0.986056194545 .....iter..... 31\n"
     ]
    },
    {
     "name": "stderr",
     "output_type": "stream",
     "text": [
      "C:\\Users\\ahega\\Anaconda3\\lib\\site-packages\\skopt\\optimizer\\optimizer.py:399: UserWarning: The objective has been evaluated at this point before.\n",
      "  warnings.warn(\"The objective has been evaluated \"\n",
      "C:\\Users\\ahega\\Anaconda3\\lib\\site-packages\\lightgbm\\basic.py:1036: UserWarning: Using categorical_feature in Dataset.\n",
      "  warnings.warn('Using categorical_feature in Dataset.')\n",
      "C:\\Users\\ahega\\Anaconda3\\lib\\site-packages\\lightgbm\\basic.py:681: UserWarning: categorical_feature in param dict is overrided.\n",
      "  warnings.warn('categorical_feature in param dict is overrided.')\n"
     ]
    },
    {
     "name": "stdout",
     "output_type": "stream",
     "text": [
      "\n",
      "Next set of params..... {'max_depth': 100, 'num_leaves': 6, 'min_child_samples': 50, 'scale_pos_weight': 400.0, 'subsample': 0.59999999999999998, 'colsample_bytree': 0.90000000000000002, 'metric': 'auc', 'nthread': 8, 'boosting_type': 'rf', 'objective': 'binary', 'learning_rate': 0.14999999999999999, 'max_bin': 100, 'min_child_weight': 0, 'min_split_gain': 0, 'subsample_freq': 1}\n",
      "\n",
      "AUROC..... 0.990319025012 .....iter..... 3\n",
      "\n",
      "Next set of params..... {'max_depth': 9, 'num_leaves': 27, 'min_child_samples': 69, 'scale_pos_weight': 287.99136465753588, 'subsample': 0.61681109293233105, 'colsample_bytree': 0.81490548246778338, 'metric': 'auc', 'nthread': 8, 'boosting_type': 'rf', 'objective': 'binary', 'learning_rate': 0.057270681645738224, 'max_bin': 100, 'min_child_weight': 0, 'min_split_gain': 0, 'subsample_freq': 1}\n"
     ]
    },
    {
     "name": "stderr",
     "output_type": "stream",
     "text": [
      "C:\\Users\\ahega\\Anaconda3\\lib\\site-packages\\lightgbm\\basic.py:1036: UserWarning: Using categorical_feature in Dataset.\n",
      "  warnings.warn('Using categorical_feature in Dataset.')\n",
      "C:\\Users\\ahega\\Anaconda3\\lib\\site-packages\\lightgbm\\basic.py:681: UserWarning: categorical_feature in param dict is overrided.\n",
      "  warnings.warn('categorical_feature in param dict is overrided.')\n"
     ]
    },
    {
     "name": "stdout",
     "output_type": "stream",
     "text": [
      "\n",
      "AUROC..... 0.990803160758 .....iter..... 1\n",
      "\n",
      "Next set of params..... {'max_depth': 10, 'num_leaves': 23, 'min_child_samples': 50, 'scale_pos_weight': 304.75466380911996, 'subsample': 0.65984373447582167, 'colsample_bytree': 0.61199814719172763, 'metric': 'auc', 'nthread': 8, 'boosting_type': 'rf', 'objective': 'binary', 'learning_rate': 0.054549083566437388, 'max_bin': 100, 'min_child_weight': 0, 'min_split_gain': 0, 'subsample_freq': 1}\n"
     ]
    },
    {
     "name": "stderr",
     "output_type": "stream",
     "text": [
      "C:\\Users\\ahega\\Anaconda3\\lib\\site-packages\\lightgbm\\basic.py:1036: UserWarning: Using categorical_feature in Dataset.\n",
      "  warnings.warn('Using categorical_feature in Dataset.')\n",
      "C:\\Users\\ahega\\Anaconda3\\lib\\site-packages\\lightgbm\\basic.py:681: UserWarning: categorical_feature in param dict is overrided.\n",
      "  warnings.warn('categorical_feature in param dict is overrided.')\n"
     ]
    },
    {
     "name": "stdout",
     "output_type": "stream",
     "text": [
      "\n",
      "AUROC..... 0.988088433723 .....iter..... 5\n",
      "\n",
      "Next set of params..... {'max_depth': 100, 'num_leaves': 30, 'min_child_samples': 200, 'scale_pos_weight': 400.0, 'subsample': 0.59999999999999998, 'colsample_bytree': 0.90000000000000002, 'metric': 'auc', 'nthread': 8, 'boosting_type': 'rf', 'objective': 'binary', 'learning_rate': 0.14999999999999999, 'max_bin': 100, 'min_child_weight': 0, 'min_split_gain': 0, 'subsample_freq': 1}\n"
     ]
    },
    {
     "name": "stderr",
     "output_type": "stream",
     "text": [
      "C:\\Users\\ahega\\Anaconda3\\lib\\site-packages\\lightgbm\\basic.py:1036: UserWarning: Using categorical_feature in Dataset.\n",
      "  warnings.warn('Using categorical_feature in Dataset.')\n",
      "C:\\Users\\ahega\\Anaconda3\\lib\\site-packages\\lightgbm\\basic.py:681: UserWarning: categorical_feature in param dict is overrided.\n",
      "  warnings.warn('categorical_feature in param dict is overrided.')\n"
     ]
    },
    {
     "name": "stdout",
     "output_type": "stream",
     "text": [
      "\n",
      "AUROC..... 0.98931682487 .....iter..... 1\n",
      "\n",
      "Next set of params..... {'max_depth': 7, 'num_leaves': 27, 'min_child_samples': 174, 'scale_pos_weight': 292.1266891181458, 'subsample': 0.89932457457450021, 'colsample_bytree': 0.89787696126605065, 'metric': 'auc', 'nthread': 8, 'boosting_type': 'rf', 'objective': 'binary', 'learning_rate': 0.13680095422350277, 'max_bin': 100, 'min_child_weight': 0, 'min_split_gain': 0, 'subsample_freq': 1}\n"
     ]
    },
    {
     "name": "stderr",
     "output_type": "stream",
     "text": [
      "C:\\Users\\ahega\\Anaconda3\\lib\\site-packages\\lightgbm\\basic.py:1036: UserWarning: Using categorical_feature in Dataset.\n",
      "  warnings.warn('Using categorical_feature in Dataset.')\n",
      "C:\\Users\\ahega\\Anaconda3\\lib\\site-packages\\lightgbm\\basic.py:681: UserWarning: categorical_feature in param dict is overrided.\n",
      "  warnings.warn('categorical_feature in param dict is overrided.')\n"
     ]
    },
    {
     "name": "stdout",
     "output_type": "stream",
     "text": [
      "\n",
      "AUROC..... 0.990236378299 .....iter..... 1\n",
      "\n",
      "Next set of params..... {'max_depth': 90, 'num_leaves': 7, 'min_child_samples': 197, 'scale_pos_weight': 333.46586588851051, 'subsample': 0.72129367878266359, 'colsample_bytree': 0.6126645550540325, 'metric': 'auc', 'nthread': 8, 'boosting_type': 'rf', 'objective': 'binary', 'learning_rate': 0.051515373870621051, 'max_bin': 100, 'min_child_weight': 0, 'min_split_gain': 0, 'subsample_freq': 1}\n"
     ]
    },
    {
     "name": "stderr",
     "output_type": "stream",
     "text": [
      "C:\\Users\\ahega\\Anaconda3\\lib\\site-packages\\lightgbm\\basic.py:1036: UserWarning: Using categorical_feature in Dataset.\n",
      "  warnings.warn('Using categorical_feature in Dataset.')\n",
      "C:\\Users\\ahega\\Anaconda3\\lib\\site-packages\\lightgbm\\basic.py:681: UserWarning: categorical_feature in param dict is overrided.\n",
      "  warnings.warn('categorical_feature in param dict is overrided.')\n"
     ]
    },
    {
     "name": "stdout",
     "output_type": "stream",
     "text": [
      "\n",
      "AUROC..... 0.98852602632 .....iter..... 5\n",
      "\n",
      "Next set of params..... {'max_depth': 100, 'num_leaves': 30, 'min_child_samples': 50, 'scale_pos_weight': 346.8035276281924, 'subsample': 0.59999999999999998, 'colsample_bytree': 0.90000000000000002, 'metric': 'auc', 'nthread': 8, 'boosting_type': 'rf', 'objective': 'binary', 'learning_rate': 0.14999999999999999, 'max_bin': 100, 'min_child_weight': 0, 'min_split_gain': 0, 'subsample_freq': 1}\n"
     ]
    },
    {
     "name": "stderr",
     "output_type": "stream",
     "text": [
      "C:\\Users\\ahega\\Anaconda3\\lib\\site-packages\\lightgbm\\basic.py:1036: UserWarning: Using categorical_feature in Dataset.\n",
      "  warnings.warn('Using categorical_feature in Dataset.')\n",
      "C:\\Users\\ahega\\Anaconda3\\lib\\site-packages\\lightgbm\\basic.py:681: UserWarning: categorical_feature in param dict is overrided.\n",
      "  warnings.warn('categorical_feature in param dict is overrided.')\n"
     ]
    },
    {
     "name": "stdout",
     "output_type": "stream",
     "text": [
      "\n",
      "AUROC..... 0.99088232761 .....iter..... 1\n",
      "\n",
      "Next set of params..... {'max_depth': 27, 'num_leaves': 8, 'min_child_samples': 179, 'scale_pos_weight': 288.97438026537839, 'subsample': 0.60536110429493017, 'colsample_bytree': 0.62891480505411046, 'metric': 'auc', 'nthread': 8, 'boosting_type': 'rf', 'objective': 'binary', 'learning_rate': 0.14129329236547611, 'max_bin': 100, 'min_child_weight': 0, 'min_split_gain': 0, 'subsample_freq': 1}\n"
     ]
    },
    {
     "name": "stderr",
     "output_type": "stream",
     "text": [
      "C:\\Users\\ahega\\Anaconda3\\lib\\site-packages\\lightgbm\\basic.py:1036: UserWarning: Using categorical_feature in Dataset.\n",
      "  warnings.warn('Using categorical_feature in Dataset.')\n",
      "C:\\Users\\ahega\\Anaconda3\\lib\\site-packages\\lightgbm\\basic.py:681: UserWarning: categorical_feature in param dict is overrided.\n",
      "  warnings.warn('categorical_feature in param dict is overrided.')\n"
     ]
    },
    {
     "name": "stdout",
     "output_type": "stream",
     "text": [
      "\n",
      "AUROC..... 0.988892716737 .....iter..... 5\n",
      "\n",
      "Next set of params..... {'max_depth': 6, 'num_leaves': 29, 'min_child_samples': 51, 'scale_pos_weight': 392.48661805900724, 'subsample': 0.87900944249009094, 'colsample_bytree': 0.72448934347148397, 'metric': 'auc', 'nthread': 8, 'boosting_type': 'rf', 'objective': 'binary', 'learning_rate': 0.051353522094092136, 'max_bin': 100, 'min_child_weight': 0, 'min_split_gain': 0, 'subsample_freq': 1}\n"
     ]
    },
    {
     "name": "stderr",
     "output_type": "stream",
     "text": [
      "C:\\Users\\ahega\\Anaconda3\\lib\\site-packages\\lightgbm\\basic.py:1036: UserWarning: Using categorical_feature in Dataset.\n",
      "  warnings.warn('Using categorical_feature in Dataset.')\n",
      "C:\\Users\\ahega\\Anaconda3\\lib\\site-packages\\lightgbm\\basic.py:681: UserWarning: categorical_feature in param dict is overrided.\n",
      "  warnings.warn('categorical_feature in param dict is overrided.')\n"
     ]
    },
    {
     "name": "stdout",
     "output_type": "stream",
     "text": [
      "\n",
      "AUROC..... 0.988228933135 .....iter..... 3\n",
      "\n",
      "Next set of params..... {'max_depth': 100, 'num_leaves': 6, 'min_child_samples': 50, 'scale_pos_weight': 350.11769696627294, 'subsample': 0.59999999999999998, 'colsample_bytree': 0.90000000000000002, 'metric': 'auc', 'nthread': 8, 'boosting_type': 'rf', 'objective': 'binary', 'learning_rate': 0.14999999999999999, 'max_bin': 100, 'min_child_weight': 0, 'min_split_gain': 0, 'subsample_freq': 1}\n"
     ]
    },
    {
     "name": "stderr",
     "output_type": "stream",
     "text": [
      "C:\\Users\\ahega\\Anaconda3\\lib\\site-packages\\lightgbm\\basic.py:1036: UserWarning: Using categorical_feature in Dataset.\n",
      "  warnings.warn('Using categorical_feature in Dataset.')\n",
      "C:\\Users\\ahega\\Anaconda3\\lib\\site-packages\\lightgbm\\basic.py:681: UserWarning: categorical_feature in param dict is overrided.\n",
      "  warnings.warn('categorical_feature in param dict is overrided.')\n"
     ]
    },
    {
     "name": "stdout",
     "output_type": "stream",
     "text": [
      "\n",
      "AUROC..... 0.990151991655 .....iter..... 1\n",
      "\n",
      "Next set of params..... {'max_depth': 100, 'num_leaves': 30, 'min_child_samples': 200, 'scale_pos_weight': 358.15746069733177, 'subsample': 0.59999999999999998, 'colsample_bytree': 0.90000000000000002, 'metric': 'auc', 'nthread': 8, 'boosting_type': 'rf', 'objective': 'binary', 'learning_rate': 0.14999999999999999, 'max_bin': 100, 'min_child_weight': 0, 'min_split_gain': 0, 'subsample_freq': 1}\n"
     ]
    },
    {
     "name": "stderr",
     "output_type": "stream",
     "text": [
      "C:\\Users\\ahega\\Anaconda3\\lib\\site-packages\\lightgbm\\basic.py:1036: UserWarning: Using categorical_feature in Dataset.\n",
      "  warnings.warn('Using categorical_feature in Dataset.')\n",
      "C:\\Users\\ahega\\Anaconda3\\lib\\site-packages\\lightgbm\\basic.py:681: UserWarning: categorical_feature in param dict is overrided.\n",
      "  warnings.warn('categorical_feature in param dict is overrided.')\n"
     ]
    },
    {
     "name": "stdout",
     "output_type": "stream",
     "text": [
      "\n",
      "AUROC..... 0.9905682701 .....iter..... 1\n",
      "\n",
      "Next set of params..... {'max_depth': 100, 'num_leaves': 30, 'min_child_samples': 50, 'scale_pos_weight': 400.0, 'subsample': 0.59999999999999998, 'colsample_bytree': 0.90000000000000002, 'metric': 'auc', 'nthread': 8, 'boosting_type': 'rf', 'objective': 'binary', 'learning_rate': 0.050000000000000003, 'max_bin': 100, 'min_child_weight': 0, 'min_split_gain': 0, 'subsample_freq': 1}\n"
     ]
    },
    {
     "name": "stderr",
     "output_type": "stream",
     "text": [
      "C:\\Users\\ahega\\Anaconda3\\lib\\site-packages\\lightgbm\\basic.py:1036: UserWarning: Using categorical_feature in Dataset.\n",
      "  warnings.warn('Using categorical_feature in Dataset.')\n",
      "C:\\Users\\ahega\\Anaconda3\\lib\\site-packages\\lightgbm\\basic.py:681: UserWarning: categorical_feature in param dict is overrided.\n",
      "  warnings.warn('categorical_feature in param dict is overrided.')\n"
     ]
    },
    {
     "name": "stdout",
     "output_type": "stream",
     "text": [
      "\n",
      "AUROC..... 0.990289446189 .....iter..... 13\n",
      "\n",
      "Next set of params..... {'max_depth': 3, 'num_leaves': 30, 'min_child_samples': 50, 'scale_pos_weight': 400.0, 'subsample': 0.59999999999999998, 'colsample_bytree': 0.90000000000000002, 'metric': 'auc', 'nthread': 8, 'boosting_type': 'rf', 'objective': 'binary', 'learning_rate': 0.14999999999999999, 'max_bin': 100, 'min_child_weight': 0, 'min_split_gain': 0, 'subsample_freq': 1}\n"
     ]
    },
    {
     "name": "stderr",
     "output_type": "stream",
     "text": [
      "C:\\Users\\ahega\\Anaconda3\\lib\\site-packages\\lightgbm\\basic.py:1036: UserWarning: Using categorical_feature in Dataset.\n",
      "  warnings.warn('Using categorical_feature in Dataset.')\n",
      "C:\\Users\\ahega\\Anaconda3\\lib\\site-packages\\lightgbm\\basic.py:681: UserWarning: categorical_feature in param dict is overrided.\n",
      "  warnings.warn('categorical_feature in param dict is overrided.')\n"
     ]
    },
    {
     "name": "stdout",
     "output_type": "stream",
     "text": [
      "\n",
      "AUROC..... 0.990161996257 .....iter..... 1\n",
      "\n",
      "Next set of params..... {'max_depth': 100, 'num_leaves': 30, 'min_child_samples': 200, 'scale_pos_weight': 358.54093054584285, 'subsample': 0.59999999999999998, 'colsample_bytree': 0.59999999999999998, 'metric': 'auc', 'nthread': 8, 'boosting_type': 'rf', 'objective': 'binary', 'learning_rate': 0.14999999999999999, 'max_bin': 100, 'min_child_weight': 0, 'min_split_gain': 0, 'subsample_freq': 1}\n"
     ]
    },
    {
     "name": "stderr",
     "output_type": "stream",
     "text": [
      "C:\\Users\\ahega\\Anaconda3\\lib\\site-packages\\lightgbm\\basic.py:1036: UserWarning: Using categorical_feature in Dataset.\n",
      "  warnings.warn('Using categorical_feature in Dataset.')\n",
      "C:\\Users\\ahega\\Anaconda3\\lib\\site-packages\\lightgbm\\basic.py:681: UserWarning: categorical_feature in param dict is overrided.\n",
      "  warnings.warn('categorical_feature in param dict is overrided.')\n"
     ]
    },
    {
     "name": "stdout",
     "output_type": "stream",
     "text": [
      "\n",
      "AUROC..... 0.991711404637 .....iter..... 6\n",
      "\n",
      "Next set of params..... {'max_depth': 99, 'num_leaves': 25, 'min_child_samples': 199, 'scale_pos_weight': 327.93718814313024, 'subsample': 0.83420157439899023, 'colsample_bytree': 0.88670211807999877, 'metric': 'auc', 'nthread': 8, 'boosting_type': 'rf', 'objective': 'binary', 'learning_rate': 0.050211062371246298, 'max_bin': 100, 'min_child_weight': 0, 'min_split_gain': 0, 'subsample_freq': 1}\n"
     ]
    },
    {
     "name": "stderr",
     "output_type": "stream",
     "text": [
      "C:\\Users\\ahega\\Anaconda3\\lib\\site-packages\\lightgbm\\basic.py:1036: UserWarning: Using categorical_feature in Dataset.\n",
      "  warnings.warn('Using categorical_feature in Dataset.')\n",
      "C:\\Users\\ahega\\Anaconda3\\lib\\site-packages\\lightgbm\\basic.py:681: UserWarning: categorical_feature in param dict is overrided.\n",
      "  warnings.warn('categorical_feature in param dict is overrided.')\n"
     ]
    },
    {
     "name": "stdout",
     "output_type": "stream",
     "text": [
      "\n",
      "AUROC..... 0.989341618884 .....iter..... 1\n",
      "\n",
      "Next set of params..... {'max_depth': 95, 'num_leaves': 7, 'min_child_samples': 67, 'scale_pos_weight': 216.99100820716123, 'subsample': 0.6169854458455496, 'colsample_bytree': 0.60077711670058676, 'metric': 'auc', 'nthread': 8, 'boosting_type': 'rf', 'objective': 'binary', 'learning_rate': 0.14783552028816876, 'max_bin': 100, 'min_child_weight': 0, 'min_split_gain': 0, 'subsample_freq': 1}\n"
     ]
    },
    {
     "name": "stderr",
     "output_type": "stream",
     "text": [
      "C:\\Users\\ahega\\Anaconda3\\lib\\site-packages\\lightgbm\\basic.py:1036: UserWarning: Using categorical_feature in Dataset.\n",
      "  warnings.warn('Using categorical_feature in Dataset.')\n",
      "C:\\Users\\ahega\\Anaconda3\\lib\\site-packages\\lightgbm\\basic.py:681: UserWarning: categorical_feature in param dict is overrided.\n",
      "  warnings.warn('categorical_feature in param dict is overrided.')\n"
     ]
    },
    {
     "name": "stdout",
     "output_type": "stream",
     "text": [
      "\n",
      "AUROC..... 0.988337243828 .....iter..... 2\n",
      "Best score=-0.9923\n"
     ]
    },
    {
     "data": {
      "text/plain": [
       "<matplotlib.axes._subplots.AxesSubplot at 0x1cf116599e8>"
      ]
     },
     "execution_count": 3,
     "metadata": {},
     "output_type": "execute_result"
    },
    {
     "data": {
      "image/png": "[encoded data removed]",
      "text/plain": [
       "<Figure size 432x288 with 1 Axes>"
      ]
     },
     "metadata": {},
     "output_type": "display_data"
    }
   ],
   "source": [
    "import pandas as pd\n",
    "import numpy as np\n",
    "import xgboost as xgb\n",
    "import lightgbm as lgb\n",
    "import gc\n",
    "\n",
    "from skopt.space import Real, Integer\n",
    "from skopt.utils import use_named_args\n",
    "import itertools\n",
    "from sklearn.metrics import roc_auc_score\n",
    "from skopt import gp_minimize\n",
    "%matplotlib inline\n",
    "\n",
    "def objective(values):\n",
    "    params = {'max_depth': values[0], \n",
    "          'num_leaves': values[1], \n",
    "          'min_child_samples': values[2], \n",
    "          'scale_pos_weight': values[3],\n",
    "            'subsample': values[4],\n",
    "            'colsample_bytree': values[5],\n",
    "             'metric':'auc',\n",
    "             'nthread': 8,\n",
    "             'boosting_type': 'rf',\n",
    "             'objective': 'binary',\n",
    "             'learning_rate': values[6],\n",
    "             'max_bin': 100,\n",
    "             'min_child_weight': 0,\n",
    "             'min_split_gain': 0,\n",
    "             'subsample_freq': 1}\n",
    "    \n",
    "\n",
    "    print('\\nNext set of params.....',params)\n",
    "    \n",
    "    feature_set = ['app','device','os','channel']\n",
    "    categorical = ['app','device','os','channel']\n",
    "    \n",
    "    \n",
    "    early_stopping_rounds = 50\n",
    "    num_boost_round       = 1000\n",
    "    \n",
    "        # Fit model on feature_set and calculate validation AUROC\n",
    "    xgtrain = lgb.Dataset(train[feature_set].values, label=y_train,feature_name=feature_set,\n",
    "                           categorical_feature=categorical)\n",
    "    xgvalid = lgb.Dataset(val[feature_set].values, label=y_val,feature_name=feature_set,\n",
    "                          categorical_feature=categorical)\n",
    "    \n",
    "    evals_results = {}\n",
    "    model_lgb     = lgb.train(params,xgtrain,valid_sets=[xgtrain, xgvalid], \n",
    "                              valid_names=['train','valid'], \n",
    "                               evals_result=evals_results, \n",
    "                               num_boost_round=num_boost_round,\n",
    "                                early_stopping_rounds=early_stopping_rounds,\n",
    "                               verbose_eval=None, feval=None)\n",
    "    \n",
    "    auc = -roc_auc_score(y_val, model_lgb.predict(val[model_lgb.feature_name()]))\n",
    "    \n",
    "    print('\\nAUROC.....',-auc,\".....iter.....\", model_lgb.current_iteration())\n",
    "    \n",
    "    gc.collect()\n",
    "    \n",
    "    return  auc\n",
    "\n",
    "TRAINING_SIZE = 300000\n",
    "TEST_SIZE = 50000\n",
    "\n",
    "# Load data\n",
    "train = pd.read_csv(\n",
    "    '../input/train.csv', \n",
    "    skiprows=range(1,184903891-TRAINING_SIZE-TEST_SIZE), \n",
    "    nrows=TRAINING_SIZE,\n",
    "    parse_dates=['click_time']\n",
    ")\n",
    "\n",
    "val = pd.read_csv(\n",
    "    '../input/train.csv', \n",
    "    skiprows=range(1,184903891-TEST_SIZE), \n",
    "    nrows=TEST_SIZE,\n",
    "    parse_dates=['click_time']\n",
    ")\n",
    "\n",
    "# Split into X and y\n",
    "y_train = train['is_attributed']\n",
    "y_val = val['is_attributed']\n",
    "\n",
    "# from that dimension (`'log-uniform'` for the learning rate)\n",
    "space  = [Integer(3, 100, name='max_depth'),\n",
    "          Integer(6, 30, name='num_leaves'),\n",
    "          Integer(50, 200, name='min_child_samples'),\n",
    "          Real(1, 400,  name='scale_pos_weight'),\n",
    "          Real(0.6, 0.9, name='subsample'),\n",
    "          Real(0.6, 0.9, name='colsample_bytree'),\n",
    "          Real(0.05, 0.15, name='learning_rate')\n",
    "         ]\n",
    "\n",
    "res_gp = gp_minimize(objective, space, n_calls=50,\n",
    "                     random_state=987,n_random_starts=10)\n",
    "\n",
    "print(\"Best score=%.4f\" % res_gp.fun)\n",
    "\n",
    "from skopt.plots import plot_convergence\n",
    "\n",
    "plot_convergence(res_gp)"
   ]
  },
  {
   "cell_type": "code",
   "execution_count": null,
   "metadata": {},
   "outputs": [
    {
     "name": "stdout",
     "output_type": "stream",
     "text": [
      "\n",
      "Next set of params..... {'max_depth': 8, 'num_leaves': 28, 'min_child_samples': 119, 'scale_pos_weight': 201.40285712270011, 'subsample': 0.77991812136599059, 'colsample_bytree': 0.88281765709565452, 'metric': 'auc', 'nthread': 8, 'boosting_type': 'gbdt', 'objective': 'binary', 'learning_rate': 0.1, 'max_bin': 255, 'min_child_weight': 0, 'min_split_gain': 0, 'subsample_freq': 1}\n"
     ]
    },
    {
     "name": "stderr",
     "output_type": "stream",
     "text": [
      "C:\\Users\\ahega\\Anaconda3\\lib\\site-packages\\lightgbm\\basic.py:1036: UserWarning: Using categorical_feature in Dataset.\n",
      "  warnings.warn('Using categorical_feature in Dataset.')\n",
      "C:\\Users\\ahega\\Anaconda3\\lib\\site-packages\\lightgbm\\basic.py:681: UserWarning: categorical_feature in param dict is overrided.\n",
      "  warnings.warn('categorical_feature in param dict is overrided.')\n"
     ]
    },
    {
     "name": "stdout",
     "output_type": "stream",
     "text": [
      "\n",
      "AUROC..... 0.98806641583 .....iter..... 126\n",
      "\n",
      "Next set of params..... {'max_depth': 8, 'num_leaves': 7, 'min_child_samples': 75, 'scale_pos_weight': 89.199560288784184, 'subsample': 0.73895719080110744, 'colsample_bytree': 0.79573970970753982, 'metric': 'auc', 'nthread': 8, 'boosting_type': 'gbdt', 'objective': 'binary', 'learning_rate': 0.1, 'max_bin': 255, 'min_child_weight': 0, 'min_split_gain': 0, 'subsample_freq': 1}\n",
      "\n",
      "AUROC..... 0.988896688029 .....iter..... 259\n",
      "\n",
      "Next set of params..... {'max_depth': 8, 'num_leaves': 26, 'min_child_samples': 191, 'scale_pos_weight': 56.550216148078619, 'subsample': 0.61678384201062952, 'colsample_bytree': 0.64016132007105164, 'metric': 'auc', 'nthread': 8, 'boosting_type': 'gbdt', 'objective': 'binary', 'learning_rate': 0.1, 'max_bin': 255, 'min_child_weight': 0, 'min_split_gain': 0, 'subsample_freq': 1}\n",
      "\n",
      "AUROC..... 0.989155286932 .....iter..... 113\n",
      "\n",
      "Next set of params..... {'max_depth': 7, 'num_leaves': 15, 'min_child_samples': 150, 'scale_pos_weight': 15.228047559585651, 'subsample': 0.63914564093873705, 'colsample_bytree': 0.64839230391776281, 'metric': 'auc', 'nthread': 8, 'boosting_type': 'gbdt', 'objective': 'binary', 'learning_rate': 0.1, 'max_bin': 255, 'min_child_weight': 0, 'min_split_gain': 0, 'subsample_freq': 1}\n",
      "\n",
      "AUROC..... 0.989445154324 .....iter..... 159\n",
      "\n",
      "Next set of params..... {'max_depth': 9, 'num_leaves': 11, 'min_child_samples': 102, 'scale_pos_weight': 16.732068476831326, 'subsample': 0.64503778315617688, 'colsample_bytree': 0.63681045232218636, 'metric': 'auc', 'nthread': 8, 'boosting_type': 'gbdt', 'objective': 'binary', 'learning_rate': 0.1, 'max_bin': 255, 'min_child_weight': 0, 'min_split_gain': 0, 'subsample_freq': 1}\n",
      "\n",
      "AUROC..... 0.989531611631 .....iter..... 274\n",
      "\n",
      "Next set of params..... {'max_depth': 5, 'num_leaves': 10, 'min_child_samples': 191, 'scale_pos_weight': 151.67424393790114, 'subsample': 0.87445510018917094, 'colsample_bytree': 0.75737003008446002, 'metric': 'auc', 'nthread': 8, 'boosting_type': 'gbdt', 'objective': 'binary', 'learning_rate': 0.1, 'max_bin': 255, 'min_child_weight': 0, 'min_split_gain': 0, 'subsample_freq': 1}\n",
      "\n",
      "AUROC..... 0.988871673834 .....iter..... 195\n",
      "\n",
      "Next set of params..... {'max_depth': 10, 'num_leaves': 14, 'min_child_samples': 97, 'scale_pos_weight': 253.39122524756891, 'subsample': 0.74740145066418218, 'colsample_bytree': 0.85776558654235913, 'metric': 'auc', 'nthread': 8, 'boosting_type': 'gbdt', 'objective': 'binary', 'learning_rate': 0.1, 'max_bin': 255, 'min_child_weight': 0, 'min_split_gain': 0, 'subsample_freq': 1}\n",
      "\n",
      "AUROC..... 0.988145222036 .....iter..... 102\n",
      "\n",
      "Next set of params..... {'max_depth': 5, 'num_leaves': 26, 'min_child_samples': 98, 'scale_pos_weight': 67.291712039664773, 'subsample': 0.67291970043430371, 'colsample_bytree': 0.64967126688128085, 'metric': 'auc', 'nthread': 8, 'boosting_type': 'gbdt', 'objective': 'binary', 'learning_rate': 0.1, 'max_bin': 255, 'min_child_weight': 0, 'min_split_gain': 0, 'subsample_freq': 1}\n",
      "\n",
      "AUROC..... 0.989113573724 .....iter..... 129\n",
      "\n",
      "Next set of params..... {'max_depth': 7, 'num_leaves': 27, 'min_child_samples': 75, 'scale_pos_weight': 245.88467538153878, 'subsample': 0.87449954007647368, 'colsample_bytree': 0.66148545774525658, 'metric': 'auc', 'nthread': 8, 'boosting_type': 'gbdt', 'objective': 'binary', 'learning_rate': 0.1, 'max_bin': 255, 'min_child_weight': 0, 'min_split_gain': 0, 'subsample_freq': 1}\n",
      "\n",
      "AUROC..... 0.98827422377 .....iter..... 109\n",
      "\n",
      "Next set of params..... {'max_depth': 9, 'num_leaves': 28, 'min_child_samples': 91, 'scale_pos_weight': 46.364459651470234, 'subsample': 0.85919205864338211, 'colsample_bytree': 0.73687932825868463, 'metric': 'auc', 'nthread': 8, 'boosting_type': 'gbdt', 'objective': 'binary', 'learning_rate': 0.1, 'max_bin': 255, 'min_child_weight': 0, 'min_split_gain': 0, 'subsample_freq': 1}\n",
      "\n",
      "AUROC..... 0.988840468021 .....iter..... 112\n",
      "\n",
      "Next set of params..... {'max_depth': 3, 'num_leaves': 15, 'min_child_samples': 61, 'scale_pos_weight': 380.93099967587051, 'subsample': 0.61183471636699016, 'colsample_bytree': 0.79822871487633718, 'metric': 'auc', 'nthread': 8, 'boosting_type': 'gbdt', 'objective': 'binary', 'learning_rate': 0.1, 'max_bin': 255, 'min_child_weight': 0, 'min_split_gain': 0, 'subsample_freq': 1}\n"
     ]
    },
    {
     "name": "stderr",
     "output_type": "stream",
     "text": [
      "C:\\Users\\ahega\\Anaconda3\\lib\\site-packages\\lightgbm\\basic.py:1036: UserWarning: Using categorical_feature in Dataset.\n",
      "  warnings.warn('Using categorical_feature in Dataset.')\n",
      "C:\\Users\\ahega\\Anaconda3\\lib\\site-packages\\lightgbm\\basic.py:681: UserWarning: categorical_feature in param dict is overrided.\n",
      "  warnings.warn('categorical_feature in param dict is overrided.')\n"
     ]
    },
    {
     "name": "stdout",
     "output_type": "stream",
     "text": [
      "\n",
      "AUROC..... 0.988592409344 .....iter..... 273\n",
      "\n",
      "Next set of params..... {'max_depth': 3, 'num_leaves': 6, 'min_child_samples': 200, 'scale_pos_weight': 400.0, 'subsample': 0.90000000000000002, 'colsample_bytree': 0.59999999999999998, 'metric': 'auc', 'nthread': 8, 'boosting_type': 'gbdt', 'objective': 'binary', 'learning_rate': 0.1, 'max_bin': 255, 'min_child_weight': 0, 'min_split_gain': 0, 'subsample_freq': 1}\n"
     ]
    },
    {
     "name": "stderr",
     "output_type": "stream",
     "text": [
      "C:\\Users\\ahega\\Anaconda3\\lib\\site-packages\\lightgbm\\basic.py:1036: UserWarning: Using categorical_feature in Dataset.\n",
      "  warnings.warn('Using categorical_feature in Dataset.')\n",
      "C:\\Users\\ahega\\Anaconda3\\lib\\site-packages\\lightgbm\\basic.py:681: UserWarning: categorical_feature in param dict is overrided.\n",
      "  warnings.warn('categorical_feature in param dict is overrided.')\n"
     ]
    },
    {
     "name": "stdout",
     "output_type": "stream",
     "text": [
      "\n",
      "AUROC..... 0.98878938158 .....iter..... 275\n",
      "\n",
      "Next set of params..... {'max_depth': 3, 'num_leaves': 30, 'min_child_samples': 200, 'scale_pos_weight': 400.0, 'subsample': 0.59999999999999998, 'colsample_bytree': 0.90000000000000002, 'metric': 'auc', 'nthread': 8, 'boosting_type': 'gbdt', 'objective': 'binary', 'learning_rate': 0.1, 'max_bin': 255, 'min_child_weight': 0, 'min_split_gain': 0, 'subsample_freq': 1}\n"
     ]
    },
    {
     "name": "stderr",
     "output_type": "stream",
     "text": [
      "C:\\Users\\ahega\\Anaconda3\\lib\\site-packages\\lightgbm\\basic.py:1036: UserWarning: Using categorical_feature in Dataset.\n",
      "  warnings.warn('Using categorical_feature in Dataset.')\n",
      "C:\\Users\\ahega\\Anaconda3\\lib\\site-packages\\lightgbm\\basic.py:681: UserWarning: categorical_feature in param dict is overrided.\n",
      "  warnings.warn('categorical_feature in param dict is overrided.')\n"
     ]
    },
    {
     "name": "stdout",
     "output_type": "stream",
     "text": [
      "\n",
      "AUROC..... 0.987185600393 .....iter..... 72\n",
      "\n",
      "Next set of params..... {'max_depth': 4, 'num_leaves': 30, 'min_child_samples': 57, 'scale_pos_weight': 39.867922308138134, 'subsample': 0.87719608856392939, 'colsample_bytree': 0.87925033994681789, 'metric': 'auc', 'nthread': 8, 'boosting_type': 'gbdt', 'objective': 'binary', 'learning_rate': 0.1, 'max_bin': 255, 'min_child_weight': 0, 'min_split_gain': 0, 'subsample_freq': 1}\n"
     ]
    },
    {
     "name": "stderr",
     "output_type": "stream",
     "text": [
      "C:\\Users\\ahega\\Anaconda3\\lib\\site-packages\\lightgbm\\basic.py:1036: UserWarning: Using categorical_feature in Dataset.\n",
      "  warnings.warn('Using categorical_feature in Dataset.')\n",
      "C:\\Users\\ahega\\Anaconda3\\lib\\site-packages\\lightgbm\\basic.py:681: UserWarning: categorical_feature in param dict is overrided.\n",
      "  warnings.warn('categorical_feature in param dict is overrided.')\n"
     ]
    },
    {
     "name": "stdout",
     "output_type": "stream",
     "text": [
      "\n",
      "AUROC..... 0.988957941617 .....iter..... 114\n",
      "\n",
      "Next set of params..... {'max_depth': 9, 'num_leaves': 6, 'min_child_samples': 156, 'scale_pos_weight': 11.438644815996748, 'subsample': 0.60179563375909695, 'colsample_bytree': 0.86717113693275016, 'metric': 'auc', 'nthread': 8, 'boosting_type': 'gbdt', 'objective': 'binary', 'learning_rate': 0.1, 'max_bin': 255, 'min_child_weight': 0, 'min_split_gain': 0, 'subsample_freq': 1}\n"
     ]
    },
    {
     "name": "stderr",
     "output_type": "stream",
     "text": [
      "C:\\Users\\ahega\\Anaconda3\\lib\\site-packages\\lightgbm\\basic.py:1036: UserWarning: Using categorical_feature in Dataset.\n",
      "  warnings.warn('Using categorical_feature in Dataset.')\n",
      "C:\\Users\\ahega\\Anaconda3\\lib\\site-packages\\lightgbm\\basic.py:681: UserWarning: categorical_feature in param dict is overrided.\n",
      "  warnings.warn('categorical_feature in param dict is overrided.')\n"
     ]
    },
    {
     "name": "stdout",
     "output_type": "stream",
     "text": [
      "\n",
      "AUROC..... 0.988973454238 .....iter..... 241\n",
      "\n",
      "Next set of params..... {'max_depth': 10, 'num_leaves': 22, 'min_child_samples': 54, 'scale_pos_weight': 377.20472628535117, 'subsample': 0.6484545123834019, 'colsample_bytree': 0.6087813462461511, 'metric': 'auc', 'nthread': 8, 'boosting_type': 'gbdt', 'objective': 'binary', 'learning_rate': 0.1, 'max_bin': 255, 'min_child_weight': 0, 'min_split_gain': 0, 'subsample_freq': 1}\n"
     ]
    },
    {
     "name": "stderr",
     "output_type": "stream",
     "text": [
      "C:\\Users\\ahega\\Anaconda3\\lib\\site-packages\\lightgbm\\basic.py:1036: UserWarning: Using categorical_feature in Dataset.\n",
      "  warnings.warn('Using categorical_feature in Dataset.')\n",
      "C:\\Users\\ahega\\Anaconda3\\lib\\site-packages\\lightgbm\\basic.py:681: UserWarning: categorical_feature in param dict is overrided.\n",
      "  warnings.warn('categorical_feature in param dict is overrided.')\n"
     ]
    },
    {
     "name": "stdout",
     "output_type": "stream",
     "text": [
      "\n",
      "AUROC..... 0.987604214334 .....iter..... 67\n",
      "\n",
      "Next set of params..... {'max_depth': 3, 'num_leaves': 8, 'min_child_samples': 61, 'scale_pos_weight': 32.909846490060929, 'subsample': 0.84042850390030521, 'colsample_bytree': 0.61915042121634833, 'metric': 'auc', 'nthread': 8, 'boosting_type': 'gbdt', 'objective': 'binary', 'learning_rate': 0.1, 'max_bin': 255, 'min_child_weight': 0, 'min_split_gain': 0, 'subsample_freq': 1}\n"
     ]
    },
    {
     "name": "stderr",
     "output_type": "stream",
     "text": [
      "C:\\Users\\ahega\\Anaconda3\\lib\\site-packages\\lightgbm\\basic.py:1036: UserWarning: Using categorical_feature in Dataset.\n",
      "  warnings.warn('Using categorical_feature in Dataset.')\n",
      "C:\\Users\\ahega\\Anaconda3\\lib\\site-packages\\lightgbm\\basic.py:681: UserWarning: categorical_feature in param dict is overrided.\n",
      "  warnings.warn('categorical_feature in param dict is overrided.')\n"
     ]
    },
    {
     "name": "stdout",
     "output_type": "stream",
     "text": [
      "\n",
      "AUROC..... 0.989267773209 .....iter..... 161\n",
      "\n",
      "Next set of params..... {'max_depth': 3, 'num_leaves': 11, 'min_child_samples': 199, 'scale_pos_weight': 393.96239195424459, 'subsample': 0.89916979213984849, 'colsample_bytree': 0.67296376861361185, 'metric': 'auc', 'nthread': 8, 'boosting_type': 'gbdt', 'objective': 'binary', 'learning_rate': 0.1, 'max_bin': 255, 'min_child_weight': 0, 'min_split_gain': 0, 'subsample_freq': 1}\n"
     ]
    },
    {
     "name": "stderr",
     "output_type": "stream",
     "text": [
      "C:\\Users\\ahega\\Anaconda3\\lib\\site-packages\\lightgbm\\basic.py:1036: UserWarning: Using categorical_feature in Dataset.\n",
      "  warnings.warn('Using categorical_feature in Dataset.')\n",
      "C:\\Users\\ahega\\Anaconda3\\lib\\site-packages\\lightgbm\\basic.py:681: UserWarning: categorical_feature in param dict is overrided.\n",
      "  warnings.warn('categorical_feature in param dict is overrided.')\n"
     ]
    },
    {
     "name": "stdout",
     "output_type": "stream",
     "text": [
      "\n",
      "AUROC..... 0.98827792919 .....iter..... 173\n",
      "\n",
      "Next set of params..... {'max_depth': 10, 'num_leaves': 6, 'min_child_samples': 200, 'scale_pos_weight': 1.0, 'subsample': 0.90000000000000002, 'colsample_bytree': 0.59999999999999998, 'metric': 'auc', 'nthread': 8, 'boosting_type': 'gbdt', 'objective': 'binary', 'learning_rate': 0.1, 'max_bin': 255, 'min_child_weight': 0, 'min_split_gain': 0, 'subsample_freq': 1}\n"
     ]
    },
    {
     "name": "stderr",
     "output_type": "stream",
     "text": [
      "C:\\Users\\ahega\\Anaconda3\\lib\\site-packages\\lightgbm\\basic.py:1036: UserWarning: Using categorical_feature in Dataset.\n",
      "  warnings.warn('Using categorical_feature in Dataset.')\n",
      "C:\\Users\\ahega\\Anaconda3\\lib\\site-packages\\lightgbm\\basic.py:681: UserWarning: categorical_feature in param dict is overrided.\n",
      "  warnings.warn('categorical_feature in param dict is overrided.')\n"
     ]
    },
    {
     "name": "stdout",
     "output_type": "stream",
     "text": [
      "\n",
      "AUROC..... 0.989430884802 .....iter..... 208\n",
      "\n",
      "Next set of params..... {'max_depth': 3, 'num_leaves': 6, 'min_child_samples': 50, 'scale_pos_weight': 1.0, 'subsample': 0.59999999999999998, 'colsample_bytree': 0.90000000000000002, 'metric': 'auc', 'nthread': 8, 'boosting_type': 'gbdt', 'objective': 'binary', 'learning_rate': 0.1, 'max_bin': 255, 'min_child_weight': 0, 'min_split_gain': 0, 'subsample_freq': 1}\n"
     ]
    },
    {
     "name": "stderr",
     "output_type": "stream",
     "text": [
      "C:\\Users\\ahega\\Anaconda3\\lib\\site-packages\\lightgbm\\basic.py:1036: UserWarning: Using categorical_feature in Dataset.\n",
      "  warnings.warn('Using categorical_feature in Dataset.')\n",
      "C:\\Users\\ahega\\Anaconda3\\lib\\site-packages\\lightgbm\\basic.py:681: UserWarning: categorical_feature in param dict is overrided.\n",
      "  warnings.warn('categorical_feature in param dict is overrided.')\n"
     ]
    },
    {
     "name": "stdout",
     "output_type": "stream",
     "text": [
      "\n",
      "AUROC..... 0.989168717772 .....iter..... 182\n",
      "\n",
      "Next set of params..... {'max_depth': 10, 'num_leaves': 6, 'min_child_samples': 53, 'scale_pos_weight': 381.83292488109743, 'subsample': 0.85764153243107266, 'colsample_bytree': 0.88916634210091106, 'metric': 'auc', 'nthread': 8, 'boosting_type': 'gbdt', 'objective': 'binary', 'learning_rate': 0.1, 'max_bin': 255, 'min_child_weight': 0, 'min_split_gain': 0, 'subsample_freq': 1}\n"
     ]
    },
    {
     "name": "stderr",
     "output_type": "stream",
     "text": [
      "C:\\Users\\ahega\\Anaconda3\\lib\\site-packages\\lightgbm\\basic.py:1036: UserWarning: Using categorical_feature in Dataset.\n",
      "  warnings.warn('Using categorical_feature in Dataset.')\n",
      "C:\\Users\\ahega\\Anaconda3\\lib\\site-packages\\lightgbm\\basic.py:681: UserWarning: categorical_feature in param dict is overrided.\n",
      "  warnings.warn('categorical_feature in param dict is overrided.')\n"
     ]
    },
    {
     "name": "stdout",
     "output_type": "stream",
     "text": [
      "\n",
      "AUROC..... 0.988745883563 .....iter..... 262\n",
      "\n",
      "Next set of params..... {'max_depth': 3, 'num_leaves': 30, 'min_child_samples': 161, 'scale_pos_weight': 5.491106380862341, 'subsample': 0.85128443895559758, 'colsample_bytree': 0.88061150789423293, 'metric': 'auc', 'nthread': 8, 'boosting_type': 'gbdt', 'objective': 'binary', 'learning_rate': 0.1, 'max_bin': 255, 'min_child_weight': 0, 'min_split_gain': 0, 'subsample_freq': 1}\n"
     ]
    },
    {
     "name": "stderr",
     "output_type": "stream",
     "text": [
      "C:\\Users\\ahega\\Anaconda3\\lib\\site-packages\\lightgbm\\basic.py:1036: UserWarning: Using categorical_feature in Dataset.\n",
      "  warnings.warn('Using categorical_feature in Dataset.')\n",
      "C:\\Users\\ahega\\Anaconda3\\lib\\site-packages\\lightgbm\\basic.py:681: UserWarning: categorical_feature in param dict is overrided.\n",
      "  warnings.warn('categorical_feature in param dict is overrided.')\n"
     ]
    },
    {
     "name": "stdout",
     "output_type": "stream",
     "text": [
      "\n",
      "AUROC..... 0.988822063292 .....iter..... 239\n",
      "\n",
      "Next set of params..... {'max_depth': 10, 'num_leaves': 30, 'min_child_samples': 81, 'scale_pos_weight': 373.6674066204655, 'subsample': 0.8706241410832416, 'colsample_bytree': 0.61226117246578848, 'metric': 'auc', 'nthread': 8, 'boosting_type': 'gbdt', 'objective': 'binary', 'learning_rate': 0.1, 'max_bin': 255, 'min_child_weight': 0, 'min_split_gain': 0, 'subsample_freq': 1}\n"
     ]
    },
    {
     "name": "stderr",
     "output_type": "stream",
     "text": [
      "C:\\Users\\ahega\\Anaconda3\\lib\\site-packages\\lightgbm\\basic.py:1036: UserWarning: Using categorical_feature in Dataset.\n",
      "  warnings.warn('Using categorical_feature in Dataset.')\n",
      "C:\\Users\\ahega\\Anaconda3\\lib\\site-packages\\lightgbm\\basic.py:681: UserWarning: categorical_feature in param dict is overrided.\n",
      "  warnings.warn('categorical_feature in param dict is overrided.')\n"
     ]
    },
    {
     "name": "stdout",
     "output_type": "stream",
     "text": [
      "\n",
      "AUROC..... 0.98780272067 .....iter..... 115\n",
      "\n",
      "Next set of params..... {'max_depth': 3, 'num_leaves': 6, 'min_child_samples': 50, 'scale_pos_weight': 1.0, 'subsample': 0.59999999999999998, 'colsample_bytree': 0.59999999999999998, 'metric': 'auc', 'nthread': 8, 'boosting_type': 'gbdt', 'objective': 'binary', 'learning_rate': 0.1, 'max_bin': 255, 'min_child_weight': 0, 'min_split_gain': 0, 'subsample_freq': 1}\n"
     ]
    },
    {
     "name": "stderr",
     "output_type": "stream",
     "text": [
      "C:\\Users\\ahega\\Anaconda3\\lib\\site-packages\\lightgbm\\basic.py:1036: UserWarning: Using categorical_feature in Dataset.\n",
      "  warnings.warn('Using categorical_feature in Dataset.')\n",
      "C:\\Users\\ahega\\Anaconda3\\lib\\site-packages\\lightgbm\\basic.py:681: UserWarning: categorical_feature in param dict is overrided.\n",
      "  warnings.warn('categorical_feature in param dict is overrided.')\n"
     ]
    }
   ],
   "source": [
    "import pandas as pd\n",
    "import numpy as np\n",
    "import xgboost as xgb\n",
    "import lightgbm as lgb\n",
    "import gc\n",
    "\n",
    "from skopt.space import Real, Integer\n",
    "from skopt.utils import use_named_args\n",
    "import itertools\n",
    "from sklearn.metrics import roc_auc_score\n",
    "from skopt import gp_minimize\n",
    "%matplotlib inline\n",
    "\n",
    "def objective(values):\n",
    "    params = {'max_depth': values[0], \n",
    "          'num_leaves': values[1], \n",
    "          'min_child_samples': values[2], \n",
    "          'scale_pos_weight': values[3],\n",
    "            'subsample': values[4],\n",
    "            'colsample_bytree': values[5],\n",
    "             'metric':'auc',\n",
    "             'nthread': 8,\n",
    "             'boosting_type': 'gbdt',\n",
    "             'objective': 'binary',\n",
    "             'learning_rate': 0.1,\n",
    "             'max_bin': 255,\n",
    "             'min_child_weight': 0,\n",
    "             'min_split_gain': 0,\n",
    "             'subsample_freq': 1}\n",
    "    \n",
    "\n",
    "    print('\\nNext set of params.....',params)\n",
    "    \n",
    "    feature_set = ['app','device','os','channel']\n",
    "    categorical = ['app','device','os','channel']\n",
    "    \n",
    "    \n",
    "    early_stopping_rounds = 50\n",
    "    num_boost_round       = 1000\n",
    "    \n",
    "        # Fit model on feature_set and calculate validation AUROC\n",
    "    xgtrain = lgb.Dataset(train[feature_set].values, label=y_train,feature_name=feature_set,\n",
    "                           categorical_feature=categorical)\n",
    "    xgvalid = lgb.Dataset(val[feature_set].values, label=y_val,feature_name=feature_set,\n",
    "                          categorical_feature=categorical)\n",
    "    \n",
    "    evals_results = {}\n",
    "    model_lgb     = lgb.train(params,xgtrain,valid_sets=[xgtrain, xgvalid], \n",
    "                              valid_names=['train','valid'], \n",
    "                               evals_result=evals_results, \n",
    "                               num_boost_round=num_boost_round,\n",
    "                                early_stopping_rounds=early_stopping_rounds,\n",
    "                               verbose_eval=None, feval=None)\n",
    "    \n",
    "    auc = -roc_auc_score(y_val, model_lgb.predict(val[model_lgb.feature_name()]))\n",
    "    \n",
    "    print('\\nAUROC.....',-auc,\".....iter.....\", model_lgb.current_iteration())\n",
    "    \n",
    "    gc.collect()\n",
    "    \n",
    "    return  auc\n",
    "\n",
    "TRAINING_SIZE = 3000000\n",
    "TEST_SIZE = 500000\n",
    "\n",
    "# Load data\n",
    "train = pd.read_csv(\n",
    "    '../input/train.csv', \n",
    "    skiprows=range(1,184903891-TRAINING_SIZE-TEST_SIZE), \n",
    "    nrows=TRAINING_SIZE,\n",
    "    parse_dates=['click_time']\n",
    ")\n",
    "\n",
    "val = pd.read_csv(\n",
    "    '../input/train.csv', \n",
    "    skiprows=range(1,184903891-TEST_SIZE), \n",
    "    nrows=TEST_SIZE,\n",
    "    parse_dates=['click_time']\n",
    ")\n",
    "\n",
    "# Split into X and y\n",
    "y_train = train['is_attributed']\n",
    "y_val = val['is_attributed']\n",
    "\n",
    "# from that dimension (`'log-uniform'` for the learning rate)\n",
    "space  = [Integer(3, 10, name='max_depth'),\n",
    "          Integer(6, 30, name='num_leaves'),\n",
    "          Integer(50, 200, name='min_child_samples'),\n",
    "          Real(1, 400,  name='scale_pos_weight'),\n",
    "          Real(0.6, 0.9, name='subsample'),\n",
    "          Real(0.6, 0.9, name='colsample_bytree'),\n",
    "          Real(0.05, 0.3, name='learning_rate')\n",
    "         ]\n",
    "\n",
    "res_gp = gp_minimize(objective, space, n_calls=30,\n",
    "                     random_state=987,n_random_starts=10)\n",
    "\n",
    "print(\"Best score=%.4f\" % res_gp.fun)\n",
    "\n",
    "from skopt.plots import plot_convergence\n",
    "\n",
    "plot_convergence(res_gp)"
   ]
  },
  {
   "cell_type": "code",
   "execution_count": null,
   "metadata": {},
   "outputs": [],
   "source": [
    "import pandas as pd\n",
    "import numpy as np\n",
    "import xgboost as xgb\n",
    "import lightgbm as lgb\n",
    "import gc\n",
    "\n",
    "from skopt.space import Real, Integer\n",
    "from skopt.utils import use_named_args\n",
    "import itertools\n",
    "from sklearn.metrics import roc_auc_score\n",
    "from skopt import gp_minimize\n",
    "%matplotlib inline\n",
    "\n",
    "def objective(values):\n",
    "    params = {'max_depth': values[0], \n",
    "          'num_leaves': values[1], \n",
    "          'min_child_samples': values[2], \n",
    "          'scale_pos_weight': values[3],\n",
    "            'subsample': values[4],\n",
    "            'colsample_bytree': values[5],\n",
    "             'metric':'auc',\n",
    "             'nthread': 8,\n",
    "             'boosting_type': 'goss',\n",
    "             'objective': 'binary',\n",
    "             'learning_rate': values[6],\n",
    "             'max_bin': 100,\n",
    "             'min_child_weight': 0,\n",
    "             'min_split_gain': 0,\n",
    "             'subsample_freq': 1}\n",
    "    \n",
    "\n",
    "    print('\\nNext set of params.....',params)\n",
    "    \n",
    "    feature_set = ['app','device','os','channel']\n",
    "    categorical = ['app','device','os','channel']\n",
    "    \n",
    "    \n",
    "    early_stopping_rounds = 50\n",
    "    num_boost_round       = 1000\n",
    "    \n",
    "        # Fit model on feature_set and calculate validation AUROC\n",
    "    xgtrain = lgb.Dataset(train[feature_set].values, label=y_train,feature_name=feature_set,\n",
    "                           categorical_feature=categorical)\n",
    "    xgvalid = lgb.Dataset(val[feature_set].values, label=y_val,feature_name=feature_set,\n",
    "                          categorical_feature=categorical)\n",
    "    \n",
    "    evals_results = {}\n",
    "    model_lgb     = lgb.train(params,xgtrain,valid_sets=[xgtrain, xgvalid], \n",
    "                              valid_names=['train','valid'], \n",
    "                               evals_result=evals_results, \n",
    "                               num_boost_round=num_boost_round,\n",
    "                                early_stopping_rounds=early_stopping_rounds,\n",
    "                               verbose_eval=None, feval=None)\n",
    "    \n",
    "    auc = -roc_auc_score(y_val, model_lgb.predict(val[model_lgb.feature_name()]))\n",
    "    \n",
    "    print('\\nAUROC.....',-auc,\".....iter.....\", model_lgb.current_iteration())\n",
    "    \n",
    "    gc.collect()\n",
    "    \n",
    "    return  auc\n",
    "\n",
    "TRAINING_SIZE = 300000\n",
    "TEST_SIZE = 50000\n",
    "\n",
    "# Load data\n",
    "train = pd.read_csv(\n",
    "    '../input/train.csv', \n",
    "    skiprows=range(1,184903891-TRAINING_SIZE-TEST_SIZE), \n",
    "    nrows=TRAINING_SIZE,\n",
    "    parse_dates=['click_time']\n",
    ")\n",
    "\n",
    "val = pd.read_csv(\n",
    "    '../input/train.csv', \n",
    "    skiprows=range(1,184903891-TEST_SIZE), \n",
    "    nrows=TEST_SIZE,\n",
    "    parse_dates=['click_time']\n",
    ")\n",
    "\n",
    "# Split into X and y\n",
    "y_train = train['is_attributed']\n",
    "y_val = val['is_attributed']\n",
    "\n",
    "# from that dimension (`'log-uniform'` for the learning rate)\n",
    "space  = [Integer(3, 10, name='max_depth'),\n",
    "          Integer(6, 30, name='num_leaves'),\n",
    "          Integer(50, 200, name='min_child_samples'),\n",
    "          Real(1, 400,  name='scale_pos_weight'),\n",
    "          Real(0.6, 0.9, name='subsample'),\n",
    "          Real(0.6, 0.9, name='colsample_bytree'),\n",
    "          Real(0.05, 0.3, name='learning_rate')\n",
    "         ]\n",
    "\n",
    "res_gp = gp_minimize(objective, space, n_calls=30,\n",
    "                     random_state=987,n_random_starts=10)\n",
    "\n",
    "print(\"Best score=%.4f\" % res_gp.fun)\n",
    "\n",
    "from skopt.plots import plot_convergence\n",
    "\n",
    "plot_convergence(res_gp)"
   ]
  }
 ],
 "metadata": {
  "kernelspec": {
   "display_name": "Python 3",
   "language": "python",
   "name": "python3"
  },
  "language_info": {
   "codemirror_mode": {
    "name": "ipython",
    "version": 3
   },
   "file_extension": ".py",
   "mimetype": "text/x-python",
   "name": "python",
   "nbconvert_exporter": "python",
   "pygments_lexer": "ipython3",
   "version": "3.6.5"
  }
 },
 "nbformat": 4,
 "nbformat_minor": 2
}
