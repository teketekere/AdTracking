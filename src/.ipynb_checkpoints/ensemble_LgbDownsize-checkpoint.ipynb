{
 "cells": [
  {
   "cell_type": "code",
   "execution_count": null,
   "metadata": {},
   "outputs": [
    {
     "name": "stdout",
     "output_type": "stream",
     "text": [
      "(18790469, 2)\n",
      "(18790469, 2)\n",
      "(18790469, 2)\n",
      "(18790469, 2)\n"
     ]
    }
   ],
   "source": [
    "import pandas as pd\n",
    "import numpy as np\n",
    "import gc\n",
    "\n",
    "tag = 'is_attributed'\n",
    "idtag = 'click_id'\n",
    "files = ['./sub_it_2018_0418_2117_33.csv/sub_it_2018_0418_2117_33.csv',\n",
    "         './sub_it_2018_0418_2211_40.csv/sub_it_2018_0418_2211_40.csv',\n",
    "         './sub_it_2018_0418_2257_22.csv/sub_it_2018_0418_2257_22.csv',\n",
    "         './sub_it_2018_0418_2341_15.csv/sub_it_2018_0418_2341_15.csv',\n",
    "         './sub_it_2018_0419_0045_59.csv/sub_it_2018_0419_0045_59.csv',\n",
    "         './sub_it_2018_0419_0848_40.csv/sub_it_2018_0419_0848_40.csv',\n",
    "         './sub_it_2018_0419_0931_24.csv/sub_it_2018_0419_0931_24.csv',\n",
    "         './sub_it_2018_0419_1010_10.csv/sub_it_2018_0419_1010_10.csv',\n",
    "         './sub_it_2018_0419_1049_50.csv/sub_it_2018_0419_1049_50.csv',\n",
    "         './sub_it_2018_0419_1131_33.csv/sub_it_2018_0419_1131_33.csv']\n",
    "\n",
    "datas = [pd.read_csv(file, usecols=[tag]) for file in files]\n",
    "click_id = pd.read_csv(files[0], usecols=[idtag])\n",
    "\n",
    "newsub = pd.DataFrame()\n",
    "newsub[idtag] = click_id[idtag]\n",
    "newsubexp = pd.DataFrame()\n",
    "newsubexp[idtag] = click_id[idtag]\n",
    "\n",
    "ensembleRate = 0.1\n",
    "newsub[tag] = np.zeros_like(newsub.shape[0])\n",
    "for data in datas:\n",
    "    newsub[tag] += ensembleRate * data[tag]\n",
    "print(newsub.shape)\n",
    "newsubexp[tag] = np.zeros_like(newsubexp.shape[0])\n",
    "for data in datas:\n",
    "    newsubexp[tag] += ensembleRate * np.log(data[tag])\n",
    "newsubexp[tag] = np.exp(newsubexp[tag])\n",
    "print(newsubexp.shape)\n",
    "\n",
    "from datetime import datetime as dt\n",
    "datetime = dt.now().strftime('_%Y_%m%d_%H%M_%S')\n",
    "filename = '../sub/ensembleLgbDownsize_' + datetime + '.csv'\n",
    "newsub.to_csv(filename, index=False)\n",
    "filename = '../sub/ensembleExpLgbDownsize_' + datetime + '.csv'\n",
    "newsubexp.to_csv(filename, index=False)\n",
    "\n",
    "del datas \n",
    "gc.collect()\n",
    "\n",
    "newsubsub = pd.DataFrame()\n",
    "newsubsub[idtag] = click_id[idtag]\n",
    "newsubsubexp = pd.DataFrame()\n",
    "newsubsubexp[idtag] = click_id[idtag]\n",
    "\n",
    "ensembleRate = 0.5\n",
    "newsubsub[tag] = ensembleRate * (newsub[tag] + newsubexp[tag])\n",
    "print(newsubsub.shape)\n",
    "newsubsubexp[tag] = np.exp(ensembleRate * (np.log(newsub[tag]) + np.log(newsubexp[tag])))\n",
    "print(newsubsubexp.shape)\n",
    "\n",
    "from datetime import datetime as dt\n",
    "datetime = dt.now().strftime('_%Y_%m%d_%H%M_%S')\n",
    "filename = '../sub/ensembleEnsembleLgbDownsize_' + datetime + '.csv'\n",
    "newsubsub.to_csv(filename, index=False)\n",
    "filename = '../sub/ensembleEnsembleExpLgbDownsize_' + datetime + '.csv'\n",
    "newsubsubexp.to_csv(filename, index=False)\n",
    "print('done')"
   ]
  },
  {
   "cell_type": "code",
   "execution_count": null,
   "metadata": {},
   "outputs": [],
   "source": []
  }
 ],
 "metadata": {
  "kernelspec": {
   "display_name": "Python 3",
   "language": "python",
   "name": "python3"
  },
  "language_info": {
   "codemirror_mode": {
    "name": "ipython",
    "version": 3
   },
   "file_extension": ".py",
   "mimetype": "text/x-python",
   "name": "python",
   "nbconvert_exporter": "python",
   "pygments_lexer": "ipython3",
   "version": "3.6.5"
  }
 },
 "nbformat": 4,
 "nbformat_minor": 2
}
