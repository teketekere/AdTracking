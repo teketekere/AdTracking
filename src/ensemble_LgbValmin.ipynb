{
 "cells": [
  {
   "cell_type": "code",
   "execution_count": 1,
   "metadata": {},
   "outputs": [
    {
     "name": "stdout",
     "output_type": "stream",
     "text": [
      "(18790469, 2)\n",
      "(18790469, 2)\n",
      "done\n"
     ]
    }
   ],
   "source": [
    "import pandas as pd\n",
    "import numpy as np\n",
    "import gc\n",
    "\n",
    "tag = 'is_attributed'\n",
    "idtag = 'click_id'\n",
    "files = ['./sub_it_Valmin_2018_0422_2346_12.csv/sub_it_Valmin_2018_0422_2346_12.csv',\n",
    "         './sub_it_Valmin_2018_0423_0023_13.csv/sub_it_Valmin_2018_0423_0023_13.csv',\n",
    "         './sub_it_Valmin_2018_0423_0053_18.csv/sub_it_Valmin_2018_0423_0053_18.csv',\n",
    "         './sub_it_Valmin_2018_0423_0121_21.csv/sub_it_Valmin_2018_0423_0121_21.csv',\n",
    "         './sub_it_Valmin_2018_0423_0149_08.csv/sub_it_Valmin_2018_0423_0149_08.csv',\n",
    "         './sub_it_Valmin_2018_0423_0217_01.csv/sub_it_Valmin_2018_0423_0217_01.csv',\n",
    "         './sub_it_Valmin_2018_0423_0253_06.csv/sub_it_Valmin_2018_0423_0253_06.csv',\n",
    "         './sub_it_Valmin_2018_0423_0323_29.csv/sub_it_Valmin_2018_0423_0323_29.csv',\n",
    "         './sub_it_Valmin_2018_0423_0352_28.csv/sub_it_Valmin_2018_0423_0352_28.csv']\n",
    "\n",
    "datas = [pd.read_csv(file, usecols=[tag]) for file in files]\n",
    "click_id = pd.read_csv(files[0], usecols=[idtag])\n",
    "\n",
    "newsub = pd.DataFrame()\n",
    "newsub[idtag] = click_id[idtag]\n",
    "newsubexp = pd.DataFrame()\n",
    "newsubexp[idtag] = click_id[idtag]\n",
    "\n",
    "ensembleRate = 1.0 / 9.0\n",
    "newsub[tag] = np.zeros_like(newsub.shape[0])\n",
    "for data in datas:\n",
    "    newsub[tag] += ensembleRate * data[tag]\n",
    "\n",
    "newsubexp[tag] = np.exp(ensembleRate * (np.log(datas[0][tag]) + np.log(datas[1][tag]) + np.log(datas[2][tag]) \\\n",
    "                                        + np.log(datas[3][tag]) + np.log(datas[4][tag]) + np.log(datas[5][tag]) \\\n",
    "                                        + np.log(datas[6][tag]) + np.log(datas[7][tag]) + np.log(datas[8][tag])\n",
    "                                              ))\n",
    "\n",
    "\n",
    "from datetime import datetime as dt\n",
    "datetime = dt.now().strftime('_%Y_%m%d_%H%M_%S')\n",
    "filename = '../sub/ensembleLgbValmin_' + datetime + '.csv'\n",
    "newsub.to_csv(filename, index=False)\n",
    "filename = '../sub/ensembleExpLgbValmin_' + datetime + '.csv'\n",
    "newsubexp.to_csv(filename, index=False)\n",
    "\n",
    "del datas \n",
    "gc.collect()\n",
    "\n",
    "newsubsub = pd.DataFrame()\n",
    "newsubsub[idtag] = click_id[idtag]\n",
    "newsubsubexp = pd.DataFrame()\n",
    "newsubsubexp[idtag] = click_id[idtag]\n",
    "\n",
    "ensembleRate = 0.5\n",
    "newsubsub[tag] = ensembleRate * (newsub[tag] + newsubexp[tag])\n",
    "print(newsubsub.shape)\n",
    "newsubsubexp[tag] = np.exp(ensembleRate * (np.log(newsub[tag]) + np.log(newsubexp[tag])))\n",
    "print(newsubsubexp.shape)\n",
    "\n",
    "from datetime import datetime as dt\n",
    "datetime = dt.now().strftime('_%Y_%m%d_%H%M_%S')\n",
    "filename = '../sub/ensembleEnsembleLgbValmin_' + datetime + '.csv'\n",
    "newsubsub.to_csv(filename, index=False)\n",
    "filename = '../sub/ensembleEnsembleExpLgbValmin_' + datetime + '.csv'\n",
    "newsubsubexp.to_csv(filename, index=False)\n",
    "print('done')"
   ]
  },
  {
   "cell_type": "code",
   "execution_count": null,
   "metadata": {},
   "outputs": [],
   "source": []
  }
 ],
 "metadata": {
  "kernelspec": {
   "display_name": "Python 3",
   "language": "python",
   "name": "python3"
  },
  "language_info": {
   "codemirror_mode": {
    "name": "ipython",
    "version": 3
   },
   "file_extension": ".py",
   "mimetype": "text/x-python",
   "name": "python",
   "nbconvert_exporter": "python",
   "pygments_lexer": "ipython3",
   "version": "3.6.5"
  }
 },
 "nbformat": 4,
 "nbformat_minor": 2
}
