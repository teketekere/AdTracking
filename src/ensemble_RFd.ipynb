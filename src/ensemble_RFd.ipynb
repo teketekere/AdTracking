{
 "cells": [
  {
   "cell_type": "code",
   "execution_count": 2,
   "metadata": {},
   "outputs": [
    {
     "name": "stdout",
     "output_type": "stream",
     "text": [
      "(18790469, 2)\n"
     ]
    },
    {
     "name": "stderr",
     "output_type": "stream",
     "text": [
      "C:\\Users\\ahega\\Anaconda3\\lib\\site-packages\\ipykernel_launcher.py:46: RuntimeWarning: divide by zero encountered in log\n"
     ]
    },
    {
     "name": "stdout",
     "output_type": "stream",
     "text": [
      "(18790469, 2)\n",
      "(18790469, 2)\n"
     ]
    },
    {
     "name": "stderr",
     "output_type": "stream",
     "text": [
      "C:\\Users\\ahega\\Anaconda3\\lib\\site-packages\\ipykernel_launcher.py:67: RuntimeWarning: divide by zero encountered in log\n"
     ]
    },
    {
     "name": "stdout",
     "output_type": "stream",
     "text": [
      "(18790469, 2)\n",
      "done\n"
     ]
    }
   ],
   "source": [
    "import pandas as pd\n",
    "import numpy as np\n",
    "import gc\n",
    "\n",
    "tag = 'is_attributed'\n",
    "idtag = 'click_id'\n",
    "files = ['./sub_rf_2018_0420_0431_02.csv',\n",
    "         './sub_rf_2018_0420_0953_09.csv',\n",
    "         './sub_rf_2018_0420_1520_52.csv',\n",
    "         './sub_rf_2018_0420_2023_23.csv', \n",
    "         './sub_rf_2018_0421_0139_55.csv',\n",
    "         './sub_rf_2018_0421_0656_36.csv',\n",
    "         './sub_rf_2018_0421_1223_03.csv',\n",
    "         './sub_rf_2018_0421_1731_55.csv',\n",
    "         './sub_rf_2018_0421_2250_31.csv',\n",
    "         './sub_rf_2018_0422_0408_21.csv',\n",
    "         './sub_rf_2018_0422_0941_17.csv',\n",
    "         './sub_rf_2018_0422_1505_41.csv']\n",
    "\n",
    "datas = [pd.read_csv(file, usecols=[tag]) for file in files]\n",
    "click_id = pd.read_csv(files[0], usecols=[idtag])\n",
    "\n",
    "newsub = pd.DataFrame()\n",
    "newsub[idtag] = click_id[idtag]\n",
    "newsubexp = pd.DataFrame()\n",
    "newsubexp[idtag] = click_id[idtag]\n",
    "\n",
    "ensembleRate = 1.0 / 12.0\n",
    "newsub[tag] = np.zeros_like(newsub.shape[0])\n",
    "for data in datas:\n",
    "    newsub[tag] += ensembleRate * data[tag]\n",
    "print(newsub.shape)\n",
    "newsubexp[tag] = np.zeros_like(newsubexp.shape[0])\n",
    "newsubexp[tag] = np.exp(ensembleRate * \n",
    "                        (np.log(datas[0][tag])\n",
    "                        + np.log(datas[1][tag])\n",
    "                        + np.log(datas[2][tag])\n",
    "                        + np.log(datas[3][tag])\n",
    "                        + np.log(datas[4][tag])\n",
    "                        + np.log(datas[5][tag])\n",
    "                        + np.log(datas[6][tag])\n",
    "                        + np.log(datas[7][tag])\n",
    "                        + np.log(datas[8][tag])\n",
    "                        + np.log(datas[9][tag])\n",
    "                        + np.log(datas[10][tag])\n",
    "                        + np.log(datas[11][tag])))\n",
    "print(newsubexp.shape)\n",
    "\n",
    "from datetime import datetime as dt\n",
    "datetime = dt.now().strftime('_%Y_%m%d_%H%M_%S')\n",
    "filename = '../sub/ensembleRF_' + datetime + '.csv'\n",
    "newsub.to_csv(filename, index=False)\n",
    "filename = '../sub/ensembleExpRF_' + datetime + '.csv'\n",
    "newsubexp.to_csv(filename, index=False)\n",
    "\n",
    "del datas \n",
    "gc.collect()\n",
    "\n",
    "newsubsub = pd.DataFrame()\n",
    "newsubsub[idtag] = click_id[idtag]\n",
    "newsubsubexp = pd.DataFrame()\n",
    "newsubsubexp[idtag] = click_id[idtag]\n",
    "\n",
    "ensembleRate = 0.5\n",
    "newsubsub[tag] = ensembleRate * (newsub[tag] + newsubexp[tag])\n",
    "print(newsubsub.shape)\n",
    "newsubsubexp[tag] = np.exp(ensembleRate * (np.log(newsub[tag]) + np.log(newsubexp[tag])))\n",
    "print(newsubsubexp.shape)\n",
    "\n",
    "from datetime import datetime as dt\n",
    "datetime = dt.now().strftime('_%Y_%m%d_%H%M_%S')\n",
    "filename = '../sub/ensembleEnsembleRF_' + datetime + '.csv'\n",
    "newsubsub.to_csv(filename, index=False)\n",
    "filename = '../sub/ensembleEnsembleExpRF_' + datetime + '.csv'\n",
    "newsubsubexp.to_csv(filename, index=False)\n",
    "print('done')"
   ]
  },
  {
   "cell_type": "code",
   "execution_count": null,
   "metadata": {},
   "outputs": [],
   "source": []
  }
 ],
 "metadata": {
  "kernelspec": {
   "display_name": "Python 3",
   "language": "python",
   "name": "python3"
  },
  "language_info": {
   "codemirror_mode": {
    "name": "ipython",
    "version": 3
   },
   "file_extension": ".py",
   "mimetype": "text/x-python",
   "name": "python",
   "nbconvert_exporter": "python",
   "pygments_lexer": "ipython3",
   "version": "3.6.5"
  }
 },
 "nbformat": 4,
 "nbformat_minor": 2
}
