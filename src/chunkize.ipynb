{
 "cells": [
  {
   "cell_type": "code",
   "execution_count": 3,
   "metadata": {},
   "outputs": [],
   "source": [
    "import numpy as np \n",
    "import pandas as pd \n",
    "import datetime\n",
    "import os\n",
    "import time\n",
    "import matplotlib.pyplot as plt\n",
    "import seaborn as sns\n",
    "import gc\n",
    "%matplotlib inline\n",
    "\n",
    "dtypes = {\n",
    "        'ip'            : 'uint32',\n",
    "        'app'           : 'uint16',\n",
    "        'device'        : 'uint16',\n",
    "        'os'            : 'uint16',\n",
    "        'channel'       : 'uint16',\n",
    "        'is_attributed' : 'uint8',\n",
    "        }"
   ]
  },
  {
   "cell_type": "code",
   "execution_count": 4,
   "metadata": {},
   "outputs": [],
   "source": [
    "#set up an empty dataframe\n",
    "df_converted = pd.DataFrame()\n",
    "\n",
    "#we are going to work with chunks of size 1 million rows\n",
    "chunksize = 10 ** 6\n",
    "\n",
    "#in each chunk, filter for values that have 'is_attributed'==1, and merge these values into one dataframe\n",
    "for chunk in pd.read_csv('../input/train.csv', chunksize=chunksize, dtype=dtypes):\n",
    "    filtered = (chunk[(np.where(chunk['is_attributed']==1, True, False))])\n",
    "    df_converted = pd.concat([df_converted, filtered], ignore_index=True, )"
   ]
  },
  {
   "cell_type": "code",
   "execution_count": 6,
   "metadata": {},
   "outputs": [
    {
     "name": "stdout",
     "output_type": "stream",
     "text": [
      "<class 'pandas.core.frame.DataFrame'>\n",
      "RangeIndex: 456846 entries, 0 to 456845\n",
      "Data columns (total 8 columns):\n",
      "ip                 456846 non-null uint32\n",
      "app                456846 non-null uint16\n",
      "device             456846 non-null uint16\n",
      "os                 456846 non-null uint16\n",
      "channel            456846 non-null uint16\n",
      "click_time         456846 non-null object\n",
      "attributed_time    456846 non-null object\n",
      "is_attributed      456846 non-null uint8\n",
      "dtypes: object(2), uint16(4), uint32(1), uint8(1)\n",
      "memory usage: 12.6+ MB\n"
     ]
    }
   ],
   "source": [
    "df_converted.info()"
   ]
  },
  {
   "cell_type": "code",
   "execution_count": null,
   "metadata": {},
   "outputs": [],
   "source": []
  }
 ],
 "metadata": {
  "kernelspec": {
   "display_name": "Python 3",
   "language": "python",
   "name": "python3"
  },
  "language_info": {
   "codemirror_mode": {
    "name": "ipython",
    "version": 3
   },
   "file_extension": ".py",
   "mimetype": "text/x-python",
   "name": "python",
   "nbconvert_exporter": "python",
   "pygments_lexer": "ipython3",
   "version": "3.6.4"
  }
 },
 "nbformat": 4,
 "nbformat_minor": 2
}
