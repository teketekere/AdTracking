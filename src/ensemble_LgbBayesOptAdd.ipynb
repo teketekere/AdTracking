{
 "cells": [
  {
   "cell_type": "code",
   "execution_count": 1,
   "metadata": {},
   "outputs": [
    {
     "name": "stdout",
     "output_type": "stream",
     "text": [
      "(18790469, 2)\n",
      "(18790469, 2)\n",
      "done\n"
     ]
    }
   ],
   "source": [
    "import pandas as pd\n",
    "import numpy as np\n",
    "import gc\n",
    "\n",
    "tag = 'is_attributed'\n",
    "idtag = 'click_id'\n",
    "files = ['./sub_it_BayesOpt_2018_0425_0007_53.csv/sub_it_BayesOpt_2018_0425_0007_53.csv',\n",
    "         './sub_it_BayesOpt_2018_0425_0102_54.csv/sub_it_BayesOpt_2018_0425_0102_54.csv',\n",
    "         './sub_it_BayesOpt_2018_0425_0148_10.csv/sub_it_BayesOpt_2018_0425_0148_10.csv',\n",
    "         './sub_it_BayesOpt_2018_0425_0235_04.csv/sub_it_BayesOpt_2018_0425_0235_04.csv']\n",
    "\n",
    "datas = [pd.read_csv(file, usecols=[tag]) for file in files]\n",
    "click_id = pd.read_csv(files[0], usecols=[idtag])\n",
    "\n",
    "newsub = pd.DataFrame()\n",
    "newsub[idtag] = click_id[idtag]\n",
    "newsubexp = pd.DataFrame()\n",
    "newsubexp[idtag] = click_id[idtag]\n",
    "\n",
    "ensembleRate = 1.0 / 4.0\n",
    "er = [0.2, 0.2, 0.2 , 0.4]\n",
    "newsub[tag] = er[0] * datas[0][tag] + er[1] * datas[1][tag] + er[2] * datas[2][tag] + er[3] * datas[3][tag]\n",
    "newsubexp[tag] = np.exp(er[0] * np.log(datas[0][tag]) + er[1] * np.log(datas[1][tag]) + er[2] * np.log(datas[2][tag]) \\\n",
    "                                        + er[3] * np.log(datas[3][tag]))\n",
    "\n",
    "\n",
    "from datetime import datetime as dt\n",
    "datetime = dt.now().strftime('_%Y_%m%d_%H%M_%S')\n",
    "filename = '../sub/ensembleLgbBayesAdd_' + datetime + '.csv'\n",
    "newsub.to_csv(filename, index=False)\n",
    "filename = '../sub/ensembleExpLgbBayesAdd_' + datetime + '.csv'\n",
    "newsubexp.to_csv(filename, index=False)\n",
    "\n",
    "del datas \n",
    "gc.collect()\n",
    "\n",
    "newsubsub = pd.DataFrame()\n",
    "newsubsub[idtag] = click_id[idtag]\n",
    "newsubsubexp = pd.DataFrame()\n",
    "newsubsubexp[idtag] = click_id[idtag]\n",
    "\n",
    "ensembleRate = 0.5\n",
    "newsubsub[tag] = ensembleRate * (newsub[tag] + newsubexp[tag])\n",
    "print(newsubsub.shape)\n",
    "newsubsubexp[tag] = np.exp(ensembleRate * (np.log(newsub[tag]) + np.log(newsubexp[tag])))\n",
    "print(newsubsubexp.shape)\n",
    "\n",
    "from datetime import datetime as dt\n",
    "datetime = dt.now().strftime('_%Y_%m%d_%H%M_%S')\n",
    "filename = '../sub/ensembleEnsembleLgbBayesAdd_' + datetime + '.csv'\n",
    "newsubsub.to_csv(filename, index=False)\n",
    "filename = '../sub/ensembleEnsembleExpLgbBayesAdd_' + datetime + '.csv'\n",
    "newsubsubexp.to_csv(filename, index=False)\n",
    "print('done')"
   ]
  },
  {
   "cell_type": "code",
   "execution_count": null,
   "metadata": {},
   "outputs": [],
   "source": []
  }
 ],
 "metadata": {
  "kernelspec": {
   "display_name": "Python 3",
   "language": "python",
   "name": "python3"
  },
  "language_info": {
   "codemirror_mode": {
    "name": "ipython",
    "version": 3
   },
   "file_extension": ".py",
   "mimetype": "text/x-python",
   "name": "python",
   "nbconvert_exporter": "python",
   "pygments_lexer": "ipython3",
   "version": "3.6.5"
  }
 },
 "nbformat": 4,
 "nbformat_minor": 2
}
